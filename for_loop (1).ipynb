{
 "cells": [
  {
   "cell_type": "markdown",
   "id": "fe02d94a-da56-4ff7-9807-5f64195700fc",
   "metadata": {},
   "source": [
    "**For Loop with Strings**"
   ]
  },
  {
   "cell_type": "code",
   "execution_count": 5,
   "id": "3535dfe3-4516-43e6-87d4-cdf4b5f85c82",
   "metadata": {},
   "outputs": [
    {
     "name": "stdout",
     "output_type": "stream",
     "text": [
      "\n",
      "Dt scnc s  fld tht mstly wrks wth dt nd sttstcs.\n",
      "It ss sklls lk pythn nd mchn lrnnng t ncvr nsghts frm \n",
      "dt sng dt drvn sltns.Thrfr t gvs sltns t rl wrld \n",
      "prblms.\n"
     ]
    }
   ],
   "source": [
    "data_science='''\n",
    "Data science is a field that mostly works with data and statistics.\n",
    "It uses skills like python and machine learninng to uncover insights from \n",
    "data using data driven solutions.Therefore it gives solutions to real world \n",
    "problems.\n",
    "'''\n",
    "\n",
    "for char in data_science:\n",
    "    if char not in 'aeiou':\n",
    "        print(char,end='')"
   ]
  },
  {
   "cell_type": "code",
   "execution_count": 11,
   "id": "8e6c90f3-e28d-4f0c-9ed6-6df16721de91",
   "metadata": {},
   "outputs": [
    {
     "name": "stdout",
     "output_type": "stream",
     "text": [
      "aaieeiaieaooiaaaaiiueiieoaaieeaiouoeiioaauiaaieouioeeoeiieouiooeaooe"
     ]
    }
   ],
   "source": [
    "for char in data_science:\n",
    "    if char in 'aeiou':\n",
    "        print(char,end=\"\")\n"
   ]
  },
  {
   "cell_type": "markdown",
   "id": "b0b25311-a1cb-40a8-aac0-1cd5f71ba4f1",
   "metadata": {},
   "source": [
    "**For Loop with Tuples**"
   ]
  },
  {
   "cell_type": "code",
   "execution_count": 14,
   "id": "a8a714b8-6ef9-4a5b-b6a8-ca6566ec9c95",
   "metadata": {},
   "outputs": [
    {
     "name": "stdout",
     "output_type": "stream",
     "text": [
      "total= 294\n"
     ]
    }
   ],
   "source": [
    "numbers=(12,14,13,15,16,34,56,33,45,56)\n",
    "total=0\n",
    "for num in numbers:\n",
    "    total +=num\n",
    "print(\"total=\",total)"
   ]
  },
  {
   "cell_type": "markdown",
   "id": "5935eb67-a674-463a-9b54-a6a736a5ff18",
   "metadata": {},
   "source": [
    "For Loop with Lists"
   ]
  },
  {
   "cell_type": "code",
   "execution_count": 17,
   "id": "b001083f-d52b-420e-b8ae-5670ae251aa4",
   "metadata": {},
   "outputs": [
    {
     "name": "stdout",
     "output_type": "stream",
     "text": [
      "12\n",
      "14\n",
      "16\n",
      "34\n",
      "56\n",
      "56\n"
     ]
    }
   ],
   "source": [
    "numbers=[12,14,13,15,16,34,56,33,45,56]\n",
    "total=0\n",
    "for num in numbers:\n",
    "    if num%2==0:\n",
    "        print(num)"
   ]
  },
  {
   "cell_type": "code",
   "execution_count": 19,
   "id": "395ac09c-602e-4869-bda1-b38e56fffb00",
   "metadata": {},
   "outputs": [
    {
     "name": "stdout",
     "output_type": "stream",
     "text": [
      "13\n",
      "15\n",
      "33\n",
      "45\n"
     ]
    }
   ],
   "source": [
    "numbers=[12,14,13,15,16,34,56,33,45,56]\n",
    "total=0\n",
    "for num in numbers:\n",
    "    if num%2!=0:\n",
    "        print(num)"
   ]
  },
  {
   "cell_type": "markdown",
   "id": "0f192732-0b07-4fde-8bf2-b90219a860bf",
   "metadata": {},
   "source": [
    "**For Loop with Range**"
   ]
  },
  {
   "cell_type": "code",
   "execution_count": 32,
   "id": "11a4959f-188c-4904-a845-34f216190047",
   "metadata": {},
   "outputs": [
    {
     "name": "stdout",
     "output_type": "stream",
     "text": [
      "0\n",
      "1\n",
      "2\n",
      "3\n",
      "4\n"
     ]
    }
   ],
   "source": [
    "for num in range(5):\n",
    "    print(num)\n",
    "\n"
   ]
  },
  {
   "cell_type": "code",
   "execution_count": 34,
   "id": "cf38c8b0-5a80-48ff-aeee-7b5248ad1ed0",
   "metadata": {},
   "outputs": [
    {
     "name": "stdout",
     "output_type": "stream",
     "text": [
      "10\n",
      "11\n",
      "12\n",
      "13\n",
      "14\n",
      "15\n",
      "16\n",
      "17\n",
      "18\n",
      "19\n"
     ]
    }
   ],
   "source": [
    "for num in range(10,20):\n",
    "    print(num)"
   ]
  },
  {
   "cell_type": "code",
   "execution_count": 36,
   "id": "f252a810-bdbb-4195-b60f-cf14d3d0cb11",
   "metadata": {},
   "outputs": [
    {
     "name": "stdout",
     "output_type": "stream",
     "text": [
      "1\n",
      "3\n",
      "5\n",
      "7\n",
      "9\n"
     ]
    }
   ],
   "source": [
    "for num in range(1,10,2):\n",
    "    print(num)"
   ]
  },
  {
   "cell_type": "markdown",
   "id": "2e71a142-6b1a-42e5-9345-3235e99d62b6",
   "metadata": {},
   "source": [
    "**For Loop with Dictionaries**"
   ]
  },
  {
   "cell_type": "code",
   "execution_count": 39,
   "id": "c8c8656d-0268-445d-b498-47fed7c7f7a8",
   "metadata": {},
   "outputs": [
    {
     "name": "stdout",
     "output_type": "stream",
     "text": [
      "1\n",
      "2\n",
      "3\n",
      "4\n",
      "5\n"
     ]
    }
   ],
   "source": [
    "numbers={1:\"one\",2:\"two\",3:\"three\",4:\"four\",5:\"five\"}\n",
    "for x in numbers:\n",
    "    print(x)"
   ]
  },
  {
   "cell_type": "code",
   "execution_count": 43,
   "id": "6d8d05aa-1533-49f9-bf70-894823192c78",
   "metadata": {},
   "outputs": [
    {
     "name": "stdout",
     "output_type": "stream",
     "text": [
      "1 : one\n",
      "2 : two\n",
      "3 : three\n",
      "4 : four\n",
      "5 : five\n"
     ]
    }
   ],
   "source": [
    "numbers={1:\"one\",2:\"two\",3:\"three\",4:\"four\",5:\"five\"}\n",
    "for x in numbers:\n",
    "    print(x,\":\",numbers[x])"
   ]
  },
  {
   "cell_type": "code",
   "execution_count": 45,
   "id": "96603278-39ac-4a6d-a08a-6a48139f4ada",
   "metadata": {},
   "outputs": [
    {
     "name": "stdout",
     "output_type": "stream",
     "text": [
      "(1, 'one')\n",
      "(2, 'two')\n",
      "(3, 'three')\n",
      "(4, 'four')\n",
      "(5, 'five')\n"
     ]
    }
   ],
   "source": [
    "numbers={1:\"one\",2:\"two\",3:\"three\",4:\"four\",5:\"five\"}\n",
    "for x in numbers.items():\n",
    "    print(x)"
   ]
  },
  {
   "cell_type": "code",
   "execution_count": 47,
   "id": "43f17b4b-0b0f-49f2-83cf-ae5a49fd5440",
   "metadata": {},
   "outputs": [
    {
     "name": "stdout",
     "output_type": "stream",
     "text": [
      "one\n",
      "two\n",
      "three\n",
      "four\n",
      "five\n"
     ]
    }
   ],
   "source": [
    "numbers={1:\"one\",2:\"two\",3:\"three\",4:\"four\",5:\"five\"}\n",
    "for x in numbers.values():\n",
    "    print(x)"
   ]
  },
  {
   "cell_type": "code",
   "execution_count": 49,
   "id": "41b7d2c2-f98f-477f-9d84-b26c7e2077b5",
   "metadata": {},
   "outputs": [
    {
     "name": "stdout",
     "output_type": "stream",
     "text": [
      "1\n",
      "2\n",
      "3\n",
      "4\n",
      "5\n"
     ]
    }
   ],
   "source": [
    "numbers={1:\"one\",2:\"two\",3:\"three\",4:\"four\",5:\"five\"}\n",
    "for x in numbers.keys():\n",
    "    print(x)"
   ]
  }
 ],
 "metadata": {
  "kernelspec": {
   "display_name": "Python 3 (ipykernel)",
   "language": "python",
   "name": "python3"
  },
  "language_info": {
   "codemirror_mode": {
    "name": "ipython",
    "version": 3
   },
   "file_extension": ".py",
   "mimetype": "text/x-python",
   "name": "python",
   "nbconvert_exporter": "python",
   "pygments_lexer": "ipython3",
   "version": "3.12.4"
  }
 },
 "nbformat": 4,
 "nbformat_minor": 5
}
