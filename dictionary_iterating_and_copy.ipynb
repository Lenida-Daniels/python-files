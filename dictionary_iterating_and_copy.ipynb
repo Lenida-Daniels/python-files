{
 "cells": [
  {
   "cell_type": "markdown",
   "id": "bc54117f-dcc2-4ece-b655-3782eade096a",
   "metadata": {},
   "source": [
    "**Iterating through a loop**"
   ]
  },
  {
   "cell_type": "code",
   "execution_count": 4,
   "id": "427b7e12-c0f2-4042-94f5-be4c570e15ff",
   "metadata": {},
   "outputs": [
    {
     "name": "stdout",
     "output_type": "stream",
     "text": [
      "key name lenny\n",
      "key age 25\n",
      "key major Data Science\n",
      "key graduation_year 2025\n"
     ]
    }
   ],
   "source": [
    "student_info={\n",
    "    \"name\":\"lenny\",\n",
    "    \"age\":25,\n",
    "    \"major\":\"Data Science\",\n",
    "    \"graduation_year\":2025\n",
    "}\n",
    "#iterating through keys\n",
    "for key in student_info:\n",
    "    print(\"key\",key,student_info[key])"
   ]
  },
  {
   "cell_type": "code",
   "execution_count": 10,
   "id": "6973c358-d2c7-446a-b9c8-81ad29fbd380",
   "metadata": {},
   "outputs": [
    {
     "name": "stdout",
     "output_type": "stream",
     "text": [
      "value name\n",
      "value age\n",
      "value major\n",
      "value graduation_year\n"
     ]
    }
   ],
   "source": [
    "#iterating through values\n",
    "for value in student_info:#this returns keys because of missing .values()\n",
    "    print(\"value\",value)"
   ]
  },
  {
   "cell_type": "code",
   "execution_count": 23,
   "id": "55f930cc-ee3c-458b-8704-a7ac619e600d",
   "metadata": {},
   "outputs": [
    {
     "name": "stdout",
     "output_type": "stream",
     "text": [
      "name\n",
      "age\n",
      "major\n"
     ]
    }
   ],
   "source": [
    "student = {\"name\": \"Alice\", \"age\": 21, \"major\": \"Computer Science\"}\n",
    "\n",
    "# Looping through keys \n",
    "for key in student.keys():\n",
    "   print(key)"
   ]
  },
  {
   "cell_type": "code",
   "execution_count": 8,
   "id": "d7ecd762-b8e5-44af-b1af-23fff68d4d31",
   "metadata": {},
   "outputs": [
    {
     "name": "stdout",
     "output_type": "stream",
     "text": [
      "value lenny\n",
      "value 25\n",
      "value Data Science\n",
      "value 2025\n"
     ]
    }
   ],
   "source": [
    "#iterating through values\n",
    "for value in student_info.values():#without .values() it willl return keys\n",
    "    print(\"value\",value)"
   ]
  },
  {
   "cell_type": "code",
   "execution_count": 16,
   "id": "f989c123-7337-4de8-9531-5deb456f435d",
   "metadata": {},
   "outputs": [
    {
     "name": "stdout",
     "output_type": "stream",
     "text": [
      "key:value: name lenny\n",
      "key:value: age 25\n",
      "key:value: major Data Science\n",
      "key:value: graduation_year 2025\n"
     ]
    }
   ],
   "source": [
    "#iterating through key-values pairs\n",
    "for key,value in student_info.items():\n",
    "    print(\"key:value:\",key,value)\n"
   ]
  },
  {
   "cell_type": "code",
   "execution_count": 20,
   "id": "8b4b5778-6990-46a0-9159-62905852cb37",
   "metadata": {},
   "outputs": [
    {
     "name": "stdout",
     "output_type": "stream",
     "text": [
      "key: name value: lenny\n",
      "key: age value: 25\n",
      "key: major value: Data Science\n",
      "key: graduation_year value: 2025\n"
     ]
    }
   ],
   "source": [
    "#iterating through key-values pairs\n",
    "for key,value in student_info.items():\n",
    "    print(\"key:\",key,\"value:\",value)"
   ]
  },
  {
   "cell_type": "markdown",
   "id": "bcd7faff-b792-4bb8-a084-8fb0e1153d6d",
   "metadata": {},
   "source": [
    "****"
   ]
  },
  {
   "cell_type": "markdown",
   "id": "734cbeaa-e2d6-40b5-ad5d-e031cb9e3e8e",
   "metadata": {},
   "source": [
    "**Copy Dictionaries**"
   ]
  },
  {
   "cell_type": "markdown",
   "id": "b9539b7a-9fa0-41c8-9b50-01777d09cba0",
   "metadata": {},
   "source": [
    "**copying dictionaries** - creating a new dictionary that contains the same key-value pairs as the original dictionary"
   ]
  },
  {
   "cell_type": "markdown",
   "id": "adcbbc81-2afb-4d59-9652-5cbcb8451c6e",
   "metadata": {},
   "source": [
    "**Shallow Copy**-a new dictionary is created but it contains what the original dictionary has without duplicating nested objects it contains"
   ]
  },
  {
   "cell_type": "markdown",
   "id": "fda75537-2e3b-4649-b8c5-5d701a9b2004",
   "metadata": {},
   "source": [
    "It can be done using copy() method or dict() function"
   ]
  },
  {
   "cell_type": "markdown",
   "id": "5def2925-5323-42c5-91b1-eec820bba7c3",
   "metadata": {},
   "source": [
    "However, modifying the list in the shallow copy also affects the original because the list is a mutable object and only a reference is copied."
   ]
  },
  {
   "cell_type": "code",
   "execution_count": 34,
   "id": "6e271bab-b48e-4bf7-b311-f0d243f75652",
   "metadata": {},
   "outputs": [
    {
     "name": "stdout",
     "output_type": "stream",
     "text": [
      "original dictionary {'name': 'lenny', 'age': 25, 'major': 'Data Science', 'graduation_year': 2025, 'skills': ['python', 'sql']}\n",
      "shallow copy {'name': 'lenny', 'age': 25, 'major': 'Data Science', 'graduation_year': 2025, 'skills': ['python', 'sql']}\n"
     ]
    }
   ],
   "source": [
    "original_dict={\n",
    "    \"name\":\"lenny\",\n",
    "    \"age\":25,\n",
    "    \"major\":\"Data Science\",\n",
    "    \"graduation_year\":2025,\n",
    "    \"skills\":[\"python\",\"sql\"]\n",
    "}\n",
    "shallow_copy=original_dict.copy()\n",
    "print(\"original dictionary\",original_dict)\n",
    "print(\"shallow copy\",shallow_copy)\n",
    "\n"
   ]
  },
  {
   "cell_type": "code",
   "execution_count": 36,
   "id": "ecc0a0b4-612b-406f-98f4-aee25ed2cf48",
   "metadata": {},
   "outputs": [
    {
     "name": "stdout",
     "output_type": "stream",
     "text": [
      "original dictionary {'name': 'lenny', 'age': 25, 'major': 'Data Science', 'graduation_year': 2025, 'skills': ['python', 'sql', 'machine learning']}\n",
      "shallow copy {'name': 'lenny', 'age': 26, 'major': 'Data Science', 'graduation_year': 2025, 'skills': ['python', 'sql', 'machine learning']}\n"
     ]
    }
   ],
   "source": [
    "#modifying the shallow copy\n",
    "shallow_copy[\"age\"]=26\n",
    "shallow_copy[\"skills\"].append(\"machine learning\")\n",
    "\n",
    "print(\"original dictionary\",original_dict)\n",
    "print(\"shallow copy\",shallow_copy)\n"
   ]
  },
  {
   "cell_type": "code",
   "execution_count": 38,
   "id": "529b568a-6c1f-4977-a364-6da5f110c769",
   "metadata": {},
   "outputs": [
    {
     "name": "stdout",
     "output_type": "stream",
     "text": [
      "original dictionary {'name': 'lenny', 'age': 25, 'major': 'Data Science', 'graduation_year': 2025, 'skills': ['python', 'sql']}\n",
      "shallow copy {'name': 'lenny', 'age': 25, 'major': 'Data Science', 'graduation_year': 2025, 'skills': ['python', 'sql']}\n"
     ]
    }
   ],
   "source": [
    "original_dict={\n",
    "    \"name\":\"lenny\",\n",
    "    \"age\":25,\n",
    "    \"major\":\"Data Science\",\n",
    "    \"graduation_year\":2025,\n",
    "    \"skills\":[\"python\",\"sql\"]\n",
    "}\n",
    "shallow_copy=dict(original_dict)\n",
    "print(\"original dictionary\",original_dict)\n",
    "print(\"shallow copy\",shallow_copy)"
   ]
  },
  {
   "cell_type": "markdown",
   "id": "dc6e8ae6-49a8-439c-9b6a-5cb2cf43b6c8",
   "metadata": {},
   "source": [
    "**Deep Copy**-creates a new dictionary and recursevely copies all objects found in the original dictionary. Changes made to the deep copy dont affect original dictionary and vice versa"
   ]
  },
  {
   "cell_type": "markdown",
   "id": "0acd029a-8506-493f-9631-0b664ec8f692",
   "metadata": {},
   "source": [
    "We achieve deep copy using deepcopy()function in copy module"
   ]
  },
  {
   "cell_type": "code",
   "execution_count": 54,
   "id": "64fc734a-3657-4ade-92f4-795b97bfde7f",
   "metadata": {},
   "outputs": [
    {
     "ename": "KeyError",
     "evalue": "'education'",
     "output_type": "error",
     "traceback": [
      "\u001b[1;31m---------------------------------------------------------------------------\u001b[0m",
      "\u001b[1;31mKeyError\u001b[0m                                  Traceback (most recent call last)",
      "Cell \u001b[1;32mIn[54], line 20\u001b[0m\n\u001b[0;32m     18\u001b[0m deep_copy[\u001b[38;5;124m\"\u001b[39m\u001b[38;5;124mage\u001b[39m\u001b[38;5;124m\"\u001b[39m] \u001b[38;5;241m=\u001b[39m \u001b[38;5;241m26\u001b[39m\n\u001b[0;32m     19\u001b[0m deep_copy[\u001b[38;5;124m\"\u001b[39m\u001b[38;5;124mskills\u001b[39m\u001b[38;5;124m\"\u001b[39m]\u001b[38;5;241m.\u001b[39mappend(\u001b[38;5;124m\"\u001b[39m\u001b[38;5;124mMachine Learning\u001b[39m\u001b[38;5;124m\"\u001b[39m)\n\u001b[1;32m---> 20\u001b[0m deep_copy[\u001b[38;5;124m\"\u001b[39m\u001b[38;5;124meducation\u001b[39m\u001b[38;5;124m\"\u001b[39m][\u001b[38;5;124m\"\u001b[39m\u001b[38;5;124mdegree\u001b[39m\u001b[38;5;124m\"\u001b[39m] \u001b[38;5;241m=\u001b[39m \u001b[38;5;124m\"\u001b[39m\u001b[38;5;124mMaster\u001b[39m\u001b[38;5;124m'\u001b[39m\u001b[38;5;124ms\u001b[39m\u001b[38;5;124m\"\u001b[39m\n\u001b[0;32m     22\u001b[0m \u001b[38;5;66;03m# Retrieving both dictionaries\u001b[39;00m\n\u001b[0;32m     23\u001b[0m \u001b[38;5;28mprint\u001b[39m(\u001b[38;5;124m\"\u001b[39m\u001b[38;5;124mOriginal dictionary:\u001b[39m\u001b[38;5;124m\"\u001b[39m, original_dict)\n",
      "\u001b[1;31mKeyError\u001b[0m: 'education'"
     ]
    }
   ],
   "source": [
    "import copy\n",
    "original_dict={\n",
    "    \"name\":\"lenny\",\n",
    "    \"age\":25,\n",
    "    \"major\":\"Data Science\",\n",
    "    \"graduation_year\":2025,\n",
    "    \"skills\":[\"python\",\"sql\"],\n",
    "\n",
    "    \"address\":{\n",
    "    \"address line 1\":\"woods estate\",\n",
    "    \"address line 2\":\"P.O Box 00\",\n",
    "    \"city\":\"woodland\"\n",
    "}\n",
    "}\n",
    "deep_copy=copy.deepcopy(original_dict)\n",
    "\n",
    "# Modifying the deep copy\n",
    "deep_copy[\"age\"] = 26\n",
    "deep_copy[\"skills\"].append(\"Machine Learning\")\n",
    "deep_copy[\"address\"][\"city\"] = \"Nairobi\"\n",
    "\n",
    "# Retrieving both dictionaries\n",
    "print(\"Original dictionary:\", original_dict)\n",
    "print(\"Deep copy:\", deep_copy)"
   ]
  },
  {
   "cell_type": "code",
   "execution_count": null,
   "id": "6005cb0d-d03b-4e26-9089-4050b5e42a77",
   "metadata": {},
   "outputs": [],
   "source": []
  }
 ],
 "metadata": {
  "kernelspec": {
   "display_name": "Python 3 (ipykernel)",
   "language": "python",
   "name": "python3"
  },
  "language_info": {
   "codemirror_mode": {
    "name": "ipython",
    "version": 3
   },
   "file_extension": ".py",
   "mimetype": "text/x-python",
   "name": "python",
   "nbconvert_exporter": "python",
   "pygments_lexer": "ipython3",
   "version": "3.12.4"
  }
 },
 "nbformat": 4,
 "nbformat_minor": 5
}
