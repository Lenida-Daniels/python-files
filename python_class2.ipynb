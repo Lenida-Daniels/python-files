{
 "cells": [
  {
   "cell_type": "markdown",
   "id": "59d904db-5eb1-4a2c-bdc4-211f9a18deaa",
   "metadata": {},
   "source": [
    "**Membership operators**"
   ]
  },
  {
   "cell_type": "code",
   "execution_count": 11,
   "id": "bbf9c218-fd42-4a92-b8a6-31f5228ddae7",
   "metadata": {},
   "outputs": [
    {
     "name": "stdout",
     "output_type": "stream",
     "text": [
      "letter e found\n"
     ]
    }
   ],
   "source": [
    "x=\"university\"\n",
    "if (\"e\" in x):\n",
    "    print(\"letter e found\")"
   ]
  },
  {
   "cell_type": "code",
   "execution_count": 7,
   "id": "df48b56f-906c-4829-a7f0-2dbcb7c5c351",
   "metadata": {},
   "outputs": [
    {
     "name": "stdout",
     "output_type": "stream",
     "text": [
      "letter w not found\n"
     ]
    }
   ],
   "source": [
    "if (\"w\" not in x):\n",
    "    print(\"letter w not found\")\n",
    "else:\n",
    "    print(\"letter w  found\")"
   ]
  },
  {
   "cell_type": "code",
   "execution_count": 9,
   "id": "4df8502e-cf80-4607-9c5f-06a9cf8113f7",
   "metadata": {},
   "outputs": [
    {
     "name": "stdout",
     "output_type": "stream",
     "text": [
      "a is not b\n"
     ]
    }
   ],
   "source": [
    "a=10\n",
    "b=8\n",
    "if (a is b):\n",
    "    print(\"a is same as b\")\n",
    "\n",
    "else:\n",
    "    print(\"a is not b\")"
   ]
  },
  {
   "cell_type": "code",
   "execution_count": 15,
   "id": "a8f1bec2-41a2-4d98-bd38-f141a84749e4",
   "metadata": {},
   "outputs": [
    {
     "data": {
      "text/plain": [
       "False"
      ]
     },
     "execution_count": 15,
     "metadata": {},
     "output_type": "execute_result"
    }
   ],
   "source": [
    "items=[\"book\",2,45,\"pen\"]\n",
    "\"x\" in items"
   ]
  },
  {
   "cell_type": "code",
   "execution_count": 19,
   "id": "43470009-3774-43cf-bf70-24c8e738cb90",
   "metadata": {},
   "outputs": [
    {
     "data": {
      "text/plain": [
       "True"
      ]
     },
     "execution_count": 19,
     "metadata": {},
     "output_type": "execute_result"
    }
   ],
   "source": [
    "\"book\" in items"
   ]
  },
  {
   "cell_type": "markdown",
   "id": "ed5eb884-0662-4ecb-8818-25a639870e20",
   "metadata": {},
   "source": [
    "**Decision Structures**"
   ]
  },
  {
   "cell_type": "code",
   "execution_count": 28,
   "id": "af8ff244-3db0-4b6e-9908-015b82ed29a4",
   "metadata": {},
   "outputs": [
    {
     "name": "stdout",
     "output_type": "stream",
     "text": [
      "A minor\n"
     ]
    }
   ],
   "source": [
    "x=17\n",
    "if(x>18):#if you only use if there will be no output, so you must include else\n",
    "    print(\"An adult\")\n",
    "else:\n",
    "    print(\"A minor\")"
   ]
  },
  {
   "cell_type": "code",
   "execution_count": 37,
   "id": "352868fa-24e4-42ae-a44d-7743f1ea112d",
   "metadata": {},
   "outputs": [
    {
     "name": "stdout",
     "output_type": "stream",
     "text": [
      "A minor\n"
     ]
    }
   ],
   "source": [
    "x=17\n",
    "gender=\"female\"\n",
    "if(x>18):#if you only use if there will be no output, so you must include else\n",
    "    print(\"An adult\")\n",
    "    if(gender == \"female\"):\n",
    "        print(\"female hostel\")\n",
    "    else:\n",
    "        print(\"male hostel\")  \n",
    "else:\n",
    "    print(\"A minor\")"
   ]
  },
  {
   "cell_type": "markdown",
   "id": "cdaa0fe6-eb79-4d3e-b5ef-b6c7d65f313a",
   "metadata": {},
   "source": [
    "**SWITCH/MATCH STATEMENT**"
   ]
  },
  {
   "cell_type": "code",
   "execution_count": 5,
   "id": "08960ff6-fc92-4c3e-93b9-94e3b4bd27d4",
   "metadata": {},
   "outputs": [
    {
     "name": "stdin",
     "output_type": "stream",
     "text": [
      "enter rating 7\n"
     ]
    },
    {
     "name": "stdout",
     "output_type": "stream",
     "text": [
      "invalid\n"
     ]
    }
   ],
   "source": [
    "rating=int(input(\"enter rating\"))\n",
    "match(rating):\n",
    "    case 1:\n",
    "        print(\"poor\")\n",
    "    case 2:\n",
    "        print(\"fair\")\n",
    "    case 3:\n",
    "        print(\"good\")\n",
    "    case 4:\n",
    "        print(\"very good\")\n",
    "    case 5:\n",
    "        print(\"excellent\")\n",
    "    case _:\n",
    "        print(\"invalid\")"
   ]
  },
  {
   "cell_type": "markdown",
   "id": "3c47e2de-0777-4819-b5f4-b1f20ce83862",
   "metadata": {},
   "source": [
    "**WHILE STATEMENT**"
   ]
  },
  {
   "cell_type": "code",
   "execution_count": 18,
   "id": "bce7f7b4-2d95-4f2e-ad17-831c6123089d",
   "metadata": {},
   "outputs": [
    {
     "name": "stdout",
     "output_type": "stream",
     "text": [
      "1\n",
      "2\n",
      "3\n",
      "4\n",
      "5\n",
      "6\n",
      "7\n",
      "8\n",
      "9\n",
      "10\n"
     ]
    }
   ],
   "source": [
    "m=0\n",
    "while(m<10):\n",
    "    m+=1\n",
    "    print(m)\n",
    "    "
   ]
  },
  {
   "cell_type": "markdown",
   "id": "ccdf95a7-002a-4490-be5d-28761bf771dd",
   "metadata": {},
   "source": [
    "**using for statement in iterables(string,dict,list,,tuple)**"
   ]
  },
  {
   "cell_type": "code",
   "execution_count": 3,
   "id": "3a617435-50ce-4bb7-818c-8381b9e377e0",
   "metadata": {},
   "outputs": [
    {
     "name": "stdout",
     "output_type": "stream",
     "text": [
      "u\n",
      "n\n",
      "i\n",
      "v\n",
      "e\n",
      "r\n",
      "s\n",
      "i\n",
      "t\n",
      "y\n"
     ]
    }
   ],
   "source": [
    "x=\"university\"\n",
    "for t in x:\n",
    "    print(t)\n"
   ]
  },
  {
   "cell_type": "code",
   "execution_count": 8,
   "id": "30df491e-1355-4c8a-84fe-2ae12a681893",
   "metadata": {},
   "outputs": [
    {
     "name": "stdout",
     "output_type": "stream",
     "text": [
      "0\n",
      "1\n",
      "2\n",
      "3\n",
      "4\n"
     ]
    }
   ],
   "source": [
    "for t in range(5):\n",
    "    print(t)"
   ]
  },
  {
   "cell_type": "code",
   "execution_count": 10,
   "id": "94c9dce3-5490-404f-ba1d-97e307808ccc",
   "metadata": {},
   "outputs": [
    {
     "name": "stdout",
     "output_type": "stream",
     "text": [
      "5\n",
      "6\n",
      "7\n",
      "8\n",
      "9\n"
     ]
    }
   ],
   "source": [
    "for t in range(5,10):\n",
    "    print(t)"
   ]
  },
  {
   "cell_type": "code",
   "execution_count": 12,
   "id": "a9df2936-9123-4c46-89c6-38da6e9baf9e",
   "metadata": {},
   "outputs": [
    {
     "name": "stdout",
     "output_type": "stream",
     "text": [
      "1\n",
      "3\n",
      "5\n",
      "7\n",
      "9\n"
     ]
    }
   ],
   "source": [
    "for t in range(1,10,2):\n",
    "    print(t)"
   ]
  },
  {
   "cell_type": "code",
   "execution_count": 16,
   "id": "472fec7d-45a8-4f83-9bda-fb09fb11f27b",
   "metadata": {},
   "outputs": [
    {
     "name": "stdout",
     "output_type": "stream",
     "text": [
      "1\n",
      "2\n",
      "3\n",
      "4\n",
      "6\n",
      "7\n",
      "8\n",
      "9\n",
      "10\n"
     ]
    }
   ],
   "source": [
    "m=0\n",
    "while(m<10):\n",
    "    m+=1\n",
    "    if(m==5):\n",
    "        continue\n",
    "    print(m)\n",
    "    "
   ]
  },
  {
   "cell_type": "code",
   "execution_count": 22,
   "id": "696fb863-989f-40e9-9241-4500500d35b9",
   "metadata": {},
   "outputs": [
    {
     "name": "stdout",
     "output_type": "stream",
     "text": [
      "1\n",
      "2\n",
      "3\n",
      "4\n"
     ]
    }
   ],
   "source": [
    "m=0\n",
    "while(m<10):\n",
    "    m+=1\n",
    "    if(m==5):\n",
    "        break\n",
    "        print(\"end of loop\")\n",
    "    print(m)"
   ]
  },
  {
   "cell_type": "code",
   "execution_count": 28,
   "id": "b4c268d1-69a6-4402-8867-d9439a243d4e",
   "metadata": {},
   "outputs": [
    {
     "name": "stdout",
     "output_type": "stream",
     "text": [
      "enough balance\n"
     ]
    }
   ],
   "source": [
    "balance=1500\n",
    "if(balance<1000):\n",
    "    print(\"insuffient balance\")\n",
    "else:\n",
    "    print(\"enough balance\")"
   ]
  },
  {
   "cell_type": "code",
   "execution_count": 30,
   "id": "0d391272-9217-4b92-9589-e5c6cf3a1fc2",
   "metadata": {},
   "outputs": [],
   "source": [
    "balance=1500\n",
    "if(balance<1000):\n",
    "    print(\"insuffient balance\")\n",
    "else:\n",
    "    pass #used when you need to leave the code blank"
   ]
  },
  {
   "cell_type": "code",
   "execution_count": 11,
   "id": "60da76bc-3dc5-4c4c-be88-735516b43950",
   "metadata": {},
   "outputs": [
    {
     "name": "stdout",
     "output_type": "stream",
     "text": [
      "\n",
      "*\n",
      "**\n",
      "***\n",
      "****\n"
     ]
    }
   ],
   "source": [
    "\n",
    "rows=0 #initialization of rows\n",
    "while(rows<5): #condition \n",
    "    cols=0#initialization of cols\n",
    "    while(cols<rows):\n",
    "       print( \"*\",end=\"\" )\n",
    "       cols+=1\n",
    "    print(\"\")\n",
    "    rows+=1\n",
    "   \n"
   ]
  },
  {
   "cell_type": "code",
   "execution_count": null,
   "id": "e4ebadac-c1d3-4bf0-8c23-18df27d4fd0a",
   "metadata": {},
   "outputs": [],
   "source": [
    "rows=0 #initialization of rows\n",
    "while(rows<5): #condition \n",
    "    cols=0#initialization of cols\n",
    "    while(cols<rows):\n",
    "       print( \"*\",end=\"\" )\n",
    "       cols+=1\n",
    "    print(\"\")\n",
    "    rows+=1"
   ]
  },
  {
   "cell_type": "raw",
   "id": "2906ee0c-6cb4-4b49-b897-3f3cfb33582b",
   "metadata": {},
   "source": [
    "iter object is created out of a sequence\n",
    "myiter=iter(fruits)#created an iterator out of a sequence\n",
    "print(next(myiter))#used to fetch the next item\n",
    "#iterator has a function next() to fetch the next item"
   ]
  },
  {
   "cell_type": "code",
   "execution_count": 26,
   "id": "11edcdfc-8b5a-4a21-9e7d-6d4f89d25e34",
   "metadata": {},
   "outputs": [
    {
     "name": "stdout",
     "output_type": "stream",
     "text": [
      "[0]\n",
      "[0, 1]\n",
      "[0, 1, 4]\n",
      "[0, 1, 4, 9]\n",
      "[0, 1, 4, 9, 16]\n"
     ]
    }
   ],
   "source": [
    "squares=[]\n",
    "for x in range(5):\n",
    "    squares.append(x**2)\n",
    "    print(squares)"
   ]
  },
  {
   "cell_type": "code",
   "execution_count": 17,
   "id": "a0e66402-be71-4b7b-9391-3bd993307beb",
   "metadata": {},
   "outputs": [
    {
     "name": "stdout",
     "output_type": "stream",
     "text": [
      "0\n"
     ]
    }
   ],
   "source": [
    "square=(x**2 for x in range(5))#this can't be printed. you need to call it using next()\n",
    "print(next(square))"
   ]
  },
  {
   "cell_type": "code",
   "execution_count": 20,
   "id": "c202b444-1b1b-4fec-8042-bce2fd66fec7",
   "metadata": {},
   "outputs": [
    {
     "name": "stdout",
     "output_type": "stream",
     "text": [
      "1\n"
     ]
    }
   ],
   "source": [
    "print(next(square))"
   ]
  },
  {
   "cell_type": "code",
   "execution_count": 22,
   "id": "418f45e5-e100-483c-ab3f-68d6ffaf986f",
   "metadata": {},
   "outputs": [
    {
     "name": "stdout",
     "output_type": "stream",
     "text": [
      "4\n"
     ]
    }
   ],
   "source": [
    "print(next(square))"
   ]
  },
  {
   "cell_type": "code",
   "execution_count": 24,
   "id": "ca0d85c2-6c34-43b6-83da-79fc0711a84c",
   "metadata": {},
   "outputs": [
    {
     "name": "stdout",
     "output_type": "stream",
     "text": [
      "9\n"
     ]
    }
   ],
   "source": [
    "print(next(square))"
   ]
  },
  {
   "cell_type": "code",
   "execution_count": null,
   "id": "95bacc2f-f4f2-4840-a2a5-c29356c4758d",
   "metadata": {},
   "outputs": [],
   "source": []
  }
 ],
 "metadata": {
  "kernelspec": {
   "display_name": "Python 3 (ipykernel)",
   "language": "python",
   "name": "python3"
  },
  "language_info": {
   "codemirror_mode": {
    "name": "ipython",
    "version": 3
   },
   "file_extension": ".py",
   "mimetype": "text/x-python",
   "name": "python",
   "nbconvert_exporter": "python",
   "pygments_lexer": "ipython3",
   "version": "3.12.4"
  }
 },
 "nbformat": 4,
 "nbformat_minor": 5
}
