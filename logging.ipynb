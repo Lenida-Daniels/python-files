{
 "cells": [
  {
   "cell_type": "code",
   "execution_count": 3,
   "id": "1815adf5-1d6d-4f7d-aee9-cbb5a097cf40",
   "metadata": {},
   "outputs": [],
   "source": [
    "import logging\n"
   ]
  },
  {
   "cell_type": "markdown",
   "id": "ddade675-7c48-422e-9078-a3e3be3082c0",
   "metadata": {},
   "source": [
    "**CONFIGURING LOGGING**- refers to setting up various components such as loggers, handlers, and formatters to control how and where log messages are stored and displayed."
   ]
  },
  {
   "cell_type": "code",
   "execution_count": 5,
   "id": "1ce90d99-fd12-4328-8718-1104450adeb7",
   "metadata": {},
   "outputs": [
    {
     "name": "stderr",
     "output_type": "stream",
     "text": [
      "2025-02-20 22:04:30,587 - my_app - DEBUG- This is a debug message\n",
      "2025-02-20 22:04:30,594 - my_app - INFO- This is an info message\n",
      "2025-02-20 22:04:30,596 - my_app - WARNING- This is a warning message\n",
      "2025-02-20 22:04:30,598 - my_app - ERROR- This is an error message\n",
      "2025-02-20 22:04:30,601 - my_app - CRITICAL- This is a critical message\n"
     ]
    }
   ],
   "source": [
    "#create logger and set level\n",
    "#loggers are arranged hierarchically based on their names\n",
    "logger=logging.getLogger('my_app') #retrieves or creates a named logger.\n",
    "logger.setLevel(logging.DEBUG)#set a global log level.\n",
    "\n",
    "#create console handler and set level to debug\n",
    "console_handler=logging.StreamHandler()#defines where log messages go\n",
    "console_handler.setLevel(logging.DEBUG)\n",
    "\n",
    "#create formatter - it specifies the layout of log records\n",
    "#formatter determine how log messages appear when printed or stored.\n",
    "formatter=logging.Formatter('%(asctime)s - %(name)s - %(levelname)s- %(message)s')\n",
    "console_handler.setFormatter(formatter)\n",
    "\n",
    "#add consolr handler to logger\n",
    "logger.addHandler(console_handler)\n",
    "\n",
    "# Example usage\n",
    "logger.debug('This is a debug message')\n",
    "logger.info('This is an info message')\n",
    "logger.warning('This is a warning message')\n",
    "logger.error('This is an error message')\n",
    "logger.critical('This is a critical message')\n",
    "\n",
    "\n"
   ]
  },
  {
   "cell_type": "markdown",
   "id": "9b8efce6-200c-4178-a576-c2ca24879894",
   "metadata": {},
   "source": [
    "**BASIC LOGGING EXAMPLE**"
   ]
  },
  {
   "cell_type": "code",
   "execution_count": 12,
   "id": "abdbe8dc-36c9-4a9e-8e89-47947a5cd524",
   "metadata": {},
   "outputs": [
    {
     "name": "stderr",
     "output_type": "stream",
     "text": [
      "2025-02-20 22:52:50,595 - INFO - Starting the program\n",
      "2025-02-20 22:52:50,597 - DEBUG - Calculating sum of 10 and 20\n",
      "2025-02-20 22:52:50,601 - INFO - Sum calculated successfully:30\n",
      "2025-02-20 22:52:50,603 - INFO - Program completed\n"
     ]
    }
   ],
   "source": [
    "#configure logging\n",
    "logging.basicConfig(level=logging.DEBUG, format='%(asctime)s - %(levelname)s - %(message)s')\n",
    "\n",
    "#an example usage\n",
    "def calculate_sum(a,b):\n",
    "    logging.debug(f\"Calculating sum of {a} and {b}\")\n",
    "    result=a+b\n",
    "    logging.info(f\"Sum calculated successfully:{result}\")\n",
    "    return result\n",
    "\n",
    "#main program\n",
    "if __name__==\"__main__\":\n",
    "    logging.info(\"Starting the program\")\n",
    "    result=calculate_sum(10,20)\n",
    "    logging.info(\"Program completed\")"
   ]
  },
  {
   "cell_type": "code",
   "execution_count": null,
   "id": "23a902f0-e132-4bd6-a94c-b958288cb685",
   "metadata": {},
   "outputs": [],
   "source": []
  }
 ],
 "metadata": {
  "kernelspec": {
   "display_name": "Python 3 (ipykernel)",
   "language": "python",
   "name": "python3"
  },
  "language_info": {
   "codemirror_mode": {
    "name": "ipython",
    "version": 3
   },
   "file_extension": ".py",
   "mimetype": "text/x-python",
   "name": "python",
   "nbconvert_exporter": "python",
   "pygments_lexer": "ipython3",
   "version": "3.12.4"
  }
 },
 "nbformat": 4,
 "nbformat_minor": 5
}
