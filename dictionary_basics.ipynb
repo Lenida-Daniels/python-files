{
 "cells": [
  {
   "cell_type": "markdown",
   "id": "96fa3c7a-a927-46f6-815c-a9b6174de8a7",
   "metadata": {},
   "source": [
    "Dictionaries - mutable, unordered collection of key-value pairs. Allows efficient data retrieval and modification"
   ]
  },
  {
   "cell_type": "markdown",
   "id": "af902b7e-636b-474f-89d5-f6729e78f369",
   "metadata": {},
   "source": [
    "1. Creating a dictionary - defined using {} or dict() constructor"
   ]
  },
  {
   "cell_type": "code",
   "execution_count": 7,
   "id": "0e696ad3-1fa3-4a64-a398-b71af3e439aa",
   "metadata": {},
   "outputs": [
    {
     "name": "stdout",
     "output_type": "stream",
     "text": [
      "{'name': 'Lenny', 'age': '20'}\n",
      "{'name': 'Lenny', 'age': '20'}\n"
     ]
    }
   ],
   "source": [
    "#using {}\n",
    "my_dict={\n",
    "    \"name\":\"Lenny\",\n",
    "    \"age\":\"20\",\n",
    "}\n",
    "print(my_dict)\n",
    "\n",
    "#using dict()constructor\n",
    "my_dict2=dict(name=\"Lenny\",age=20)\n",
    "print(my_dict)"
   ]
  },
  {
   "cell_type": "markdown",
   "id": "fd26010e-161f-446b-99cf-69680ed00490",
   "metadata": {},
   "source": [
    "2.Accessing values"
   ]
  },
  {
   "cell_type": "code",
   "execution_count": 20,
   "id": "43880e46-8a5f-4731-8d83-260c3f52b2de",
   "metadata": {},
   "outputs": [
    {
     "name": "stdout",
     "output_type": "stream",
     "text": [
      "Lenny\n",
      "20\n",
      "Lenny\n",
      "20\n",
      "None\n"
     ]
    },
    {
     "ename": "KeyError",
     "evalue": "'gender'",
     "output_type": "error",
     "traceback": [
      "\u001b[1;31m---------------------------------------------------------------------------\u001b[0m",
      "\u001b[1;31mKeyError\u001b[0m                                  Traceback (most recent call last)",
      "Cell \u001b[1;32mIn[20], line 8\u001b[0m\n\u001b[0;32m      5\u001b[0m \u001b[38;5;28mprint\u001b[39m(my_dict\u001b[38;5;241m.\u001b[39mget(\u001b[38;5;124m\"\u001b[39m\u001b[38;5;124mage\u001b[39m\u001b[38;5;124m\"\u001b[39m))\n\u001b[0;32m      7\u001b[0m \u001b[38;5;28mprint\u001b[39m(my_dict\u001b[38;5;241m.\u001b[39mget(\u001b[38;5;124m\"\u001b[39m\u001b[38;5;124mgender\u001b[39m\u001b[38;5;124m\"\u001b[39m))\n\u001b[1;32m----> 8\u001b[0m \u001b[38;5;28mprint\u001b[39m(my_dict[\u001b[38;5;124m\"\u001b[39m\u001b[38;5;124mgender\u001b[39m\u001b[38;5;124m\"\u001b[39m])\n",
      "\u001b[1;31mKeyError\u001b[0m: 'gender'"
     ]
    }
   ],
   "source": [
    "print(my_dict[\"name\"])\n",
    "print(my_dict[\"age\"])\n",
    "\n",
    "print(my_dict.get(\"name\"))\n",
    "print(my_dict.get(\"age\"))\n",
    "\n",
    "print(my_dict.get(\"gender\"))#returns none beacause the key is missing\n",
    "print(my_dict[\"gender\"])#generates an error because the key is missing\n",
    "\n",
    "#using get() is safer since it returns none when the key is missing.\n",
    "#using my_dict[] is unsafe since it generates an error when a key is missing."
   ]
  },
  {
   "cell_type": "markdown",
   "id": "0faba46a-f9d2-442c-9f41-069c3bcd1c47",
   "metadata": {},
   "source": [
    "3. Adding and updating items"
   ]
  },
  {
   "cell_type": "code",
   "execution_count": 27,
   "id": "3bc26315-e091-4627-a6fe-a96e991c7836",
   "metadata": {},
   "outputs": [
    {
     "name": "stdout",
     "output_type": "stream",
     "text": [
      "{'name': 'Lenida', 'age': 21, 'gender': 'female'}\n"
     ]
    }
   ],
   "source": [
    "my_dict[\"gender\"]=\"female\" #adding a ney key-value pair\n",
    "my_dict[\"age\"]=21 #updating an existing value\n",
    "my_dict[\"name\"]=\"Lenida\"#updating an existing value\n",
    "print(my_dict)"
   ]
  },
  {
   "cell_type": "markdown",
   "id": "f975165c-f503-496b-9e45-cb695f757394",
   "metadata": {},
   "source": [
    "4. Removing items"
   ]
  },
  {
   "cell_type": "code",
   "execution_count": 41,
   "id": "87ba8b5d-9236-44f8-8fc9-c1756ee2b3fe",
   "metadata": {},
   "outputs": [
    {
     "data": {
      "text/plain": [
       "'female'"
      ]
     },
     "execution_count": 41,
     "metadata": {},
     "output_type": "execute_result"
    }
   ],
   "source": [
    "my_dict.pop(\"gender\") #removes key and returns its "
   ]
  },
  {
   "cell_type": "code",
   "execution_count": 59,
   "id": "b6652e6e-7ba2-46af-bf03-211ad4ec953a",
   "metadata": {},
   "outputs": [
    {
     "name": "stdout",
     "output_type": "stream",
     "text": [
      "None\n",
      "None\n",
      "Lenida\n",
      "Lenida\n"
     ]
    },
    {
     "ename": "KeyError",
     "evalue": "'gender'",
     "output_type": "error",
     "traceback": [
      "\u001b[1;31m---------------------------------------------------------------------------\u001b[0m",
      "\u001b[1;31mKeyError\u001b[0m                                  Traceback (most recent call last)",
      "Cell \u001b[1;32mIn[59], line 5\u001b[0m\n\u001b[0;32m      3\u001b[0m \u001b[38;5;28mprint\u001b[39m(my_dict\u001b[38;5;241m.\u001b[39mget(\u001b[38;5;124m\"\u001b[39m\u001b[38;5;124mname\u001b[39m\u001b[38;5;124m\"\u001b[39m))\n\u001b[0;32m      4\u001b[0m \u001b[38;5;28mprint\u001b[39m(my_dict[\u001b[38;5;124m\"\u001b[39m\u001b[38;5;124mname\u001b[39m\u001b[38;5;124m\"\u001b[39m])\n\u001b[1;32m----> 5\u001b[0m \u001b[38;5;28mprint\u001b[39m(my_dict[\u001b[38;5;124m\"\u001b[39m\u001b[38;5;124mgender\u001b[39m\u001b[38;5;124m\"\u001b[39m])\n\u001b[0;32m      6\u001b[0m \u001b[38;5;28mprint\u001b[39m(my_dict[\u001b[38;5;124m\"\u001b[39m\u001b[38;5;124mname\u001b[39m\u001b[38;5;124m\"\u001b[39m])\n",
      "\u001b[1;31mKeyError\u001b[0m: 'gender'"
     ]
    }
   ],
   "source": [
    "\n",
    "print(my_dict.get(\"gender\"))\n",
    "print(my_dict.get(\"age\"))\n",
    "print(my_dict.get(\"name\"))\n",
    "print(my_dict[\"name\"])\n",
    "print(my_dict[\"gender\"])#this generates an error because the value is missing\n",
    "print(my_dict[\"name\"])#this fails to run because the code above it generates an error\n"
   ]
  },
  {
   "cell_type": "code",
   "execution_count": 3,
   "id": "ea29c6d7-7b6e-42ee-a4ed-b5e060f7cc93",
   "metadata": {},
   "outputs": [
    {
     "name": "stdout",
     "output_type": "stream",
     "text": [
      "{'course': 'Data Science', 'unit': 'python programming', 'skill': 'Data Querying'}\n"
     ]
    }
   ],
   "source": [
    "credentials={\n",
    "    \"course\":\"Data Science\",\n",
    "    \"unit\":\"python programming\",\n",
    "    \"skill\":\"Data Querying\"\n",
    "}\n",
    "print(credentials)\n",
    "credentials.clear()"
   ]
  },
  {
   "cell_type": "code",
   "execution_count": 5,
   "id": "7d70691e-11a6-4869-a14b-0d454e4db59f",
   "metadata": {},
   "outputs": [
    {
     "name": "stdout",
     "output_type": "stream",
     "text": [
      "None\n"
     ]
    }
   ],
   "source": [
    "print(credentials.get(\"skill\"))"
   ]
  },
  {
   "cell_type": "code",
   "execution_count": 7,
   "id": "7e30fec1-8919-44ec-9eb2-a63dfed1078a",
   "metadata": {},
   "outputs": [
    {
     "name": "stdout",
     "output_type": "stream",
     "text": [
      "None\n"
     ]
    }
   ],
   "source": [
    "print(credentials.get(\"unit\"))"
   ]
  },
  {
   "cell_type": "code",
   "execution_count": 9,
   "id": "556ccf44-86e1-4aae-8456-acaeab2dd6db",
   "metadata": {},
   "outputs": [
    {
     "name": "stdout",
     "output_type": "stream",
     "text": [
      "None\n"
     ]
    }
   ],
   "source": [
    "print(credentials.get(\"course\"))"
   ]
  },
  {
   "cell_type": "code",
   "execution_count": 11,
   "id": "b3e5dd7e-5b30-4015-9c7c-c32053c3df92",
   "metadata": {},
   "outputs": [
    {
     "name": "stdout",
     "output_type": "stream",
     "text": [
      "Lily\n",
      "BDS\n"
     ]
    }
   ],
   "source": [
    "credentials[\"name\"]=\"Lily\"\n",
    "print(credentials.get(\"name\"))\n",
    "credentials[\"course\"]=\"BDS\"\n",
    "print(credentials.get(\"course\"))\n",
    "\n"
   ]
  },
  {
   "cell_type": "code",
   "execution_count": 13,
   "id": "6a2b5205-d485-4bab-b493-4b9935b9e192",
   "metadata": {},
   "outputs": [
    {
     "data": {
      "text/plain": [
       "'BDS'"
      ]
     },
     "execution_count": 13,
     "metadata": {},
     "output_type": "execute_result"
    }
   ],
   "source": [
    "credentials.pop(\"course\")#removes key and returns its value\n"
   ]
  },
  {
   "cell_type": "code",
   "execution_count": 20,
   "id": "dffca0f5-a428-458e-8505-b62086d614a9",
   "metadata": {},
   "outputs": [
    {
     "name": "stdout",
     "output_type": "stream",
     "text": [
      "{'name': 'Lily', 'city': 'Nairobi', 'level of education': \"Bachelor's degree\"}\n"
     ]
    }
   ],
   "source": [
    "credentials[\"level of education\"]=\"Bachelor's degree\"\n",
    "print(credentials)"
   ]
  },
  {
   "cell_type": "code",
   "execution_count": 22,
   "id": "256b2262-9059-4cf6-9327-eca843509a41",
   "metadata": {},
   "outputs": [],
   "source": [
    "del credentials[\"city\"]#deletes key-value pair"
   ]
  },
  {
   "cell_type": "code",
   "execution_count": 24,
   "id": "c555bbc5-8d2a-4987-8fe0-9bae3965a608",
   "metadata": {},
   "outputs": [],
   "source": [
    "credentials.clear()#clears all elements"
   ]
  },
  {
   "cell_type": "markdown",
   "id": "70839dc7-1c58-429e-bd7f-b31a379645b7",
   "metadata": {},
   "source": [
    "5. Dictionary methods"
   ]
  },
  {
   "cell_type": "code",
   "execution_count": 31,
   "id": "32373c6f-7497-4020-b037-e262f80466ee",
   "metadata": {},
   "outputs": [],
   "source": [
    "prices={\n",
    "    \"tshirt\":100,\n",
    "    \"trouser\":500,\n",
    "    \"dress\":350,\n",
    "    \"short\":250,\n",
    "    \"socks\":50,\n",
    "}\n",
    "\n",
    "items=dict(bananas=10,apples=5,mangoes=3,avocado=2,pineapple=1)\n"
   ]
  },
  {
   "cell_type": "code",
   "execution_count": 33,
   "id": "81afc15c-05af-4604-9d7e-9efbea04629f",
   "metadata": {},
   "outputs": [
    {
     "name": "stdout",
     "output_type": "stream",
     "text": [
      "dict_keys(['tshirt', 'trouser', 'dress', 'short', 'socks'])\n"
     ]
    }
   ],
   "source": [
    "print(prices.keys())#returns all keys"
   ]
  },
  {
   "cell_type": "code",
   "execution_count": 35,
   "id": "856bffbc-2a17-4fd3-822e-c5051b400d6e",
   "metadata": {},
   "outputs": [
    {
     "name": "stdout",
     "output_type": "stream",
     "text": [
      "dict_values([10, 5, 3, 2, 1])\n"
     ]
    }
   ],
   "source": [
    "print(items.values())#returns all values in that dictionary"
   ]
  },
  {
   "cell_type": "code",
   "execution_count": 37,
   "id": "6d2186af-08c2-45b2-a34b-4b5536d5354c",
   "metadata": {},
   "outputs": [
    {
     "name": "stdout",
     "output_type": "stream",
     "text": [
      "dict_items([('tshirt', 100), ('trouser', 500), ('dress', 350), ('short', 250), ('socks', 50)])\n"
     ]
    }
   ],
   "source": [
    "print(prices.items())#returns key-value pair as tuples"
   ]
  },
  {
   "cell_type": "code",
   "execution_count": 39,
   "id": "45c453ba-a91f-451e-9c64-02e87704d719",
   "metadata": {},
   "outputs": [
    {
     "name": "stdout",
     "output_type": "stream",
     "text": [
      "{'bananas': 10, 'apples': 5, 'mangoes': 3, 'avocado': 2, 'pineapple': 1}\n"
     ]
    }
   ],
   "source": [
    "print(items.copy())#returns a copy of the dictionary"
   ]
  },
  {
   "cell_type": "code",
   "execution_count": 41,
   "id": "12b6b552-4d36-4466-8e53-4fc7e179a010",
   "metadata": {},
   "outputs": [
    {
     "name": "stdout",
     "output_type": "stream",
     "text": [
      "None\n"
     ]
    }
   ],
   "source": [
    "print(prices.update(items))"
   ]
  },
  {
   "cell_type": "code",
   "execution_count": null,
   "id": "8414104d-5813-4ecd-89ec-9b188dfadb1f",
   "metadata": {},
   "outputs": [],
   "source": []
  }
 ],
 "metadata": {
  "kernelspec": {
   "display_name": "Python 3 (ipykernel)",
   "language": "python",
   "name": "python3"
  },
  "language_info": {
   "codemirror_mode": {
    "name": "ipython",
    "version": 3
   },
   "file_extension": ".py",
   "mimetype": "text/x-python",
   "name": "python",
   "nbconvert_exporter": "python",
   "pygments_lexer": "ipython3",
   "version": "3.12.4"
  }
 },
 "nbformat": 4,
 "nbformat_minor": 5
}
