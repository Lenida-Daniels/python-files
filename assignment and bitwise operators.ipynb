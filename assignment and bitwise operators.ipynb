{
 "cells": [
  {
   "cell_type": "markdown",
   "id": "f0e4998b-1b44-4ed7-9e8a-18e963b5ba44",
   "metadata": {},
   "source": [
    "Assignment operator- assign values to variables"
   ]
  },
  {
   "cell_type": "code",
   "execution_count": 2,
   "id": "e05e8f1f-24df-47e4-87c3-9d3d203ab16b",
   "metadata": {},
   "outputs": [
    {
     "name": "stdout",
     "output_type": "stream",
     "text": [
      "a: 21 b: 10 c : 0\n",
      "a: 21  c = a + b: 31\n"
     ]
    }
   ],
   "source": [
    "a = 21\n",
    "b = 10\n",
    "c = 0\n",
    "print (\"a: {} b: {} c : {}\".format(a,b,c))\n",
    "c = a + b\n",
    "print (\"a: {}  c = a + b: {}\".format(a,c))"
   ]
  },
  {
   "cell_type": "code",
   "execution_count": 4,
   "id": "b612e2b1-45b7-4be9-a996-1e283c0ac299",
   "metadata": {},
   "outputs": [
    {
     "name": "stdout",
     "output_type": "stream",
     "text": [
      "a: 21 c += a: 52\n"
     ]
    }
   ],
   "source": [
    "c += a # shorthand for c=c+a\n",
    "print (\"a: {} c += a: {}\".format(a,c))"
   ]
  },
  {
   "cell_type": "code",
   "execution_count": 6,
   "id": "820e0a18-2d2b-4fab-92c6-ad1bee48bcb4",
   "metadata": {},
   "outputs": [
    {
     "name": "stdout",
     "output_type": "stream",
     "text": [
      "a: 21 c += a: 73\n"
     ]
    }
   ],
   "source": [
    "c += a # shorthand for c=c+a\n",
    "print (\"a: {} c += a: {}\".format(a,c))"
   ]
  },
  {
   "cell_type": "code",
   "execution_count": 8,
   "id": "5324b829-1d07-433a-ab7c-af117088469c",
   "metadata": {},
   "outputs": [
    {
     "name": "stdout",
     "output_type": "stream",
     "text": [
      "a: 2 c **= a: 9\n"
     ]
    }
   ],
   "source": [
    "a=2\n",
    "c=3\n",
    "c **= a\n",
    "print (\"a: {} c **= a: {}\".format(a,c))"
   ]
  },
  {
   "cell_type": "code",
   "execution_count": 10,
   "id": "59436494-8ed1-4e8b-a6c5-3ce8319e91d1",
   "metadata": {},
   "outputs": [
    {
     "name": "stdout",
     "output_type": "stream",
     "text": [
      "a: 2 c //= a: 4\n"
     ]
    }
   ],
   "source": [
    "c //= a\n",
    "print (\"a: {} c //= a: {}\".format(a,c))"
   ]
  },
  {
   "cell_type": "markdown",
   "id": "0efc68d3-7e62-4006-859a-a85fbdfd402e",
   "metadata": {},
   "source": [
    "Bitwise operator - works on bits and performs bit by bit operation."
   ]
  },
  {
   "cell_type": "code",
   "execution_count": 18,
   "id": "08d2f6a3-8173-4526-ba29-47d035ca0ae0",
   "metadata": {},
   "outputs": [
    {
     "name": "stdout",
     "output_type": "stream",
     "text": [
      "a= 10 : 0b1010 b= 20 : 0b10100\n"
     ]
    }
   ],
   "source": [
    "#bin() converts integers to binary strings starting with 0b.\n",
    "a=10\n",
    "b=20\n",
    "print('a=',a,':',bin(a), 'b=',b, ':',bin(b))"
   ]
  },
  {
   "cell_type": "code",
   "execution_count": 20,
   "id": "4a25b272-3f31-49e7-9e29-2c91ae440cd8",
   "metadata": {},
   "outputs": [
    {
     "name": "stdout",
     "output_type": "stream",
     "text": [
      "result of AND is  0 : 0b0\n"
     ]
    }
   ],
   "source": [
    "c = 0\n",
    "\n",
    "c = a & b;        \n",
    "print (\"result of AND is \", c,':',bin(c))\n",
    "# AND compares each bit of a and b \n",
    "# sets each corresponding bit in c to 1 only if both bits in a nd b are 1 otherwise it sets to 0\n",
    "\n"
   ]
  },
  {
   "cell_type": "code",
   "execution_count": 22,
   "id": "28f419f8-b42b-403b-bbc5-e6ec1619398b",
   "metadata": {},
   "outputs": [
    {
     "name": "stdout",
     "output_type": "stream",
     "text": [
      "result of AND is  1 : 0b1\n"
     ]
    }
   ],
   "source": [
    "c = 0\n",
    "a=1\n",
    "b=1\n",
    "c = a & b;        \n",
    "print (\"result of AND is \", c,':',bin(c))"
   ]
  },
  {
   "cell_type": "code",
   "execution_count": 26,
   "id": "4df38ac6-71b9-4597-b656-8dbb9f045598",
   "metadata": {},
   "outputs": [
    {
     "name": "stdout",
     "output_type": "stream",
     "text": [
      "result of AND is  0 : 0b0\n"
     ]
    }
   ],
   "source": [
    "c = 0\n",
    "a=0\n",
    "b=1\n",
    "c = a & b;        \n",
    "print (\"result of AND is \", c,':',bin(c))\n",
    "#returns 1 only if both bits are 1 otherwise 0"
   ]
  },
  {
   "cell_type": "code",
   "execution_count": 28,
   "id": "660748a6-8b1d-4a88-b8ae-2d149afbcae2",
   "metadata": {},
   "outputs": [
    {
     "name": "stdout",
     "output_type": "stream",
     "text": [
      "result of OR is  30 : 0b11110\n"
     ]
    }
   ],
   "source": [
    "a = 20 # Binary: 10100           \n",
    "b = 10   # Binary: 01010 \n",
    "c = a | b;     \n",
    "print (\"result of OR is \", c,':',bin(c))\n",
    "#returns 1 if at least one of the bits is 1 and 0 if both are 0\n",
    "#binary result is 11110\n",
    "#decimal result is 30"
   ]
  },
  {
   "cell_type": "code",
   "execution_count": 30,
   "id": "effb199d-5cc4-413a-b27e-6e9502ce40d1",
   "metadata": {},
   "outputs": [
    {
     "name": "stdout",
     "output_type": "stream",
     "text": [
      "result of EXOR is 30 : 0b11110\n"
     ]
    }
   ],
   "source": [
    "#XOR(^) operator - compares each bit of a and b.\n",
    "#return 1 if the bits are different and 0 if the bits are same\n",
    "# on comparing a = 20: 10100 and b = 10: 01010 you get 11110 which is 30\n",
    "\n",
    "c = a ^ b\n",
    "print(\"result of EXOR is\", c, \":\", bin(c))\n"
   ]
  },
  {
   "cell_type": "code",
   "execution_count": 44,
   "id": "12687a31-557c-4729-aaa2-c11b06b32e83",
   "metadata": {},
   "outputs": [
    {
     "name": "stdout",
     "output_type": "stream",
     "text": [
      "0b10100\n",
      "result of COMPLEMENT is -21 : -0b10101\n"
     ]
    }
   ],
   "source": [
    "#compliment(~) \n",
    "#inverts all bits of a whre 1 becoes 0 and 0 becomes 1\n",
    "#it also considers two's compliment representation meaning result is effectively -(a+1)\n",
    "c=0\n",
    "a=20\n",
    "c = ~a#-(a+1)\n",
    "print(bin(a))\n",
    "print(\"result of COMPLEMENT is\", c, \":\", bin(c))\n",
    "#-(a+1) which is -(20 + 1) = -21\n"
   ]
  },
  {
   "cell_type": "code",
   "execution_count": 54,
   "id": "cec16709-0ba9-4ebe-a7ce-b13e4ac7cf85",
   "metadata": {},
   "outputs": [
    {
     "name": "stdout",
     "output_type": "stream",
     "text": [
      "result of LEFT SHIFT is 80 : 0b1010000\n",
      "0b10100\n",
      "0b1010000\n"
     ]
    }
   ],
   "source": [
    "# left shift(<<)\n",
    "c=0\n",
    "a=20\n",
    "c = a << 2\n",
    "print(\"result of LEFT SHIFT is\", c, \":\", bin(c))\n",
    "print(bin(a))\n",
    "print(bin(c))"
   ]
  },
  {
   "cell_type": "code",
   "execution_count": 56,
   "id": "2d83902e-1b7d-4626-aa9c-0013942f6dd2",
   "metadata": {},
   "outputs": [
    {
     "name": "stdout",
     "output_type": "stream",
     "text": [
      "result of LEFT SHIFT is 5 : 0b101\n",
      "0b10100\n",
      "0b101\n"
     ]
    }
   ],
   "source": [
    "# right shift(<<)\n",
    "c=0\n",
    "a=20\n",
    "c = a >> 2\n",
    "print(\"result of LEFT SHIFT is\", c, \":\", bin(c))\n",
    "print(bin(a))\n",
    "print(bin(c))"
   ]
  },
  {
   "cell_type": "code",
   "execution_count": 76,
   "id": "36ca55ba-c977-43ce-a369-6d5e5cde6e3f",
   "metadata": {},
   "outputs": [
    {
     "name": "stdout",
     "output_type": "stream",
     "text": [
      "result of LEFT SHIFT is 56 : 0b111000\n",
      "0b111\n",
      "0b111000\n"
     ]
    }
   ],
   "source": [
    "# left shift(<<) - adds zero values at the end depending on the  value used\n",
    "c=0\n",
    "a=7\n",
    "c = a << 3\n",
    "print(\"result of LEFT SHIFT is\", c, \":\", bin(c))\n",
    "print(bin(a))\n",
    "print(bin(c))"
   ]
  },
  {
   "cell_type": "code",
   "execution_count": 74,
   "id": "b04a8810-6847-41a7-920f-ee6e8b999933",
   "metadata": {},
   "outputs": [
    {
     "name": "stdout",
     "output_type": "stream",
     "text": [
      "result of LEFT SHIFT is 13 : 0b1101\n",
      "0b11011110\n",
      "0b1101\n"
     ]
    }
   ],
   "source": [
    "#  right shift(<<) - removes values the end based on th values used\n",
    "c=0\n",
    "a=222\n",
    "c = a >> 4\n",
    "print(\"result of LEFT SHIFT is\", c, \":\", bin(c))\n",
    "print(bin(a))\n",
    "print(bin(c))"
   ]
  },
  {
   "cell_type": "code",
   "execution_count": null,
   "id": "4a71030b-6bc2-46f6-af40-dbb5a4d155c9",
   "metadata": {},
   "outputs": [],
   "source": []
  }
 ],
 "metadata": {
  "kernelspec": {
   "display_name": "Python 3 (ipykernel)",
   "language": "python",
   "name": "python3"
  },
  "language_info": {
   "codemirror_mode": {
    "name": "ipython",
    "version": 3
   },
   "file_extension": ".py",
   "mimetype": "text/x-python",
   "name": "python",
   "nbconvert_exporter": "python",
   "pygments_lexer": "ipython3",
   "version": "3.12.4"
  }
 },
 "nbformat": 4,
 "nbformat_minor": 5
}
