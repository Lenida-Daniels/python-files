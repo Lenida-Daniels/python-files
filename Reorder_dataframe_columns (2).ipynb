{
 "cells": [
  {
   "cell_type": "markdown",
   "id": "a5658734-9c3e-4d2f-8476-f8f50eda1b0d",
   "metadata": {},
   "source": [
    "**1.using insert() - most flexible**"
   ]
  },
  {
   "cell_type": "code",
   "execution_count": 6,
   "id": "a24672b9-c082-4c09-b2da-d16e91dffe9b",
   "metadata": {},
   "outputs": [
    {
     "name": "stdout",
     "output_type": "stream",
     "text": [
      "   A  B  C\n",
      "0  1  4  7\n",
      "1  2  5  8\n",
      "2  3  6  9\n"
     ]
    }
   ],
   "source": [
    "import pandas as pd\n",
    "\n",
    "# Sample DataFrame \n",
    "data = {'A': [1, 2, 3], 'B': [4, 5, 6], 'C': [7, 8, 9]}\n",
    "df = pd.DataFrame(data)\n",
    "\n",
    "\n",
    "\n",
    "print(df)"
   ]
  },
  {
   "cell_type": "code",
   "execution_count": 8,
   "id": "936d5472-150d-4545-97c1-935e07494149",
   "metadata": {},
   "outputs": [
    {
     "name": "stdout",
     "output_type": "stream",
     "text": [
      "   C  A  B\n",
      "0  7  1  4\n",
      "1  8  2  5\n",
      "2  9  3  6\n"
     ]
    }
   ],
   "source": [
    "# Move column 'C' to the beginning (position 0)\n",
    "column_to_move = df.pop('C')  # Remove 'C' and store it\n",
    "df.insert(0, 'C', column_to_move) # Insert 'C' at position 0\n",
    "\n",
    "print(df)"
   ]
  },
  {
   "cell_type": "code",
   "execution_count": 10,
   "id": "b3f227d6-9108-4c51-ac19-d590d74e8ab7",
   "metadata": {},
   "outputs": [
    {
     "name": "stdout",
     "output_type": "stream",
     "text": [
      "   C  A  B\n",
      "0  7  1  4\n",
      "1  8  2  5\n",
      "2  9  3  6\n"
     ]
    }
   ],
   "source": [
    "# Move 'B' to the third column (position 2)\n",
    "column_to_move = df.pop('B')\n",
    "df.insert(2, 'B', column_to_move)\n",
    "print(df)"
   ]
  },
  {
   "cell_type": "markdown",
   "id": "1d319cba-b10d-4f47-9780-fc5119075b77",
   "metadata": {},
   "source": [
    "**2.Reindexing(simpler for multiple columns)**"
   ]
  },
  {
   "cell_type": "code",
   "execution_count": 15,
   "id": "e307de04-90ad-479b-8089-9b6e108baa44",
   "metadata": {},
   "outputs": [
    {
     "name": "stdout",
     "output_type": "stream",
     "text": [
      "   C  A   D  B\n",
      "0  7  1  10  4\n",
      "1  8  2  11  5\n",
      "2  9  3  12  6\n"
     ]
    }
   ],
   "source": [
    "data = {'A': [1, 2, 3], 'B': [4, 5, 6], 'C': [7, 8, 9], 'D': [10,11,12]}\n",
    "df = pd.DataFrame(data)\n",
    "\n",
    "\n",
    "new_order = ['C', 'A', 'D', 'B']  # Desired column order\n",
    "df = df[new_order]\n",
    "\n",
    "print(df)"
   ]
  },
  {
   "cell_type": "markdown",
   "id": "bae71b43-99ba-467a-8b33-b9f87e73f579",
   "metadata": {},
   "source": [
    "**3. Using list comprehension (for more complex logic)**"
   ]
  },
  {
   "cell_type": "code",
   "execution_count": 18,
   "id": "438b448f-46eb-4a9f-b1b8-72fcf60ef642",
   "metadata": {},
   "outputs": [
    {
     "name": "stdout",
     "output_type": "stream",
     "text": [
      "   C  A  B\n",
      "0  7  1  4\n",
      "1  8  2  5\n",
      "2  9  3  6\n"
     ]
    }
   ],
   "source": [
    "data = {'A': [1, 2, 3], 'B': [4, 5, 6], 'C': [7, 8, 9]}\n",
    "df = pd.DataFrame(data)\n",
    "\n",
    "# Example: Move 'C' to the beginning, keep others in original order\n",
    "new_columns = ['C'] + [col for col in df.columns if col != 'C']\n",
    "df = df[new_columns]\n",
    "\n",
    "print(df)"
   ]
  },
  {
   "cell_type": "code",
   "execution_count": null,
   "id": "2a8a21f6-c293-4d00-a004-7b6b69b6fc58",
   "metadata": {},
   "outputs": [],
   "source": []
  }
 ],
 "metadata": {
  "kernelspec": {
   "display_name": "Python 3 (ipykernel)",
   "language": "python",
   "name": "python3"
  },
  "language_info": {
   "codemirror_mode": {
    "name": "ipython",
    "version": 3
   },
   "file_extension": ".py",
   "mimetype": "text/x-python",
   "name": "python",
   "nbconvert_exporter": "python",
   "pygments_lexer": "ipython3",
   "version": "3.12.4"
  }
 },
 "nbformat": 4,
 "nbformat_minor": 5
}
