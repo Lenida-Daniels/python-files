{
 "cells": [
  {
   "cell_type": "code",
   "execution_count": 15,
   "id": "1d25cc4d-11fb-4642-a2fd-1e7a5f69d4dc",
   "metadata": {},
   "outputs": [
    {
     "name": "stdout",
     "output_type": "stream",
     "text": [
      "0\n",
      "1\n",
      "2\n",
      "3\n",
      "4\n",
      "5\n",
      "6\n",
      "7\n",
      "8\n",
      "9\n"
     ]
    }
   ],
   "source": [
    "m=0\n",
    "while(m<10):\n",
    "    print(m)\n",
    "    m+=1\n",
    "    if(m==5):\n",
    "        continue"
   ]
  },
  {
   "cell_type": "code",
   "execution_count": 17,
   "id": "25de9a24-3986-4447-998d-b2db2ba15883",
   "metadata": {},
   "outputs": [
    {
     "name": "stdout",
     "output_type": "stream",
     "text": [
      "[3, 4, 5, 6, 'peter']\n"
     ]
    }
   ],
   "source": [
    "list=[3,4,5,6,\"peter\"]\n",
    "print(list)"
   ]
  },
  {
   "cell_type": "code",
   "execution_count": 9,
   "id": "e8193a7b-effe-4499-a129-fc042ddaa54a",
   "metadata": {},
   "outputs": [],
   "source": [
    "import numpy as np"
   ]
  },
  {
   "cell_type": "code",
   "execution_count": 21,
   "id": "a405741b-032e-457e-b8c2-eb0c535581b2",
   "metadata": {},
   "outputs": [
    {
     "data": {
      "text/plain": [
       "['ALLOW_THREADS',\n",
       " 'BUFSIZE',\n",
       " 'CLIP',\n",
       " 'DataSource',\n",
       " 'ERR_CALL',\n",
       " 'ERR_DEFAULT',\n",
       " 'ERR_IGNORE',\n",
       " 'ERR_LOG',\n",
       " 'ERR_PRINT',\n",
       " 'ERR_RAISE',\n",
       " 'ERR_WARN',\n",
       " 'FLOATING_POINT_SUPPORT',\n",
       " 'FPE_DIVIDEBYZERO',\n",
       " 'FPE_INVALID',\n",
       " 'FPE_OVERFLOW',\n",
       " 'FPE_UNDERFLOW',\n",
       " 'False_',\n",
       " 'Inf',\n",
       " 'Infinity',\n",
       " 'MAXDIMS',\n",
       " 'MAY_SHARE_BOUNDS',\n",
       " 'MAY_SHARE_EXACT',\n",
       " 'NAN',\n",
       " 'NINF',\n",
       " 'NZERO',\n",
       " 'NaN',\n",
       " 'PINF',\n",
       " 'PZERO',\n",
       " 'RAISE',\n",
       " 'RankWarning',\n",
       " 'SHIFT_DIVIDEBYZERO',\n",
       " 'SHIFT_INVALID',\n",
       " 'SHIFT_OVERFLOW',\n",
       " 'SHIFT_UNDERFLOW',\n",
       " 'ScalarType',\n",
       " 'True_',\n",
       " 'UFUNC_BUFSIZE_DEFAULT',\n",
       " 'UFUNC_PYVALS_NAME',\n",
       " 'WRAP',\n",
       " '_CopyMode',\n",
       " '_NoValue',\n",
       " '_UFUNC_API',\n",
       " '__NUMPY_SETUP__',\n",
       " '__all__',\n",
       " '__builtins__',\n",
       " '__cached__',\n",
       " '__config__',\n",
       " '__deprecated_attrs__',\n",
       " '__dir__',\n",
       " '__doc__',\n",
       " '__expired_functions__',\n",
       " '__file__',\n",
       " '__former_attrs__',\n",
       " '__future_scalars__',\n",
       " '__getattr__',\n",
       " '__loader__',\n",
       " '__name__',\n",
       " '__package__',\n",
       " '__path__',\n",
       " '__spec__',\n",
       " '__version__',\n",
       " '_add_newdoc_ufunc',\n",
       " '_builtins',\n",
       " '_distributor_init',\n",
       " '_financial_names',\n",
       " '_get_promotion_state',\n",
       " '_globals',\n",
       " '_int_extended_msg',\n",
       " '_mat',\n",
       " '_no_nep50_warning',\n",
       " '_pyinstaller_hooks_dir',\n",
       " '_pytesttester',\n",
       " '_set_promotion_state',\n",
       " '_specific_msg',\n",
       " '_typing',\n",
       " '_using_numpy2_behavior',\n",
       " '_utils',\n",
       " 'abs',\n",
       " 'absolute',\n",
       " 'add',\n",
       " 'add_docstring',\n",
       " 'add_newdoc',\n",
       " 'add_newdoc_ufunc',\n",
       " 'all',\n",
       " 'allclose',\n",
       " 'alltrue',\n",
       " 'amax',\n",
       " 'amin',\n",
       " 'angle',\n",
       " 'any',\n",
       " 'append',\n",
       " 'apply_along_axis',\n",
       " 'apply_over_axes',\n",
       " 'arange',\n",
       " 'arccos',\n",
       " 'arccosh',\n",
       " 'arcsin',\n",
       " 'arcsinh',\n",
       " 'arctan',\n",
       " 'arctan2',\n",
       " 'arctanh',\n",
       " 'argmax',\n",
       " 'argmin',\n",
       " 'argpartition',\n",
       " 'argsort',\n",
       " 'argwhere',\n",
       " 'around',\n",
       " 'array',\n",
       " 'array2string',\n",
       " 'array_equal',\n",
       " 'array_equiv',\n",
       " 'array_repr',\n",
       " 'array_split',\n",
       " 'array_str',\n",
       " 'asanyarray',\n",
       " 'asarray',\n",
       " 'asarray_chkfinite',\n",
       " 'ascontiguousarray',\n",
       " 'asfarray',\n",
       " 'asfortranarray',\n",
       " 'asmatrix',\n",
       " 'atleast_1d',\n",
       " 'atleast_2d',\n",
       " 'atleast_3d',\n",
       " 'average',\n",
       " 'bartlett',\n",
       " 'base_repr',\n",
       " 'binary_repr',\n",
       " 'bincount',\n",
       " 'bitwise_and',\n",
       " 'bitwise_not',\n",
       " 'bitwise_or',\n",
       " 'bitwise_xor',\n",
       " 'blackman',\n",
       " 'block',\n",
       " 'bmat',\n",
       " 'bool_',\n",
       " 'broadcast',\n",
       " 'broadcast_arrays',\n",
       " 'broadcast_shapes',\n",
       " 'broadcast_to',\n",
       " 'busday_count',\n",
       " 'busday_offset',\n",
       " 'busdaycalendar',\n",
       " 'byte',\n",
       " 'byte_bounds',\n",
       " 'bytes_',\n",
       " 'c_',\n",
       " 'can_cast',\n",
       " 'cast',\n",
       " 'cbrt',\n",
       " 'cdouble',\n",
       " 'ceil',\n",
       " 'cfloat',\n",
       " 'char',\n",
       " 'character',\n",
       " 'chararray',\n",
       " 'choose',\n",
       " 'clip',\n",
       " 'clongdouble',\n",
       " 'clongfloat',\n",
       " 'column_stack',\n",
       " 'common_type',\n",
       " 'compare_chararrays',\n",
       " 'compat',\n",
       " 'complex128',\n",
       " 'complex64',\n",
       " 'complex_',\n",
       " 'complexfloating',\n",
       " 'compress',\n",
       " 'concatenate',\n",
       " 'conj',\n",
       " 'conjugate',\n",
       " 'convolve',\n",
       " 'copy',\n",
       " 'copysign',\n",
       " 'copyto',\n",
       " 'corrcoef',\n",
       " 'correlate',\n",
       " 'cos',\n",
       " 'cosh',\n",
       " 'count_nonzero',\n",
       " 'cov',\n",
       " 'cross',\n",
       " 'csingle',\n",
       " 'ctypeslib',\n",
       " 'cumprod',\n",
       " 'cumproduct',\n",
       " 'cumsum',\n",
       " 'datetime64',\n",
       " 'datetime_as_string',\n",
       " 'datetime_data',\n",
       " 'deg2rad',\n",
       " 'degrees',\n",
       " 'delete',\n",
       " 'deprecate',\n",
       " 'deprecate_with_doc',\n",
       " 'diag',\n",
       " 'diag_indices',\n",
       " 'diag_indices_from',\n",
       " 'diagflat',\n",
       " 'diagonal',\n",
       " 'diff',\n",
       " 'digitize',\n",
       " 'disp',\n",
       " 'divide',\n",
       " 'divmod',\n",
       " 'dot',\n",
       " 'double',\n",
       " 'dsplit',\n",
       " 'dstack',\n",
       " 'dtype',\n",
       " 'dtypes',\n",
       " 'e',\n",
       " 'ediff1d',\n",
       " 'einsum',\n",
       " 'einsum_path',\n",
       " 'emath',\n",
       " 'empty',\n",
       " 'empty_like',\n",
       " 'equal',\n",
       " 'errstate',\n",
       " 'euler_gamma',\n",
       " 'exceptions',\n",
       " 'exp',\n",
       " 'exp2',\n",
       " 'expand_dims',\n",
       " 'expm1',\n",
       " 'expm1x',\n",
       " 'extract',\n",
       " 'eye',\n",
       " 'fabs',\n",
       " 'fastCopyAndTranspose',\n",
       " 'fft',\n",
       " 'fill_diagonal',\n",
       " 'find_common_type',\n",
       " 'finfo',\n",
       " 'fix',\n",
       " 'flatiter',\n",
       " 'flatnonzero',\n",
       " 'flexible',\n",
       " 'flip',\n",
       " 'fliplr',\n",
       " 'flipud',\n",
       " 'float16',\n",
       " 'float32',\n",
       " 'float64',\n",
       " 'float_',\n",
       " 'float_power',\n",
       " 'floating',\n",
       " 'floor',\n",
       " 'floor_divide',\n",
       " 'fmax',\n",
       " 'fmin',\n",
       " 'fmod',\n",
       " 'format_float_positional',\n",
       " 'format_float_scientific',\n",
       " 'format_parser',\n",
       " 'frexp',\n",
       " 'from_dlpack',\n",
       " 'frombuffer',\n",
       " 'fromfile',\n",
       " 'fromfunction',\n",
       " 'fromiter',\n",
       " 'frompyfunc',\n",
       " 'fromregex',\n",
       " 'fromstring',\n",
       " 'full',\n",
       " 'full_like',\n",
       " 'gcd',\n",
       " 'generic',\n",
       " 'genfromtxt',\n",
       " 'geomspace',\n",
       " 'get_array_wrap',\n",
       " 'get_include',\n",
       " 'get_printoptions',\n",
       " 'getbufsize',\n",
       " 'geterr',\n",
       " 'geterrcall',\n",
       " 'geterrobj',\n",
       " 'gradient',\n",
       " 'greater',\n",
       " 'greater_equal',\n",
       " 'half',\n",
       " 'hamming',\n",
       " 'hanning',\n",
       " 'heaviside',\n",
       " 'histogram',\n",
       " 'histogram2d',\n",
       " 'histogram_bin_edges',\n",
       " 'histogramdd',\n",
       " 'hsplit',\n",
       " 'hstack',\n",
       " 'hypot',\n",
       " 'i0',\n",
       " 'identity',\n",
       " 'iinfo',\n",
       " 'imag',\n",
       " 'in1d',\n",
       " 'index_exp',\n",
       " 'indices',\n",
       " 'inexact',\n",
       " 'inf',\n",
       " 'info',\n",
       " 'infty',\n",
       " 'inner',\n",
       " 'insert',\n",
       " 'int16',\n",
       " 'int32',\n",
       " 'int64',\n",
       " 'int8',\n",
       " 'int_',\n",
       " 'intc',\n",
       " 'integer',\n",
       " 'interp',\n",
       " 'intersect1d',\n",
       " 'intp',\n",
       " 'invert',\n",
       " 'is_busday',\n",
       " 'isclose',\n",
       " 'iscomplex',\n",
       " 'iscomplexobj',\n",
       " 'isfinite',\n",
       " 'isfortran',\n",
       " 'isin',\n",
       " 'isinf',\n",
       " 'isnan',\n",
       " 'isnat',\n",
       " 'isneginf',\n",
       " 'isposinf',\n",
       " 'isreal',\n",
       " 'isrealobj',\n",
       " 'isscalar',\n",
       " 'issctype',\n",
       " 'issubclass_',\n",
       " 'issubdtype',\n",
       " 'issubsctype',\n",
       " 'iterable',\n",
       " 'ix_',\n",
       " 'kaiser',\n",
       " 'kron',\n",
       " 'lcm',\n",
       " 'ldexp',\n",
       " 'left_shift',\n",
       " 'less',\n",
       " 'less_equal',\n",
       " 'lexsort',\n",
       " 'lib',\n",
       " 'linalg',\n",
       " 'linspace',\n",
       " 'little_endian',\n",
       " 'load',\n",
       " 'loadtxt',\n",
       " 'log',\n",
       " 'log10',\n",
       " 'log1p',\n",
       " 'log2',\n",
       " 'logaddexp',\n",
       " 'logaddexp2',\n",
       " 'logical_and',\n",
       " 'logical_not',\n",
       " 'logical_or',\n",
       " 'logical_xor',\n",
       " 'logspace',\n",
       " 'longcomplex',\n",
       " 'longdouble',\n",
       " 'longfloat',\n",
       " 'longlong',\n",
       " 'lookfor',\n",
       " 'ma',\n",
       " 'mask_indices',\n",
       " 'mat',\n",
       " 'matmul',\n",
       " 'matrix',\n",
       " 'max',\n",
       " 'maximum',\n",
       " 'maximum_sctype',\n",
       " 'may_share_memory',\n",
       " 'mean',\n",
       " 'median',\n",
       " 'memmap',\n",
       " 'meshgrid',\n",
       " 'mgrid',\n",
       " 'min',\n",
       " 'min_scalar_type',\n",
       " 'minimum',\n",
       " 'mintypecode',\n",
       " 'mod',\n",
       " 'modf',\n",
       " 'moveaxis',\n",
       " 'msort',\n",
       " 'multiply',\n",
       " 'nan',\n",
       " 'nan_to_num',\n",
       " 'nanargmax',\n",
       " 'nanargmin',\n",
       " 'nancumprod',\n",
       " 'nancumsum',\n",
       " 'nanmax',\n",
       " 'nanmean',\n",
       " 'nanmedian',\n",
       " 'nanmin',\n",
       " 'nanpercentile',\n",
       " 'nanprod',\n",
       " 'nanquantile',\n",
       " 'nanstd',\n",
       " 'nansum',\n",
       " 'nanvar',\n",
       " 'nbytes',\n",
       " 'ndarray',\n",
       " 'ndenumerate',\n",
       " 'ndim',\n",
       " 'ndindex',\n",
       " 'nditer',\n",
       " 'negative',\n",
       " 'nested_iters',\n",
       " 'newaxis',\n",
       " 'nextafter',\n",
       " 'nonzero',\n",
       " 'not_equal',\n",
       " 'numarray',\n",
       " 'number',\n",
       " 'obj2sctype',\n",
       " 'object_',\n",
       " 'ogrid',\n",
       " 'oldnumeric',\n",
       " 'ones',\n",
       " 'ones_like',\n",
       " 'outer',\n",
       " 'packbits',\n",
       " 'pad',\n",
       " 'partition',\n",
       " 'percentile',\n",
       " 'pi',\n",
       " 'piecewise',\n",
       " 'place',\n",
       " 'poly',\n",
       " 'poly1d',\n",
       " 'polyadd',\n",
       " 'polyder',\n",
       " 'polydiv',\n",
       " 'polyfit',\n",
       " 'polyint',\n",
       " 'polymul',\n",
       " 'polynomial',\n",
       " 'polysub',\n",
       " 'polyval',\n",
       " 'positive',\n",
       " 'power',\n",
       " 'printoptions',\n",
       " 'prod',\n",
       " 'product',\n",
       " 'promote_types',\n",
       " 'ptp',\n",
       " 'put',\n",
       " 'put_along_axis',\n",
       " 'putmask',\n",
       " 'quantile',\n",
       " 'r_',\n",
       " 'rad2deg',\n",
       " 'radians',\n",
       " 'random',\n",
       " 'ravel',\n",
       " 'ravel_multi_index',\n",
       " 'real',\n",
       " 'real_if_close',\n",
       " 'rec',\n",
       " 'recarray',\n",
       " 'recfromcsv',\n",
       " 'recfromtxt',\n",
       " 'reciprocal',\n",
       " 'record',\n",
       " 'remainder',\n",
       " 'repeat',\n",
       " 'require',\n",
       " 'reshape',\n",
       " 'resize',\n",
       " 'result_type',\n",
       " 'right_shift',\n",
       " 'rint',\n",
       " 'roll',\n",
       " 'rollaxis',\n",
       " 'roots',\n",
       " 'rot90',\n",
       " 'round',\n",
       " 'round_',\n",
       " 'row_stack',\n",
       " 's_',\n",
       " 'safe_eval',\n",
       " 'save',\n",
       " 'savetxt',\n",
       " 'savez',\n",
       " 'savez_compressed',\n",
       " 'sctype2char',\n",
       " 'sctypeDict',\n",
       " 'sctypes',\n",
       " 'searchsorted',\n",
       " 'select',\n",
       " 'set_numeric_ops',\n",
       " 'set_printoptions',\n",
       " 'set_string_function',\n",
       " 'setbufsize',\n",
       " 'setdiff1d',\n",
       " 'seterr',\n",
       " 'seterrcall',\n",
       " 'seterrobj',\n",
       " 'setxor1d',\n",
       " 'shape',\n",
       " 'shares_memory',\n",
       " 'short',\n",
       " 'show_config',\n",
       " 'show_runtime',\n",
       " 'sign',\n",
       " 'signbit',\n",
       " 'signedinteger',\n",
       " 'sin',\n",
       " 'sinc',\n",
       " 'single',\n",
       " 'singlecomplex',\n",
       " 'sinh',\n",
       " 'size',\n",
       " 'sometrue',\n",
       " 'sort',\n",
       " 'sort_complex',\n",
       " 'source',\n",
       " 'spacing',\n",
       " 'split',\n",
       " 'sqrt',\n",
       " 'square',\n",
       " 'squeeze',\n",
       " 'stack',\n",
       " 'std',\n",
       " 'str_',\n",
       " 'string_',\n",
       " 'subtract',\n",
       " 'sum',\n",
       " 'swapaxes',\n",
       " 'take',\n",
       " 'take_along_axis',\n",
       " 'tan',\n",
       " 'tanh',\n",
       " 'tensordot',\n",
       " 'test',\n",
       " 'testing',\n",
       " 'tile',\n",
       " 'timedelta64',\n",
       " 'trace',\n",
       " 'tracemalloc_domain',\n",
       " 'transpose',\n",
       " 'trapz',\n",
       " 'tri',\n",
       " 'tril',\n",
       " 'tril_indices',\n",
       " 'tril_indices_from',\n",
       " 'trim_zeros',\n",
       " 'triu',\n",
       " 'triu_indices',\n",
       " 'triu_indices_from',\n",
       " 'true_divide',\n",
       " 'trunc',\n",
       " 'typecodes',\n",
       " 'typename',\n",
       " 'ubyte',\n",
       " 'ufunc',\n",
       " 'uint',\n",
       " 'uint16',\n",
       " 'uint32',\n",
       " 'uint64',\n",
       " 'uint8',\n",
       " 'uintc',\n",
       " 'uintp',\n",
       " 'ulonglong',\n",
       " 'unicode_',\n",
       " 'union1d',\n",
       " 'unique',\n",
       " 'unpackbits',\n",
       " 'unravel_index',\n",
       " 'unsignedinteger',\n",
       " 'unwrap',\n",
       " 'ushort',\n",
       " 'vander',\n",
       " 'var',\n",
       " 'vdot',\n",
       " 'vectorize',\n",
       " 'version',\n",
       " 'void',\n",
       " 'vsplit',\n",
       " 'vstack',\n",
       " 'where',\n",
       " 'who',\n",
       " 'zeros',\n",
       " 'zeros_like']"
      ]
     },
     "execution_count": 21,
     "metadata": {},
     "output_type": "execute_result"
    }
   ],
   "source": [
    "dir(np)"
   ]
  },
  {
   "cell_type": "code",
   "execution_count": 11,
   "id": "e1438365-f8ef-4bce-8098-d84a71635937",
   "metadata": {},
   "outputs": [
    {
     "data": {
      "text/plain": [
       "array([23, 34, 56, 67])"
      ]
     },
     "execution_count": 11,
     "metadata": {},
     "output_type": "execute_result"
    }
   ],
   "source": [
    "x=np.array([23,34,56,67])\n",
    "x"
   ]
  },
  {
   "cell_type": "code",
   "execution_count": 13,
   "id": "b0320fe7-adef-4ca6-8fd6-092d70e1a65d",
   "metadata": {},
   "outputs": [
    {
     "data": {
      "text/plain": [
       "[1, 2, 3, 4, 5]"
      ]
     },
     "execution_count": 13,
     "metadata": {},
     "output_type": "execute_result"
    }
   ],
   "source": [
    "a=[1,2,3,4,5]\n",
    "a"
   ]
  },
  {
   "cell_type": "code",
   "execution_count": 15,
   "id": "af57ab63-c516-4b5e-ab56-f11ace1fe8fa",
   "metadata": {},
   "outputs": [],
   "source": [
    "b=4*x+7#it runs because it's an array"
   ]
  },
  {
   "cell_type": "code",
   "execution_count": 17,
   "id": "7a8e5056-5bf3-42c6-b5dc-4dbb6495bad1",
   "metadata": {},
   "outputs": [
    {
     "ename": "TypeError",
     "evalue": "can only concatenate list (not \"int\") to list",
     "output_type": "error",
     "traceback": [
      "\u001b[1;31m---------------------------------------------------------------------------\u001b[0m",
      "\u001b[1;31mTypeError\u001b[0m                                 Traceback (most recent call last)",
      "Cell \u001b[1;32mIn[17], line 1\u001b[0m\n\u001b[1;32m----> 1\u001b[0m y\u001b[38;5;241m=\u001b[39m\u001b[38;5;241m4\u001b[39m\u001b[38;5;241m*\u001b[39ma\u001b[38;5;241m+\u001b[39m\u001b[38;5;241m7\u001b[39m\n",
      "\u001b[1;31mTypeError\u001b[0m: can only concatenate list (not \"int\") to list"
     ]
    }
   ],
   "source": [
    "y=4*a+7 #convert it to an array for it to work"
   ]
  },
  {
   "cell_type": "code",
   "execution_count": 31,
   "id": "1f2beb86-c723-48e1-907f-f524c7ccad53",
   "metadata": {},
   "outputs": [],
   "source": [
    "a=np.array(a)"
   ]
  },
  {
   "cell_type": "code",
   "execution_count": 33,
   "id": "6f60ade9-d798-4bd3-b286-16230d6b7e66",
   "metadata": {},
   "outputs": [],
   "source": [
    "y=4*a+7"
   ]
  },
  {
   "cell_type": "code",
   "execution_count": 35,
   "id": "171a677b-ed9e-498d-88fb-b938723acf91",
   "metadata": {},
   "outputs": [],
   "source": [
    "import matplotlib.pyplot as plt"
   ]
  },
  {
   "cell_type": "code",
   "execution_count": 51,
   "id": "7273eeef-0557-4cf0-a14e-3451ef6e1836",
   "metadata": {},
   "outputs": [
    {
     "data": {
      "image/png": "[encoded data removed]",
      "text/plain": [
       "<Figure size 640x480 with 1 Axes>"
      ]
     },
     "metadata": {},
     "output_type": "display_data"
    }
   ],
   "source": [
    "plt.plot(a,y,label=\"y=4*a+7\")\n",
    "plt.plot(x,b,label=\"b=4*x+7\")\n",
    "plt.legend();"
   ]
  },
  {
   "cell_type": "code",
   "execution_count": 55,
   "id": "5c7942af-4574-42b3-84ff-fbe5ccb53bcf",
   "metadata": {},
   "outputs": [
    {
     "data": {
      "text/plain": [
       "array([0.90088363, 0.79184501, 0.1129721 , 0.12692215, 0.51758916,\n",
       "       0.22550455, 0.32291071, 0.05183953, 0.52545788, 0.82005462])"
      ]
     },
     "execution_count": 55,
     "metadata": {},
     "output_type": "execute_result"
    }
   ],
   "source": [
    "w=np.random.rand(10)\n",
    "w"
   ]
  },
  {
   "cell_type": "code",
   "execution_count": 83,
   "id": "956d396c-4f2f-4fa9-8261-ee1cbc9b527c",
   "metadata": {},
   "outputs": [],
   "source": [
    "k=np.linspace(0,20,21)"
   ]
  },
  {
   "cell_type": "code",
   "execution_count": 85,
   "id": "af5ee085-9fe3-48a3-8254-7f6086d73945",
   "metadata": {},
   "outputs": [
    {
     "data": {
      "text/plain": [
       "array([ 0.,  1.,  2.,  3.,  4.,  5.,  6.,  7.,  8.,  9., 10., 11., 12.,\n",
       "       13., 14., 15., 16., 17., 18., 19., 20.])"
      ]
     },
     "execution_count": 85,
     "metadata": {},
     "output_type": "execute_result"
    }
   ],
   "source": [
    "k"
   ]
  },
  {
   "cell_type": "code",
   "execution_count": 93,
   "id": "dca752df-f32f-4777-9288-df57610f06d0",
   "metadata": {},
   "outputs": [
    {
     "data": {
      "text/plain": [
       "array([-6.        , -4.66666667, -3.33333333, -2.        , -0.66666667,\n",
       "        0.66666667,  2.        ,  3.33333333,  4.66666667,  6.        ])"
      ]
     },
     "execution_count": 93,
     "metadata": {},
     "output_type": "execute_result"
    }
   ],
   "source": [
    "s=np.linspace(-6,6,10)\n",
    "s"
   ]
  },
  {
   "cell_type": "code",
   "execution_count": 97,
   "id": "716477d7-0265-4825-9600-8af95d1d0d05",
   "metadata": {},
   "outputs": [],
   "source": [
    "k=s**2+3*s+5"
   ]
  },
  {
   "cell_type": "code",
   "execution_count": 99,
   "id": "e0bb1591-8ea7-4c8a-825a-a425c4f62b7d",
   "metadata": {},
   "outputs": [
    {
     "data": {
      "image/png": "[encoded data removed]",
      "text/plain": [
       "<Figure size 640x480 with 1 Axes>"
      ]
     },
     "metadata": {},
     "output_type": "display_data"
    }
   ],
   "source": [
    "plt.plot(s,k,label=\"k=x**2+3*s+5\")\n",
    "\n",
    "plt.legend();"
   ]
  },
  {
   "cell_type": "code",
   "execution_count": 105,
   "id": "681b95a5-6b46-4a43-bd3f-b3c0b432b830",
   "metadata": {},
   "outputs": [
    {
     "name": "stdout",
     "output_type": "stream",
     "text": [
      "False\n"
     ]
    }
   ],
   "source": [
    "def checkv(str):\n",
    "    vowels=['a','e','i','o','u']\n",
    "    for letter in str:\n",
    "        if letter in vowels:\n",
    "            return True\n",
    "    return False\n",
    "\n",
    "print(checkv(\"pvnpls\"))\n",
    "          \n",
    "   \n"
   ]
  },
  {
   "cell_type": "code",
   "execution_count": 107,
   "id": "e5c6a8f7-4d4f-4db1-805e-a2beb97173f8",
   "metadata": {},
   "outputs": [
    {
     "name": "stdout",
     "output_type": "stream",
     "text": [
      "True\n"
     ]
    }
   ],
   "source": [
    "def checkv(str):\n",
    "    vowels=['a','e','i','o','u']\n",
    "    for letter in str:\n",
    "        if letter in vowels:\n",
    "            return True\n",
    "    return False\n",
    "\n",
    "print(checkv(\"people\"))\n",
    "          "
   ]
  },
  {
   "cell_type": "code",
   "execution_count": 111,
   "id": "8fbf8e6f-9598-4ff9-89d4-2f844f0b2561",
   "metadata": {},
   "outputs": [
    {
     "name": "stdout",
     "output_type": "stream",
     "text": [
      "3\n"
     ]
    }
   ],
   "source": [
    "def checkv(str):\n",
    "    vowels=['a','e','i','o','u']\n",
    "    count=0\n",
    "    for letter in str:\n",
    "        if letter in vowels:\n",
    "            count+=1\n",
    "    return count\n",
    "\n",
    "print(checkv(\"people\"))\n",
    "          "
   ]
  },
  {
   "cell_type": "code",
   "execution_count": 117,
   "id": "1c9cb962-6743-4451-984b-1b4b928c95d7",
   "metadata": {},
   "outputs": [
    {
     "data": {
      "text/plain": [
       "40"
      ]
     },
     "execution_count": 117,
     "metadata": {},
     "output_type": "execute_result"
    }
   ],
   "source": [
    "def checkB(mylist):\n",
    "    big=0\n",
    "    mylist=[20,30,40]\n",
    "    for item in mylist:\n",
    "        if item>big:\n",
    "            big=item\n",
    "    return big\n",
    "\n",
    "checkB(mylist)\n",
    "          "
   ]
  },
  {
   "cell_type": "code",
   "execution_count": 121,
   "id": "0f218434-0970-4338-86ff-83ddc631d365",
   "metadata": {},
   "outputs": [
    {
     "data": {
      "text/plain": [
       "9"
      ]
     },
     "execution_count": 121,
     "metadata": {},
     "output_type": "execute_result"
    }
   ],
   "source": [
    "def checkB(*mylist):\n",
    "    big=0\n",
    " \n",
    "    for item in mylist:\n",
    "        if item>big:\n",
    "            big=item\n",
    "    return big\n",
    "\n",
    "checkB(1,2,3,4,5,6,7,8,9,0)"
   ]
  },
  {
   "cell_type": "code",
   "execution_count": 131,
   "id": "70bb6fd8-b187-4624-86e5-6a0f49f15b54",
   "metadata": {},
   "outputs": [
    {
     "name": "stdout",
     "output_type": "stream",
     "text": [
      "lenny : 10\n",
      "None\n"
     ]
    }
   ],
   "source": [
    "#default argument\n",
    "def login(name,age=10):\n",
    "    print(name,':',age)\n",
    "    return \n",
    "print(login(\"lenny\"))\n",
    "    \n",
    "    "
   ]
  },
  {
   "cell_type": "code",
   "execution_count": 133,
   "id": "0e5ff950-95d7-4404-afd8-d370b66efbde",
   "metadata": {},
   "outputs": [
    {
     "name": "stdout",
     "output_type": "stream",
     "text": [
      "lenny : 10\n",
      "None\n"
     ]
    }
   ],
   "source": [
    "#required argument\n",
    "def login(name,age):\n",
    "    print(name,':',age)\n",
    "    return \n",
    "print(login(\"lenny\",10))"
   ]
  },
  {
   "cell_type": "code",
   "execution_count": 135,
   "id": "850ad66d-49c2-493b-b6f7-6d9eec566b2d",
   "metadata": {},
   "outputs": [
    {
     "name": "stdout",
     "output_type": "stream",
     "text": [
      "lenny : 10\n",
      "None\n"
     ]
    }
   ],
   "source": [
    "#keyword argument\n",
    "def login(name,age):\n",
    "    print(name,':',age)\n",
    "    return \n",
    "print(login(age=10,name=\"lenny\"))"
   ]
  },
  {
   "cell_type": "code",
   "execution_count": 155,
   "id": "11735265-0ab7-466c-979c-6873e20b2fd8",
   "metadata": {},
   "outputs": [
    {
     "name": "stdout",
     "output_type": "stream",
     "text": [
      "10 (4, 'lenny', 'Daniels', 'xyz')\n",
      "None\n"
     ]
    }
   ],
   "source": [
    "#variable-length argument\n",
    "def login(age,*name):\n",
    "    print(age,name)\n",
    "    return \n",
    "print(login(10,\"lenny\",\"Daniels\",\"xyz\"))"
   ]
  },
  {
   "cell_type": "code",
   "execution_count": 157,
   "id": "4a81cdaf-0575-44bb-b2c0-58ed88856479",
   "metadata": {},
   "outputs": [
    {
     "name": "stdout",
     "output_type": "stream",
     "text": [
      "3\n"
     ]
    }
   ],
   "source": [
    "name=\"xyz\"\n",
    "print(len(name))\n"
   ]
  },
  {
   "cell_type": "code",
   "execution_count": 159,
   "id": "93a31ffd-2899-41c2-9861-5bc03cbad51b",
   "metadata": {},
   "outputs": [
    {
     "data": {
      "text/plain": [
       "4"
      ]
     },
     "execution_count": 159,
     "metadata": {},
     "output_type": "execute_result"
    }
   ],
   "source": [
    "9//2"
   ]
  },
  {
   "cell_type": "code",
   "execution_count": 161,
   "id": "c703d5db-41c4-4c06-aa2a-a5775c4d507b",
   "metadata": {},
   "outputs": [
    {
     "data": {
      "text/plain": [
       "1"
      ]
     },
     "execution_count": 161,
     "metadata": {},
     "output_type": "execute_result"
    }
   ],
   "source": [
    "9%2"
   ]
  },
  {
   "cell_type": "code",
   "execution_count": 163,
   "id": "8c230763-4490-4a50-ae29-d5266097fe9c",
   "metadata": {},
   "outputs": [
    {
     "data": {
      "text/plain": [
       "0"
      ]
     },
     "execution_count": 163,
     "metadata": {},
     "output_type": "execute_result"
    }
   ],
   "source": [
    "10%2"
   ]
  },
  {
   "cell_type": "code",
   "execution_count": 165,
   "id": "80bb8943-e650-480b-ad70-4fbe2e0d57da",
   "metadata": {},
   "outputs": [
    {
     "data": {
      "text/plain": [
       "5"
      ]
     },
     "execution_count": 165,
     "metadata": {},
     "output_type": "execute_result"
    }
   ],
   "source": [
    "10//2"
   ]
  },
  {
   "cell_type": "code",
   "execution_count": 167,
   "id": "fae8ee57-8ed1-4ee1-afa3-b5083c0daa31",
   "metadata": {},
   "outputs": [
    {
     "data": {
      "text/plain": [
       "5.0"
      ]
     },
     "execution_count": 167,
     "metadata": {},
     "output_type": "execute_result"
    }
   ],
   "source": [
    "10/2"
   ]
  },
  {
   "cell_type": "code",
   "execution_count": 175,
   "id": "f260d04e-21fe-49a8-b9be-1080d8c28779",
   "metadata": {},
   "outputs": [
    {
     "data": {
      "text/plain": [
       "6"
      ]
     },
     "execution_count": 175,
     "metadata": {},
     "output_type": "execute_result"
    }
   ],
   "source": [
    "c=5\n",
    "c+=1\n",
    "c"
   ]
  },
  {
   "cell_type": "code",
   "execution_count": 185,
   "id": "ad88aa77-857f-4013-807a-298952c6728f",
   "metadata": {},
   "outputs": [
    {
     "data": {
      "text/plain": [
       "True"
      ]
     },
     "execution_count": 185,
     "metadata": {},
     "output_type": "execute_result"
    }
   ],
   "source": [
    "a=[1,2,3,4,5]\n",
    "1 in a"
   ]
  },
  {
   "cell_type": "code",
   "execution_count": 187,
   "id": "f63278a6-822d-4e24-b3d8-bc637a3a2cb4",
   "metadata": {},
   "outputs": [
    {
     "data": {
      "text/plain": [
       "False"
      ]
     },
     "execution_count": 187,
     "metadata": {},
     "output_type": "execute_result"
    }
   ],
   "source": [
    "12 in a"
   ]
  },
  {
   "cell_type": "code",
   "execution_count": 189,
   "id": "039fcd42-01f2-472d-931f-d187713f5b8a",
   "metadata": {},
   "outputs": [
    {
     "data": {
      "text/plain": [
       "True"
      ]
     },
     "execution_count": 189,
     "metadata": {},
     "output_type": "execute_result"
    }
   ],
   "source": [
    "12 not in a"
   ]
  },
  {
   "cell_type": "code",
   "execution_count": 191,
   "id": "1227f9f6-7d22-4e38-af92-6ea087ded1b4",
   "metadata": {},
   "outputs": [
    {
     "data": {
      "text/plain": [
       "False"
      ]
     },
     "execution_count": 191,
     "metadata": {},
     "output_type": "execute_result"
    }
   ],
   "source": [
    "1 not in a"
   ]
  },
  {
   "cell_type": "code",
   "execution_count": 193,
   "id": "dd7108a3-d212-4113-a1eb-f891122f2f36",
   "metadata": {},
   "outputs": [
    {
     "data": {
      "text/plain": [
       "tuple"
      ]
     },
     "execution_count": 193,
     "metadata": {},
     "output_type": "execute_result"
    }
   ],
   "source": [
    "fruits=\"apple\",\"banana\",\"watermelon\",\"mangoes\"\n",
    "type(fruits)"
   ]
  },
  {
   "cell_type": "code",
   "execution_count": 199,
   "id": "50750be6-ea35-4412-a89c-8b0be587f856",
   "metadata": {},
   "outputs": [
    {
     "name": "stdout",
     "output_type": "stream",
     "text": [
      "True\n"
     ]
    }
   ],
   "source": [
    "if(\"apple\" in fruits):\n",
    "    print(True)"
   ]
  },
  {
   "cell_type": "code",
   "execution_count": 207,
   "id": "32c452a2-20fc-4dd6-aed7-68d1e8ec7423",
   "metadata": {},
   "outputs": [
    {
     "name": "stdout",
     "output_type": "stream",
     "text": [
      "True\n"
     ]
    }
   ],
   "source": [
    "if(\"lemon\" not in fruits):\n",
    "    print(True)"
   ]
  },
  {
   "cell_type": "code",
   "execution_count": 209,
   "id": "02c7a623-c226-403d-8dcc-38a94e5cf1b5",
   "metadata": {},
   "outputs": [
    {
     "name": "stdout",
     "output_type": "stream",
     "text": [
      "False\n"
     ]
    }
   ],
   "source": [
    "if(\"lemon\" in fruits):\n",
    "    print(True)\n",
    "\n",
    "else:\n",
    "    print(False)"
   ]
  },
  {
   "cell_type": "code",
   "execution_count": 243,
   "id": "d8f19c4c-2be1-4556-a04c-11f73fd212ca",
   "metadata": {},
   "outputs": [
    {
     "name": "stdin",
     "output_type": "stream",
     "text": [
      "enter a score: 53\n"
     ]
    },
    {
     "name": "stdout",
     "output_type": "stream",
     "text": [
      "C\n"
     ]
    }
   ],
   "source": [
    "score=int(input(\"enter a score:\"))\n",
    "if(score>=70):\n",
    "    print(\"A\")\n",
    " \n",
    "elif(score<70 and score>60):\n",
    "    print(\"B\")\n",
    "elif(score<60 and score>50):\n",
    "    print(\"C\")\n",
    "else:\n",
    "    print(\"below average\")\n",
    "\n",
    "\n"
   ]
  },
  {
   "cell_type": "code",
   "execution_count": 265,
   "id": "47d6b49b-6d5f-45a9-80c2-ceb46e42330c",
   "metadata": {},
   "outputs": [
    {
     "name": "stdout",
     "output_type": "stream",
     "text": [
      "accept\n",
      "don't admit\n"
     ]
    }
   ],
   "source": [
    "gender=\"female\"\n",
    "marks=\"320\"\n",
    "\n",
    "if(gender == \"female\"):\n",
    "    print(\"accept\")\n",
    "    if(int(marks)>=380):\n",
    "        print(\"admit\")\n",
    "    else:\n",
    "        print(\"don't admit\")\n",
    "\n",
    "else:\n",
    "    print(\"only female students allowed\")\n",
    "\n"
   ]
  },
  {
   "cell_type": "code",
   "execution_count": 275,
   "id": "66a71b20-6527-4d90-86f0-7df85c3d9c67",
   "metadata": {},
   "outputs": [
    {
     "data": {
      "text/plain": [
       "(1, 2, 3, 4, 5)"
      ]
     },
     "execution_count": 275,
     "metadata": {},
     "output_type": "execute_result"
    }
   ],
   "source": [
    "num=1,2,3,4,5\n",
    "num"
   ]
  },
  {
   "cell_type": "code",
   "execution_count": 279,
   "id": "459aa1a3-e099-4790-a447-28c83bab2f40",
   "metadata": {},
   "outputs": [],
   "source": [
    "while(num==2):\n",
    "    break\n",
    "    print(num)"
   ]
  },
  {
   "cell_type": "code",
   "execution_count": 287,
   "id": "30571f63-814e-4b27-aaa8-61bd08ee2e71",
   "metadata": {},
   "outputs": [
    {
     "name": "stdout",
     "output_type": "stream",
     "text": [
      "1\n",
      "2\n",
      "3\n",
      "4\n",
      "5\n"
     ]
    }
   ],
   "source": [
    "a=0\n",
    "while(a<5):\n",
    "    a+=1\n",
    "    print(a)\n",
    "    "
   ]
  },
  {
   "cell_type": "code",
   "execution_count": 293,
   "id": "68697b7d-1c39-4c63-89c0-ea11fee0581c",
   "metadata": {},
   "outputs": [
    {
     "name": "stdout",
     "output_type": "stream",
     "text": [
      "1\n",
      "2\n",
      "3\n",
      "5\n"
     ]
    }
   ],
   "source": [
    "a=0\n",
    "while(a<5):\n",
    "    a+=1\n",
    "    if(a==4):\n",
    "        continue\n",
    "    print(a)\n",
    "    "
   ]
  },
  {
   "cell_type": "code",
   "execution_count": 297,
   "id": "b0ce6e52-7f16-4d05-8753-2cd8bbd482d7",
   "metadata": {},
   "outputs": [
    {
     "name": "stdout",
     "output_type": "stream",
     "text": [
      "True\n"
     ]
    }
   ],
   "source": [
    "if(10>5):\n",
    "    print(\"True\")\n",
    "else:\n",
    "    pass"
   ]
  },
  {
   "cell_type": "code",
   "execution_count": 301,
   "id": "024b81d5-01d0-402f-bbdc-4a8aabc608e1",
   "metadata": {},
   "outputs": [],
   "source": [
    "my_dict={\n",
    "    \"name\":\"xyz\",\n",
    "    \"age\":20\n",
    "}"
   ]
  },
  {
   "cell_type": "code",
   "execution_count": 303,
   "id": "8911e873-60b2-47fb-b974-fc6356569db5",
   "metadata": {},
   "outputs": [
    {
     "data": {
      "text/plain": [
       "{'name': 'xyz', 'age': 20}"
      ]
     },
     "execution_count": 303,
     "metadata": {},
     "output_type": "execute_result"
    }
   ],
   "source": [
    "my_dict"
   ]
  },
  {
   "cell_type": "code",
   "execution_count": 333,
   "id": "73907f9b-5d86-4fa8-bcc8-26dc600bb72c",
   "metadata": {},
   "outputs": [],
   "source": [
    "#for key,value in my_dict:\n",
    "  #  print(f\"my name is{name}\")"
   ]
  },
  {
   "cell_type": "code",
   "execution_count": 341,
   "id": "0905c033-572e-4f71-8be4-fc73e188bd00",
   "metadata": {},
   "outputs": [
    {
     "name": "stdout",
     "output_type": "stream",
     "text": [
      "apple\n",
      "banana\n",
      "watermelon\n",
      "mangoes\n"
     ]
    }
   ],
   "source": [
    "fruits=[\"apple\",\"banana\",\"watermelon\",\"mangoes\"]\n",
    "for items in fruits:\n",
    "    print(items[0:])\n",
    "    "
   ]
  },
  {
   "cell_type": "code",
   "execution_count": 362,
   "id": "23ff2aea-44b4-4f48-a91e-1cf98210ca8d",
   "metadata": {},
   "outputs": [
    {
     "name": "stdout",
     "output_type": "stream",
     "text": [
      "U\n"
     ]
    },
    {
     "ename": "NameError",
     "evalue": "name 'V' is not defined",
     "output_type": "error",
     "traceback": [
      "\u001b[1;31m---------------------------------------------------------------------------\u001b[0m",
      "\u001b[1;31mNameError\u001b[0m                                 Traceback (most recent call last)",
      "Cell \u001b[1;32mIn[362], line 4\u001b[0m\n\u001b[0;32m      2\u001b[0m \u001b[38;5;28;01mfor\u001b[39;00m letter \u001b[38;5;129;01min\u001b[39;00m name:\n\u001b[0;32m      3\u001b[0m     \u001b[38;5;28mprint\u001b[39m(letter)\n\u001b[1;32m----> 4\u001b[0m     \u001b[38;5;28;01mif\u001b[39;00m letter\u001b[38;5;241m==\u001b[39mV:\n\u001b[0;32m      5\u001b[0m      \u001b[38;5;28;01mbreak\u001b[39;00m\n",
      "\u001b[1;31mNameError\u001b[0m: name 'V' is not defined"
     ]
    }
   ],
   "source": [
    "name=\"UNIVERSITY\"\n",
    "for letter in name:\n",
    "    print(letter)\n",
    "    if letter==V:\n",
    "     break"
   ]
  },
  {
   "cell_type": "code",
   "execution_count": 366,
   "id": "066052af-703f-447d-9406-da5f823885ae",
   "metadata": {},
   "outputs": [
    {
     "name": "stdout",
     "output_type": "stream",
     "text": [
      "lion\n",
      "buffalo\n",
      "hippo\n"
     ]
    }
   ],
   "source": [
    "animals = ['lion', 'buffalo', 'hippo'] # using a list \n",
    "for animal in animals: \n",
    "  print(animal) "
   ]
  },
  {
   "cell_type": "code",
   "execution_count": 370,
   "id": "cde851dd-0ecb-4030-9441-b2dfa7c33ebc",
   "metadata": {},
   "outputs": [
    {
     "name": "stdout",
     "output_type": "stream",
     "text": [
      "lion\n",
      "buffalo\n",
      "hippo\n"
     ]
    }
   ],
   "source": [
    "animals = ('lion', 'buffalo', 'hippo') # using a Tuple \n",
    "for animal in animals: \n",
    "  print(animal) "
   ]
  },
  {
   "cell_type": "code",
   "execution_count": 376,
   "id": "6a839838-e645-4b34-a789-f25ed8698097",
   "metadata": {},
   "outputs": [
    {
     "name": "stdout",
     "output_type": "stream",
     "text": [
      "VERSITY\n"
     ]
    }
   ],
   "source": [
    "name=\"UNIVERSITY\"\n",
    "print(name[3:])"
   ]
  },
  {
   "cell_type": "code",
   "execution_count": 378,
   "id": "74994fc1-1441-4856-9f00-c9ef99341be8",
   "metadata": {},
   "outputs": [
    {
     "name": "stdout",
     "output_type": "stream",
     "text": [
      "YTISREVINU\n"
     ]
    }
   ],
   "source": [
    "name=\"UNIVERSITY\"\n",
    "print(name[::-1])"
   ]
  },
  {
   "cell_type": "code",
   "execution_count": null,
   "id": "0dbfdb9d-e1f1-481f-b581-81642bfcf296",
   "metadata": {},
   "outputs": [],
   "source": []
  }
 ],
 "metadata": {
  "kernelspec": {
   "display_name": "Python 3 (ipykernel)",
   "language": "python",
   "name": "python3"
  },
  "language_info": {
   "codemirror_mode": {
    "name": "ipython",
    "version": 3
   },
   "file_extension": ".py",
   "mimetype": "text/x-python",
   "name": "python",
   "nbconvert_exporter": "python",
   "pygments_lexer": "ipython3",
   "version": "3.12.4"
  }
 },
 "nbformat": 4,
 "nbformat_minor": 5
}
