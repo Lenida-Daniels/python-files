{
 "cells": [
  {
   "cell_type": "markdown",
   "id": "68e1ba81-00ea-4a16-9943-44edba4ac81c",
   "metadata": {},
   "source": [
    "print hello world"
   ]
  },
  {
   "cell_type": "code",
   "execution_count": 1,
   "id": "0c483ca0-0baa-4d15-acec-1a5a9e801b80",
   "metadata": {},
   "outputs": [
    {
     "name": "stdout",
     "output_type": "stream",
     "text": [
      "Hello, World\n"
     ]
    }
   ],
   "source": [
    "print(\"Hello, World\")"
   ]
  },
  {
   "cell_type": "markdown",
   "id": "18f46d8b-cb00-4d39-aded-d2ba9248375f",
   "metadata": {},
   "source": [
    "printing output, the function print() is also used to print the value of the variable."
   ]
  },
  {
   "cell_type": "code",
   "execution_count": 3,
   "id": "6f0c0d10-6635-4eb8-a007-29ec4afa486b",
   "metadata": {},
   "outputs": [
    {
     "name": "stdout",
     "output_type": "stream",
     "text": [
      "My name is Lenny\n"
     ]
    }
   ],
   "source": [
    "name=\"Lenny\"\n",
    "print(\"My name is\", name)#don't forget the comma before name"
   ]
  },
  {
   "cell_type": "markdown",
   "id": "023eeea8-ad94-4b73-8e5d-228bcb4027e7",
   "metadata": {},
   "source": [
    "print multiple variables using the following cascading form of the print()function"
   ]
  },
  {
   "cell_type": "code",
   "execution_count": 5,
   "id": "bd6d7947-8049-41a3-a1e4-84241ed5763f",
   "metadata": {},
   "outputs": [
    {
     "name": "stdout",
     "output_type": "stream",
     "text": [
      "i am Lenny . 20 years old. my religion is christianity\n"
     ]
    }
   ],
   "source": [
    "name=\"Lenny\"\n",
    "age=\"20\"\n",
    "religion =\"christianity\"\n",
    "print(\"i am\",name,\".\",age,\"years old.\",\"my religion is\",religion)"
   ]
  },
  {
   "cell_type": "markdown",
   "id": "dc733513-2152-4a92-979f-2e7d1529569b",
   "metadata": {},
   "source": [
    "print without newline using end=\" \" parameter"
   ]
  },
  {
   "cell_type": "code",
   "execution_count": 7,
   "id": "8ee67a91-f5ef-4243-a168-2030bbacde26",
   "metadata": {},
   "outputs": [
    {
     "name": "stdout",
     "output_type": "stream",
     "text": [
      "hello\n",
      "world\n",
      "hello world\n"
     ]
    }
   ],
   "source": [
    "#this prints two separate lines\n",
    "print(\"hello\")\n",
    "print(\"world\")\n",
    "#but this prints without a new line\n",
    "print(\"hello\",end=\" \")\n",
    "print(\"world\")"
   ]
  },
  {
   "cell_type": "code",
   "execution_count": 9,
   "id": "01861a37-8a87-4acd-acee-c450c8abd8b8",
   "metadata": {},
   "outputs": [
    {
     "name": "stdout",
     "output_type": "stream",
     "text": [
      "hello i'm Lenny\n"
     ]
    }
   ],
   "source": [
    "print(\"hello\",end=\" i'm \")# inside the end parameter you can add any value\n",
    "print(\"Lenny\")"
   ]
  },
  {
   "cell_type": "markdown",
   "id": "fe6051a5-01db-41d0-9262-ef92379c7786",
   "metadata": {},
   "source": [
    "Comments. \n",
    "Python has 3 types of comments;\n",
    "1.single-line comment\n",
    "2.multi-line comment\n",
    "3.docstring comment"
   ]
  },
  {
   "cell_type": "code",
   "execution_count": 11,
   "id": "a40d3580-e4c3-43e1-8a3c-3f7bda95ebff",
   "metadata": {},
   "outputs": [],
   "source": [
    "#This is a single line comment, it follows a hash(#) "
   ]
  },
  {
   "cell_type": "code",
   "execution_count": 13,
   "id": "b8395bab-1c3a-4fe5-8ea7-6a87ddda78c9",
   "metadata": {},
   "outputs": [
    {
     "name": "stdout",
     "output_type": "stream",
     "text": [
      "hello\n"
     ]
    }
   ],
   "source": [
    "\"\"\"\n",
    "this is a multi-line comment\n",
    "it is written between a set of 3 quotes \n",
    "\"\"\"\n",
    "print(\"hello\")\n",
    " "
   ]
  },
  {
   "cell_type": "code",
   "execution_count": 15,
   "id": "853afeec-28a4-4da7-86ae-82b0cdc8357a",
   "metadata": {},
   "outputs": [
    {
     "name": "stdout",
     "output_type": "stream",
     "text": [
      "Hello, World!\n"
     ]
    }
   ],
   "source": [
    "'''\n",
    "name = 'Kelly Hu'\n",
    "age = 30\n",
    "city = \"Brentwood\"\n",
    "'''\n",
    "\n",
    "print(\"Hello, World!\")"
   ]
  },
  {
   "cell_type": "markdown",
   "id": "e0ae3db7-f515-44f5-8617-bcbe526ac8be",
   "metadata": {},
   "source": [
    "docstring comment,always the first statement inside the construct(class,function or module). Accessible at runtime using .__doc__ attribute or help()."
   ]
  },
  {
   "cell_type": "code",
   "execution_count": 17,
   "id": "cdd85f33-3793-4b29-aa9b-2042cc31fcac",
   "metadata": {},
   "outputs": [],
   "source": [
    "def greet(name):\n",
    "    \"\"\"\n",
    "    Greets a person by their name.\n",
    "\n",
    "    Parameters:\n",
    "    name (str): The name of the person.\n",
    "\n",
    "    Returns:\n",
    "    str: A greeting message.\n",
    "    \"\"\"\n",
    "    return f\"Hello, {name}!\""
   ]
  },
  {
   "cell_type": "markdown",
   "id": "2f484af4-bb45-42be-b818-68563f195751",
   "metadata": {},
   "source": [
    "key differences between doctrings and multiline is that docstrings are meant for documentation and are tied to functions,classes or modules while\n",
    "multiline comments are ignored texts meant for exlaining or clarifying the code and they aren't tied to any specific construct"
   ]
  },
  {
   "cell_type": "code",
   "execution_count": null,
   "id": "40fb77b8-3c7b-4462-9588-aa24e836740e",
   "metadata": {},
   "outputs": [],
   "source": [
    "# This function greets the user\n",
    "# It takes a name as input and returns a greeting message\n",
    "def greet(name):\n",
    "    return f\"Hello, {name}!\"\n"
   ]
  },
  {
   "cell_type": "markdown",
   "id": "890c52f3-c54c-4f54-81b0-d6d128c9a99a",
   "metadata": {},
   "source": [
    "Variables, there is no keyword to declare a variable in python. They are created when you assign values to them"
   ]
  },
  {
   "cell_type": "code",
   "execution_count": 19,
   "id": "0c0ea1eb-813f-4fa1-b938-4461157ce185",
   "metadata": {},
   "outputs": [
    {
     "name": "stdout",
     "output_type": "stream",
     "text": [
      "Lenny\n",
      "Christianity\n"
     ]
    }
   ],
   "source": [
    "name=\"Lenny\"\n",
    "religion=\"Christianity\"\n",
    "print(name)\n",
    "print(religion)\n"
   ]
  },
  {
   "cell_type": "markdown",
   "id": "ffbf18da-0eac-4852-b706-f13f8106856a",
   "metadata": {},
   "source": [
    "Specifying variable's data type using the type casting with the help of built-in functions eg str(), float(), int(), etc"
   ]
  },
  {
   "cell_type": "code",
   "execution_count": 21,
   "id": "6980f0f6-6b95-4530-930f-bde40d710d5f",
   "metadata": {},
   "outputs": [
    {
     "name": "stdout",
     "output_type": "stream",
     "text": [
      "<class 'str'>\n",
      "<class 'int'>\n",
      "<class 'float'>\n"
     ]
    }
   ],
   "source": [
    "a=str(123)\n",
    "b=int(123)\n",
    "c=float(123)\n",
    "\n",
    "print(type(a))\n",
    "print(type(b))\n",
    "print(type(c))\n"
   ]
  },
  {
   "cell_type": "markdown",
   "id": "5edc3c9e-06b7-4935-840a-c16eeb229ca6",
   "metadata": {},
   "source": [
    "So the type() function is used to print the data type of a variable or an object"
   ]
  },
  {
   "cell_type": "code",
   "execution_count": 23,
   "id": "2195dcbc-b7a8-4941-82c4-7887ddc65c05",
   "metadata": {},
   "outputs": [
    {
     "name": "stdout",
     "output_type": "stream",
     "text": [
      "Lenny is the type of <class 'str'>\n"
     ]
    }
   ],
   "source": [
    "name=\"Lenny\"\n",
    "print(name,\"is the type of\",type(name))"
   ]
  },
  {
   "cell_type": "code",
   "execution_count": 27,
   "id": "7872220e-dde1-48bc-a3b8-cf5f3122a652",
   "metadata": {},
   "outputs": [
    {
     "name": "stdout",
     "output_type": "stream",
     "text": [
      "2 is the type of <class 'int'>\n"
     ]
    }
   ],
   "source": [
    "age=2\n",
    "print(age,\"is the type of\", type(age))"
   ]
  },
  {
   "cell_type": "code",
   "execution_count": 25,
   "id": "3447c17f-b98d-49e3-8e51-9b96c033613d",
   "metadata": {},
   "outputs": [
    {
     "name": "stdout",
     "output_type": "stream",
     "text": [
      "4.3 is the type of <class 'float'>\n"
     ]
    }
   ],
   "source": [
    "num=4.3\n",
    "print(num,\"is the type of\",type(num))"
   ]
  },
  {
   "cell_type": "code",
   "execution_count": 29,
   "id": "164007d0-cc91-4072-87c7-3161efd2bb8d",
   "metadata": {},
   "outputs": [
    {
     "name": "stdout",
     "output_type": "stream",
     "text": [
      "4j is the type of <class 'complex'>\n"
     ]
    }
   ],
   "source": [
    "num=4j\n",
    "print(num,\"is the type of\",type(num))"
   ]
  },
  {
   "cell_type": "markdown",
   "id": "bd8a88de-21a1-4e5c-b09f-56f9c51e8c6b",
   "metadata": {},
   "source": [
    "Assign multiple values to variables"
   ]
  },
  {
   "cell_type": "code",
   "execution_count": 31,
   "id": "b0a04cd6-ddab-4b21-b607-755d8d4aa9f1",
   "metadata": {},
   "outputs": [
    {
     "name": "stdout",
     "output_type": "stream",
     "text": [
      "Kelly 23\n",
      "Brentwood\n"
     ]
    }
   ],
   "source": [
    "name,age,city=\"Kelly\",23,\"Brentwood\"\n",
    "print(name,end=\" \")\n",
    "print(age)\n",
    "print(city)"
   ]
  },
  {
   "cell_type": "markdown",
   "id": "72d1a9e8-7aae-4c99-ae81-21b6cdbeae06",
   "metadata": {},
   "source": [
    "1.Data Types"
   ]
  },
  {
   "cell_type": "markdown",
   "id": "783031d2-e28e-4ba5-8ddd-bd7cb72bc07c",
   "metadata": {},
   "source": [
    "1.Numeric Types"
   ]
  },
  {
   "cell_type": "code",
   "execution_count": 36,
   "id": "2e53021e-6f2d-4f82-8832-59a1bf00cb99",
   "metadata": {},
   "outputs": [
    {
     "name": "stdout",
     "output_type": "stream",
     "text": [
      "10\n",
      "3.14\n",
      "(1+2j)\n"
     ]
    }
   ],
   "source": [
    "x=10 #integer\n",
    "y=3.14 #float\n",
    "z=1+2j #complex num\n",
    "print(x)\n",
    "print(y)\n",
    "print(z)"
   ]
  },
  {
   "cell_type": "markdown",
   "id": "95bb7b23-8047-4e37-bca6-3982dec5b452",
   "metadata": {},
   "source": [
    "2.Sequence Types"
   ]
  },
  {
   "cell_type": "code",
   "execution_count": 38,
   "id": "2acac5d6-f7fa-4922-984f-fa6e7a58c092",
   "metadata": {},
   "outputs": [
    {
     "name": "stdout",
     "output_type": "stream",
     "text": [
      "Ruth\n"
     ]
    }
   ],
   "source": [
    "name=\"Ruth\" #String-sequence of characters\n",
    "print(name)"
   ]
  },
  {
   "cell_type": "code",
   "execution_count": 40,
   "id": "ddc81c01-fede-4250-9557-76a3964a30ef",
   "metadata": {},
   "outputs": [
    {
     "name": "stdout",
     "output_type": "stream",
     "text": [
      "[1, 2, 3, 'data']\n"
     ]
    }
   ],
   "source": [
    "my_list=[1,2,3,\"data\"] #rep unordered, mutable collection of items\n",
    "print(my_list)"
   ]
  },
  {
   "cell_type": "code",
   "execution_count": 42,
   "id": "3c9cd4e6-8c65-4f45-914a-8791fafec09d",
   "metadata": {},
   "outputs": [
    {
     "name": "stdout",
     "output_type": "stream",
     "text": [
      "(1, 2, 3, 'data')\n"
     ]
    }
   ],
   "source": [
    "my_tuple=(1,2,3,\"data\") #rep unordered, immutable collection of items\n",
    "print(my_tuple)"
   ]
  },
  {
   "cell_type": "code",
   "execution_count": 44,
   "id": "114653d9-1adf-4e00-aba5-eff52f6ddd40",
   "metadata": {},
   "outputs": [
    {
     "name": "stdout",
     "output_type": "stream",
     "text": [
      "range(1, 10)\n"
     ]
    }
   ],
   "source": [
    "my_range=range(1,10)\n",
    "print(my_range)"
   ]
  },
  {
   "cell_type": "markdown",
   "id": "179d6515-f77a-4a70-b895-3ec0d0f3566f",
   "metadata": {},
   "source": [
    "3.mapping type"
   ]
  },
  {
   "cell_type": "code",
   "execution_count": null,
   "id": "d780b732-8502-4b34-834c-e340c6cacbf5",
   "metadata": {},
   "outputs": [],
   "source": [
    "my_dict={\"name\":\"Lenny\",\"age\":21}# dictionary\n",
    "print(my_dict)"
   ]
  },
  {
   "cell_type": "markdown",
   "id": "9cd40249-1ae3-4695-95f5-923bfb6c088b",
   "metadata": {},
   "source": [
    "4.Boolean Type"
   ]
  },
  {
   "cell_type": "code",
   "execution_count": null,
   "id": "6034dd70-463a-4a7f-978b-a73fed0e936d",
   "metadata": {},
   "outputs": [],
   "source": [
    "is_active=True #boolean- rep true or false\n",
    "print(is_active)"
   ]
  },
  {
   "cell_type": "markdown",
   "id": "8d6dbf7b-2c19-4e0d-b9df-b093eb259869",
   "metadata": {},
   "source": [
    "5.Set Types"
   ]
  },
  {
   "cell_type": "code",
   "execution_count": null,
   "id": "324d4757-b4e1-4d5d-b8fd-268971d0524b",
   "metadata": {},
   "outputs": [],
   "source": [
    "my_set={1,2,3}# a set rep unordered, mutable collection of unique items\n",
    "print(my_set)"
   ]
  },
  {
   "cell_type": "code",
   "execution_count": null,
   "id": "9db10ea4-c079-4e58-85da-c8e3151ca04e",
   "metadata": {},
   "outputs": [],
   "source": [
    "my_frozenset=frozenset({1,2,3})\n",
    "# frozenset rep unorderd,immutable collection ofunique items\n",
    "print(my_frozenset)"
   ]
  },
  {
   "cell_type": "markdown",
   "id": "f4f2fe8e-956e-4fa3-9185-752e549ca076",
   "metadata": {},
   "source": [
    "6. Binary Type"
   ]
  },
  {
   "cell_type": "code",
   "execution_count": null,
   "id": "edca20e5-0250-4b8a-b6d3-26e157778314",
   "metadata": {},
   "outputs": [],
   "source": [
    "byte_data=b\"data\"#byte-rep immutable sequence of bytes\n",
    "print(byte_data)"
   ]
  },
  {
   "cell_type": "code",
   "execution_count": null,
   "id": "1556707b-e352-49e0-9064-2eb8fdf23ae0",
   "metadata": {},
   "outputs": [],
   "source": [
    "byte_array=bytearray(5)#rep mutable sequence of bytes\n",
    "print(byte_array)"
   ]
  },
  {
   "cell_type": "code",
   "execution_count": null,
   "id": "ceebbc05-51a3-4a04-b234-97c26a26830d",
   "metadata": {},
   "outputs": [],
   "source": [
    "memory=memoryview(byte_array)#memoryview rep a view of memory shared by another binary object\n",
    "print(memory)"
   ]
  },
  {
   "cell_type": "markdown",
   "id": "be49f499-7075-40f4-b939-0b57bf073126",
   "metadata": {},
   "source": [
    "7. None Type"
   ]
  },
  {
   "cell_type": "code",
   "execution_count": null,
   "id": "3c218bfe-95bb-4f6b-a41e-c55702bbd943",
   "metadata": {},
   "outputs": [],
   "source": [
    "x=None#rep an absence of a value or a null value\n",
    "print(x)"
   ]
  },
  {
   "cell_type": "markdown",
   "id": "8f092224-d6de-4306-aacd-f9796b415b72",
   "metadata": {},
   "source": [
    "User Input,python uses input()function to take different types of user inputs."
   ]
  },
  {
   "cell_type": "markdown",
   "id": "5f2320d9-6c9b-448a-8245-8aae87f05087",
   "metadata": {},
   "source": [
    "basic user input"
   ]
  },
  {
   "cell_type": "code",
   "execution_count": null,
   "id": "ff90a9cb-fbdc-4668-9f1f-c080935ffcde",
   "metadata": {},
   "outputs": [],
   "source": [
    "name=input(\"Enter your name:\")\n",
    "print(\"hello\",name)"
   ]
  },
  {
   "cell_type": "code",
   "execution_count": null,
   "id": "eb8bcb33-7fc4-4596-bc87-92f7aa16c826",
   "metadata": {},
   "outputs": [],
   "source": []
  },
  {
   "cell_type": "code",
   "execution_count": null,
   "id": "b1fbc83e-26fb-4027-be6c-43724235bdd0",
   "metadata": {},
   "outputs": [],
   "source": []
  }
 ],
 "metadata": {
  "kernelspec": {
   "display_name": "Python 3 (ipykernel)",
   "language": "python",
   "name": "python3"
  },
  "language_info": {
   "codemirror_mode": {
    "name": "ipython",
    "version": 3
   },
   "file_extension": ".py",
   "mimetype": "text/x-python",
   "name": "python",
   "nbconvert_exporter": "python",
   "pygments_lexer": "ipython3",
   "version": "3.12.4"
  }
 },
 "nbformat": 4,
 "nbformat_minor": 5
}
