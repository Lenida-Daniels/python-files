{
 "cells": [
  {
   "cell_type": "raw",
   "id": "93f7bfe5-25b4-4fd9-9093-e16abcd3d69c",
   "metadata": {},
   "source": [
    "This kind of a try-except statement catches all the exceptions that occur.\n",
    "It's not a good practice because it catches all exceptions but doesn't make the programmer identify root cause of the problem.\n",
    "try:\n",
    "   You do your operations here;\n",
    "   ......................\n",
    "except:\n",
    "   If there is any exception, then execute this block.\n",
    "   ......................\n",
    "else:\n",
    "   If there is no exception then execute this block. "
   ]
  },
  {
   "cell_type": "markdown",
   "id": "ef3a96e1-1a00-4355-8d92-014e99f6c7e5",
   "metadata": {},
   "source": [
    "**Exception clause with multiple exceptions**"
   ]
  },
  {
   "cell_type": "raw",
   "id": "683aa648-7a8d-48e0-b807-a6e8c207835a",
   "metadata": {},
   "source": [
    "try:\n",
    "   You do your operations here;\n",
    "   ......................\n",
    "except(Exception1[, Exception2[,...ExceptionN]]]):\n",
    "   If there is any exception from the given exception list, \n",
    "   then execute this block.\n",
    "   ......................\n",
    "else:\n",
    "   If there is no exception then execute this block"
   ]
  },
  {
   "cell_type": "markdown",
   "id": "4745f7a1-f08e-4c55-8bb2-be101c407c54",
   "metadata": {},
   "source": [
    "**The try-finally clause**"
   ]
  },
  {
   "cell_type": "code",
   "execution_count": 4,
   "id": "e7e4f52c-4f51-4afb-a14a-56da2bf13090",
   "metadata": {},
   "outputs": [
    {
     "name": "stdout",
     "output_type": "stream",
     "text": [
      "Error: can't find file or read data\n"
     ]
    }
   ],
   "source": [
    "try: #if it has any exception it will be skipped\n",
    "   fh = open(\"testfile\", \"w\")\n",
    "   fh.write(\"This is my test file for exception handling!!\")\n",
    "finally: #this block must execute whether there's exception or not.\n",
    "   print (\"Error: can\\'t find file or read data\")"
   ]
  },
  {
   "cell_type": "code",
   "execution_count": 6,
   "id": "043b6f33-7643-40d3-a304-c54e91daaae1",
   "metadata": {},
   "outputs": [
    {
     "name": "stdout",
     "output_type": "stream",
     "text": [
      "Written content in the file successfully\n"
     ]
    }
   ],
   "source": [
    "try:\n",
    "   fh = open(\"testfile\", \"w\")\n",
    "   fh.write(\"This is my test file for exception handling!!\")\n",
    "except IOError:\n",
    "   print (\"Error: can\\'t find file or read data\")\n",
    "else:\n",
    "   print (\"Written content in the file successfully\")\n",
    "   fh.close()"
   ]
  },
  {
   "cell_type": "code",
   "execution_count": 12,
   "id": "3ba9b36d-8932-46ac-927f-74345626ffef",
   "metadata": {},
   "outputs": [
    {
     "name": "stdout",
     "output_type": "stream",
     "text": [
      "Error: can't find file or read data\n"
     ]
    }
   ],
   "source": [
    "try:\n",
    "   fh = open(\"testfile\", \"r\")\n",
    "   fh.write(\"This is my test file for exception handling!!\")\n",
    "except IOError:\n",
    "   print (\"Error: can\\'t find file or read data\")\n",
    "else:\n",
    "   print (\"Written content in the file successfully\")"
   ]
  },
  {
   "cell_type": "code",
   "execution_count": 14,
   "id": "f0fcc4e0-a674-46d5-b56c-f50aad6d1492",
   "metadata": {},
   "outputs": [
    {
     "name": "stdout",
     "output_type": "stream",
     "text": [
      "Going to close the file\n"
     ]
    }
   ],
   "source": [
    "try:\n",
    "   fh = open(\"testfile\", \"w\")\n",
    "   try:\n",
    "      fh.write(\"This is my test file for exception handling!!\")\n",
    "   finally:\n",
    "      print (\"Going to close the file\")\n",
    "      fh.close()\n",
    "except IOError:\n",
    "   print (\"Error: can\\'t find file or read data\")\n",
    "\n",
    "    #this one has no exeptions\n",
    "    #if any exception exists, the exception will be passed to finally block then to the except block where it's executed.\n",
    "    "
   ]
  },
  {
   "cell_type": "markdown",
   "id": "0ce62461-2ba2-4ca7-9226-c4e761f3b9a1",
   "metadata": {},
   "source": [
    "****"
   ]
  },
  {
   "cell_type": "markdown",
   "id": "5bab14a3-2a49-4e86-ba84-7a1c5092825b",
   "metadata": {},
   "source": [
    "**Argument of an exception**"
   ]
  },
  {
   "cell_type": "raw",
   "id": "8836b0ce-6362-4546-a1ff-441f4c53480b",
   "metadata": {},
   "source": [
    "An exception can have an argument, which is a value that gives additional information about the problem.\n",
    "The contents of the argument vary by exception.\n",
    "try:\n",
    "   You do your operations here;\n",
    "   ......................\n",
    "except ExceptionType, Argument:\n",
    "   You can print value of Argument here..."
   ]
  },
  {
   "cell_type": "code",
   "execution_count": 30,
   "id": "009e61d6-50d2-4ae2-bc48-270e0aab2817",
   "metadata": {},
   "outputs": [
    {
     "name": "stdout",
     "output_type": "stream",
     "text": [
      "The argument does not contain numbers\n",
      " invalid literal for int() with base 10: 'xyz'\n"
     ]
    }
   ],
   "source": [
    "# Define a function here.\n",
    "def temp_convert(var):\n",
    "   try:\n",
    "      return int(var)\n",
    "   except ValueError as Argument:\n",
    "      print (\"The argument does not contain numbers\\n\", Argument)\n",
    "\n",
    "# Call above function here.\n",
    "temp_convert(\"xyz\")"
   ]
  },
  {
   "cell_type": "code",
   "execution_count": 32,
   "id": "fe5e20cc-e0c3-4fd6-adc8-1ea7dd0af5ba",
   "metadata": {},
   "outputs": [
    {
     "data": {
      "text/plain": [
       "6"
      ]
     },
     "execution_count": 32,
     "metadata": {},
     "output_type": "execute_result"
    }
   ],
   "source": [
    "# Define a function here.\n",
    "def temp_convert(var):\n",
    "   try:\n",
    "      return int(var)\n",
    "   except ValueError as Argument:\n",
    "      print (\"The argument does not contain numbers\\n\", Argument)\n",
    "\n",
    "# Call above function here.\n",
    "temp_convert(\"6\")"
   ]
  },
  {
   "cell_type": "code",
   "execution_count": 36,
   "id": "b883d85c-8bf1-4e0e-bfa7-239abf19ad16",
   "metadata": {},
   "outputs": [
    {
     "name": "stdin",
     "output_type": "stream",
     "text": [
      "enter age: h\n"
     ]
    },
    {
     "name": "stdout",
     "output_type": "stream",
     "text": [
      "enter a numerical value\n"
     ]
    }
   ],
   "source": [
    "try:\n",
    "    int(input(\"enter age:\"))\n",
    "except:\n",
    "    print(\"enter a numerical value\")\n"
   ]
  },
  {
   "cell_type": "code",
   "execution_count": null,
   "id": "43fd3d98-c9b2-422f-99e5-8a084362fe20",
   "metadata": {},
   "outputs": [],
   "source": []
  }
 ],
 "metadata": {
  "kernelspec": {
   "display_name": "Python 3 (ipykernel)",
   "language": "python",
   "name": "python3"
  },
  "language_info": {
   "codemirror_mode": {
    "name": "ipython",
    "version": 3
   },
   "file_extension": ".py",
   "mimetype": "text/x-python",
   "name": "python",
   "nbconvert_exporter": "python",
   "pygments_lexer": "ipython3",
   "version": "3.12.4"
  }
 },
 "nbformat": 4,
 "nbformat_minor": 5
}
