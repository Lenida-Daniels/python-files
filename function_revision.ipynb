{
  "nbformat": 4,
  "nbformat_minor": 0,
  "metadata": {
    "colab": {
      "provenance": []
    },
    "kernelspec": {
      "name": "python3",
      "display_name": "Python 3"
    },
    "language_info": {
      "name": "python"
    }
  },
  "cells": [
    {
      "cell_type": "code",
      "execution_count": 2,
      "metadata": {
        "colab": {
          "base_uri": "https://localhost:8080/"
        },
        "id": "QhZ4di6z_Vgn",
        "outputId": "5fcdb178-39c9-4488-f6fd-020ec3b60432"
      },
      "outputs": [
        {
          "output_type": "stream",
          "name": "stdout",
          "text": [
            "Tuesday\n"
          ]
        }
      ],
      "source": [
        "def dayofweek(day):\n",
        "  match(day):\n",
        "    case 1:\n",
        "      print(\"Monday\")\n",
        "    case 2:\n",
        "      print(\"Tuesday\")\n",
        "    case 3:\n",
        "      print(\"Wednesday\")\n",
        "    case 4:\n",
        "      print(\"Thursday\")\n",
        "    case 5:\n",
        "      print(\"Friday\")\n",
        "    case 6:\n",
        "      print(\"Saturday\")\n",
        "    case 7:\n",
        "      print(\"Sunday\")\n",
        "\n",
        "dayofweek(2)"
      ]
    },
    {
      "cell_type": "code",
      "source": [
        "# prompt: match statement including rhe default\n",
        "\n",
        "def dayofweek(day):\n",
        "  match(day):\n",
        "    case 1:\n",
        "      print(\"Monday\")\n",
        "    case 2:\n",
        "      print(\"Tuesday\")\n",
        "    case 3:\n",
        "      print(\"Wednesday\")\n",
        "    case 4:\n",
        "      print(\"Thursday\")\n",
        "    case 5:\n",
        "      print(\"Friday\")\n",
        "    case 6:\n",
        "      print(\"Saturday\")\n",
        "    case 7:\n",
        "      print(\"Sunday\")\n",
        "    case _:\n",
        "      print(\"Invalid day number\")\n",
        "\n",
        "dayofweek(10)\n"
      ],
      "metadata": {
        "colab": {
          "base_uri": "https://localhost:8080/"
        },
        "id": "0juM1KSqAO0s",
        "outputId": "2f20c521-26a1-4eb7-8dce-48a021bbc1dd"
      },
      "execution_count": 4,
      "outputs": [
        {
          "output_type": "stream",
          "name": "stdout",
          "text": [
            "Invalid day number\n"
          ]
        }
      ]
    },
    {
      "cell_type": "code",
      "source": [
        "def vowelcount(str):\n",
        "  input(\"enter a string\")\n",
        "  vowels=['a','e','i','o','u']\n",
        "  items=list(str)\n",
        "  for letters in items:\n",
        "    if(letters in vowels):\n",
        "      print(len(letters))\n",
        "vowelcount(\"people\")\n"
      ],
      "metadata": {
        "colab": {
          "base_uri": "https://localhost:8080/"
        },
        "id": "8DQq79dOB4ge",
        "outputId": "d1d88763-578b-40ec-adb0-ae9b616e7a8d"
      },
      "execution_count": 7,
      "outputs": [
        {
          "output_type": "stream",
          "name": "stdout",
          "text": [
            "enter a stringpeople\n",
            "1\n",
            "1\n",
            "1\n"
          ]
        }
      ]
    },
    {
      "cell_type": "code",
      "source": [
        "# prompt: write a python function that takes a string as input and returns number of vowels in the string\n",
        "\n",
        "def vowelcount(str):\n",
        "    vowels = ['a', 'e', 'i', 'o', 'u']\n",
        "    count = 0\n",
        "    for char in str.lower():\n",
        "        if char in vowels:\n",
        "            count += 1\n",
        "    return count\n",
        "\n",
        "vowelcount(\"people\")\n"
      ],
      "metadata": {
        "colab": {
          "base_uri": "https://localhost:8080/"
        },
        "id": "BVxgIUJaDiK2",
        "outputId": "a5ec210a-cb9b-43fa-e528-56c2f432acac"
      },
      "execution_count": 9,
      "outputs": [
        {
          "output_type": "execute_result",
          "data": {
            "text/plain": [
              "3"
            ]
          },
          "metadata": {},
          "execution_count": 9
        }
      ]
    },
    {
      "cell_type": "code",
      "source": [
        "def sumeven(num):\n",
        "  num_list=[1,2,3,4,5,6,7,8,9]\n",
        "  even_sum=0\n",
        "  for items in num_list:\n",
        "    if items%2==0:\n",
        "      even_sum += items\n",
        "\n",
        "  print(even_sum)\n",
        "\n",
        "sumeven(num_list)\n"
      ],
      "metadata": {
        "colab": {
          "base_uri": "https://localhost:8080/"
        },
        "id": "IDqKuUYxFrXp",
        "outputId": "d51acf5d-3ec8-4a13-f37a-72fb12b1e9e1"
      },
      "execution_count": 16,
      "outputs": [
        {
          "output_type": "stream",
          "name": "stdout",
          "text": [
            "20\n"
          ]
        }
      ]
    },
    {
      "cell_type": "code",
      "source": [
        "myletters=['b','k','m','p','s','w']\n",
        "myletters[3:4]"
      ],
      "metadata": {
        "colab": {
          "base_uri": "https://localhost:8080/"
        },
        "id": "TK9Fx7HkIQCm",
        "outputId": "8628bbb0-e642-4895-83a4-9822225f2239"
      },
      "execution_count": 17,
      "outputs": [
        {
          "output_type": "execute_result",
          "data": {
            "text/plain": [
              "['p']"
            ]
          },
          "metadata": {},
          "execution_count": 17
        }
      ]
    },
    {
      "cell_type": "code",
      "source": [
        "myletters[0::2]"
      ],
      "metadata": {
        "colab": {
          "base_uri": "https://localhost:8080/"
        },
        "id": "rbswyY7qOTjc",
        "outputId": "be7ff98f-6fe6-491f-ce70-f9e6aafaf863"
      },
      "execution_count": 18,
      "outputs": [
        {
          "output_type": "execute_result",
          "data": {
            "text/plain": [
              "['b', 'm', 's']"
            ]
          },
          "metadata": {},
          "execution_count": 18
        }
      ]
    },
    {
      "cell_type": "code",
      "source": [
        "myletters[-3:-1]"
      ],
      "metadata": {
        "colab": {
          "base_uri": "https://localhost:8080/"
        },
        "id": "LzYlQM__OZkX",
        "outputId": "9fd53b01-dd7a-4f8e-ee62-61e0fbc56027"
      },
      "execution_count": 20,
      "outputs": [
        {
          "output_type": "execute_result",
          "data": {
            "text/plain": [
              "['p', 's']"
            ]
          },
          "metadata": {},
          "execution_count": 20
        }
      ]
    },
    {
      "cell_type": "code",
      "source": [
        "#write a function that calculates the factorial of a given number using a loop\n",
        "\n",
        "def factorial(n):\n",
        "  \"\"\"\n",
        "  Calculates the factorial of a non-negative integer.\n",
        "\n",
        "  Args:\n",
        "    n: The non-negative integer.\n",
        "\n",
        "  Returns:\n",
        "    The factorial of n, or 1 if n is 0.\n",
        "    Returns -1 if n is negative.\n",
        "  \"\"\"\n",
        "  if n < 0:\n",
        "    return -1  # Factorial is not defined for negative numbers\n",
        "  elif n == 0:\n",
        "    return 1\n",
        "  else:\n",
        "    fact = 1\n",
        "    for i in range(1, n + 1):\n",
        "      fact *= i\n",
        "    return fact\n",
        "\n",
        "# Example usage\n",
        "number = 5\n",
        "result = factorial(number)\n",
        "if result != -1:\n",
        "  print(f\"The factorial of {number} is {result}\")\n",
        "else:\n",
        "  print(\"Factorial is not defined for negative numbers.\")\n"
      ],
      "metadata": {
        "colab": {
          "base_uri": "https://localhost:8080/"
        },
        "id": "pBoh3YcJOfi-",
        "outputId": "47bd77d1-ae35-4e89-c458-526a1b4c18ba"
      },
      "execution_count": 21,
      "outputs": [
        {
          "output_type": "stream",
          "name": "stdout",
          "text": [
            "The factorial of 5 is 120\n"
          ]
        }
      ]
    },
    {
      "cell_type": "code",
      "source": [
        "# prompt: implement a python function that takes a list on numbers using a variable length argument and returns the second largest from the list\n",
        "\n",
        "def second_largest(*args):\n",
        "  \"\"\"\n",
        "  Finds the second largest number in a variable-length argument list.\n",
        "\n",
        "  Args:\n",
        "    *args: A variable-length argument list of numbers.\n",
        "\n",
        "  Returns:\n",
        "    The second largest number in the list, or None if the list has fewer than two elements.\n",
        "  \"\"\"\n",
        "  if len(args) < 2:\n",
        "    return None\n",
        "\n",
        "  unique_numbers = sorted(list(set(args)), reverse=True)\n",
        "\n",
        "  if len(unique_numbers) < 2:\n",
        "    return unique_numbers[0]\n",
        "  else:\n",
        "    return unique_numbers[1]\n"
      ],
      "metadata": {
        "id": "DOyqAZ7BPq-1"
      },
      "execution_count": 22,
      "outputs": []
    },
    {
      "cell_type": "code",
      "source": [
        "def secondlargest(*num):\n",
        "  num=[16,2,100,49,5]\n",
        "  num.sort()\n",
        "  print(num[-2])\n",
        "  return num[-2]\n",
        "secondlargest(1,2,3,4,5)"
      ],
      "metadata": {
        "colab": {
          "base_uri": "https://localhost:8080/"
        },
        "id": "JIBjGBHqQ8Wt",
        "outputId": "bd640ed5-cd5d-48ea-97b7-8ba6eb0b3f94"
      },
      "execution_count": 29,
      "outputs": [
        {
          "output_type": "stream",
          "name": "stdout",
          "text": [
            "49\n"
          ]
        },
        {
          "output_type": "execute_result",
          "data": {
            "text/plain": [
              "49"
            ]
          },
          "metadata": {},
          "execution_count": 29
        }
      ]
    },
    {
      "cell_type": "code",
      "source": [],
      "metadata": {
        "id": "wMyb4CGycGuC"
      },
      "execution_count": null,
      "outputs": []
    }
  ]
}