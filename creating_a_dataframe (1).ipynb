{
 "cells": [
  {
   "cell_type": "markdown",
   "id": "b1ae96f3-b4a9-43ed-b1a3-75b03e570c4f",
   "metadata": {},
   "source": [
    "**A LIST**"
   ]
  },
  {
   "cell_type": "code",
   "execution_count": 1,
   "id": "d82dbfc1-7b25-436e-b8ca-fae7de646c8a",
   "metadata": {},
   "outputs": [
    {
     "data": {
      "text/plain": [
       "['Trousers', 'crop tops', 'sweatpants', 'hoodies', 't-shirts']"
      ]
     },
     "execution_count": 1,
     "metadata": {},
     "output_type": "execute_result"
    }
   ],
   "source": [
    "clothes_on_sale=[\"Trousers\",\"crop tops\",\"sweatpants\",\"hoodies\",\"t-shirts\"]\n",
    "clothes_on_sale"
   ]
  },
  {
   "cell_type": "code",
   "execution_count": 3,
   "id": "e4de453f-8f41-41e7-9324-0101ab973d58",
   "metadata": {},
   "outputs": [
    {
     "name": "stdout",
     "output_type": "stream",
     "text": [
      "[250, 100, 200, 300, 150]\n",
      "250\n"
     ]
    }
   ],
   "source": [
    "clothes_prices=[250,100,200,300,150]\n",
    "print(clothes_prices)\n",
    "print(clothes_prices[0])"
   ]
  },
  {
   "cell_type": "code",
   "execution_count": 7,
   "id": "7854c32e-9569-41f1-be6e-bce3ab1b7fde",
   "metadata": {},
   "outputs": [
    {
     "name": "stdout",
     "output_type": "stream",
     "text": [
      "['sweat pant and hoodie', 'trouser and crop top', 'sweat pant and t-shirt']\n",
      "<class 'list'>\n"
     ]
    }
   ],
   "source": [
    "two_piece_items=[\"sweat pant and hoodie\",\"trouser and crop top\",\"sweat pant and t-shirt\"]\n",
    "print(two_piece_items)\n",
    "clothes_on_sale.append(two_piece_items)\n",
    "clothes_on_sale\n",
    "print(type(clothes_on_sale))"
   ]
  },
  {
   "cell_type": "markdown",
   "id": "65064499-117a-4a0d-b9b3-eb519a624249",
   "metadata": {},
   "source": [
    "**Nested list**"
   ]
  },
  {
   "cell_type": "code",
   "execution_count": 9,
   "id": "9bd43c3e-b43f-4ae4-bfbe-d74a337eda91",
   "metadata": {},
   "outputs": [
    {
     "name": "stdout",
     "output_type": "stream",
     "text": [
      "[['Trousers', 'crop tops', 'sweatpants', 'hoodies', 't-shirts'], [250, 100, 200, 300, 150]]\n"
     ]
    },
    {
     "data": {
      "text/plain": [
       "[['Trousers', 'crop tops', 'sweatpants', 'hoodies', 't-shirts'],\n",
       " [250, 100, 200, 300, 150],\n",
       " ['sweat pant and hoodie', 'trouser and crop top', 'sweat pant and t-shirt']]"
      ]
     },
     "execution_count": 9,
     "metadata": {},
     "output_type": "execute_result"
    }
   ],
   "source": [
    "fashion_boutique=[\n",
    "    [\"Trousers\",\"crop tops\",\"sweatpants\",\"hoodies\",\"t-shirts\"],\n",
    "    [250,100,200,300,150]\n",
    "]\n",
    "print(fashion_boutique)\n",
    "fashion_boutique.append(two_piece_items)\n",
    "fashion_boutique"
   ]
  },
  {
   "cell_type": "code",
   "execution_count": 12,
   "id": "4994c31c-ba58-4e17-bb29-e7b018fd13fd",
   "metadata": {},
   "outputs": [
    {
     "data": {
      "text/plain": [
       "500"
      ]
     },
     "execution_count": 12,
     "metadata": {},
     "output_type": "execute_result"
    }
   ],
   "source": [
    "sweatpant_hoodie_price=clothes_prices[2]+clothes_prices[3]\n",
    "sweatpant_hoodie_price"
   ]
  },
  {
   "cell_type": "code",
   "execution_count": 14,
   "id": "b14225f6-6e75-4435-8091-141c08516403",
   "metadata": {},
   "outputs": [
    {
     "data": {
      "text/plain": [
       "350"
      ]
     },
     "execution_count": 14,
     "metadata": {},
     "output_type": "execute_result"
    }
   ],
   "source": [
    "trouser_croptop_price=clothes_prices[0]+clothes_prices[1]\n",
    "trouser_croptop_price"
   ]
  },
  {
   "cell_type": "code",
   "execution_count": 18,
   "id": "15c5fbde-134c-4044-8254-db1f779702a2",
   "metadata": {},
   "outputs": [
    {
     "data": {
      "text/plain": [
       "350"
      ]
     },
     "execution_count": 18,
     "metadata": {},
     "output_type": "execute_result"
    }
   ],
   "source": [
    "sweatpant_tshirt_price=clothes_prices[2]+clothes_prices[4]\n",
    "sweatpant_tshirt_price"
   ]
  },
  {
   "cell_type": "code",
   "execution_count": 20,
   "id": "e3e084e7-5df7-4a26-9e56-6ed84ff5aee3",
   "metadata": {},
   "outputs": [
    {
     "data": {
      "text/plain": [
       "[500, 350, 350]"
      ]
     },
     "execution_count": 20,
     "metadata": {},
     "output_type": "execute_result"
    }
   ],
   "source": [
    "two_piece_items_price=[500,350,350]\n",
    "two_piece_items_price"
   ]
  },
  {
   "cell_type": "code",
   "execution_count": 22,
   "id": "af1b5b38-4018-44fb-b967-d85af050951b",
   "metadata": {},
   "outputs": [
    {
     "data": {
      "text/plain": [
       "[['Trousers', 'crop tops', 'sweatpants', 'hoodies', 't-shirts'],\n",
       " [250, 100, 200, 300, 150],\n",
       " ['sweat pant and hoodie', 'trouser and crop top', 'sweat pant and t-shirt'],\n",
       " [500, 350, 350]]"
      ]
     },
     "execution_count": 22,
     "metadata": {},
     "output_type": "execute_result"
    }
   ],
   "source": [
    "fashion_boutique.append(two_piece_items_price)\n",
    "fashion_boutique"
   ]
  },
  {
   "cell_type": "markdown",
   "id": "7854eb98-eb1e-4dfb-93c4-778aedd45a55",
   "metadata": {},
   "source": [
    "****"
   ]
  },
  {
   "cell_type": "markdown",
   "id": "101f404f-9d37-4c7a-94d5-1248fd5d292c",
   "metadata": {},
   "source": [
    "**working with dictionaries**"
   ]
  },
  {
   "cell_type": "markdown",
   "id": "edca8637-e95e-42ed-9590-2bd8076759a5",
   "metadata": {},
   "source": [
    "**Rowwise arrangement** - a list of dictionaries"
   ]
  },
  {
   "cell_type": "code",
   "execution_count": 34,
   "id": "7e1c09c0-3b6a-4334-92a2-9ff5453bc311",
   "metadata": {},
   "outputs": [
    {
     "data": {
      "text/plain": [
       "[{'trouser': 250,\n",
       "  'crop top': 100,\n",
       "  'trouser_croptop': 350,\n",
       "  'sweatpant': 200,\n",
       "  'hoodie': 300,\n",
       "  'sweatpant_hoodie': 500,\n",
       "  'tshirt': 150,\n",
       "  'sweatpant_tshirt': 350},\n",
       " {'trouser': 500,\n",
       "  'crop top': 150,\n",
       "  'trouser_croptop': 650,\n",
       "  'sweatpant': 300,\n",
       "  'hoodie': 350,\n",
       "  'sweatpant_hoodie': 650,\n",
       "  'tshirt': 200,\n",
       "  'sweatpant_tshirt': 500},\n",
       " {'trouser': 1000,\n",
       "  'crop top': 300,\n",
       "  'trouser_croptop': 1300,\n",
       "  'sweatpant': 500,\n",
       "  'hoodie': 500,\n",
       "  'sweatpant_hoodie': 1000,\n",
       "  'tshirt': 300,\n",
       "  'sweatpant_tshirt': 800}]"
      ]
     },
     "execution_count": 34,
     "metadata": {},
     "output_type": "execute_result"
    }
   ],
   "source": [
    "fashion_boutique_rowwise=[\n",
    "    {\n",
    "    \"trouser\":250,\n",
    "    \"crop top\":100,\n",
    "    \"trouser_croptop\":350,\n",
    "    \"sweatpant\":200,\n",
    "    \"hoodie\":300,\n",
    "    \"sweatpant_hoodie\":500,\n",
    "    \"tshirt\":150,\n",
    "    \"sweatpant_tshirt\":350\n",
    "},\n",
    "\n",
    " {\n",
    "    \"trouser\":500,\n",
    "    \"crop top\":150,\n",
    "    \"trouser_croptop\":650,\n",
    "    \"sweatpant\":300,\n",
    "    \"hoodie\":350,\n",
    "    \"sweatpant_hoodie\":650,\n",
    "    \"tshirt\":200,\n",
    "    \"sweatpant_tshirt\":500\n",
    "},\n",
    "\n",
    " {\n",
    "    \"trouser\":1000,\n",
    "    \"crop top\":300,\n",
    "    \"trouser_croptop\":1300,\n",
    "    \"sweatpant\":500,\n",
    "    \"hoodie\":500,\n",
    "    \"sweatpant_hoodie\":1000,\n",
    "    \"tshirt\":300,\n",
    "    \"sweatpant_tshirt\":800,\n",
    "}\n",
    "\n",
    "\n",
    "]\n",
    "fashion_boutique_rowwise"
   ]
  },
  {
   "cell_type": "markdown",
   "id": "f27af405-4a4b-4bf8-9d1b-5bc37ac9e82b",
   "metadata": {},
   "source": [
    "**columnwise arrangement** - a dictionary of lists"
   ]
  },
  {
   "cell_type": "code",
   "execution_count": 4,
   "id": "9b8e12f6-526a-4aab-a4ba-d52d02e95fb2",
   "metadata": {},
   "outputs": [
    {
     "data": {
      "text/plain": [
       "{'trouser_price': [250, 500, 1000],\n",
       " 'croptop_price': [100, 150, 300],\n",
       " 'trouser_croptop_price': [350, 650, 1300],\n",
       " 'sweatpant': [200, 300, 500],\n",
       " 'hoodie': [300, 350, 500],\n",
       " 'sweatpant_hoodie_price': [500, 650, 1000],\n",
       " 'tshirt_price': [150, 200, 300],\n",
       " 'sweatpant_tshirt_price': [350, 500, 800]}"
      ]
     },
     "execution_count": 4,
     "metadata": {},
     "output_type": "execute_result"
    }
   ],
   "source": [
    "fashion_boutique_columnwise={\n",
    "   \"trouser_price\":[250,500,1000],\n",
    "    \"croptop_price\":[100,150,300],\n",
    "    \"trouser_croptop_price\":[350,650,1300],\n",
    "    \"sweatpant\":[200,300,500],\n",
    "    \"hoodie\":[300,350,500],\n",
    "    \"sweatpant_hoodie_price\":[500,650,1000],\n",
    "    \"tshirt_price\":[150,200,300],\n",
    "    \"sweatpant_tshirt_price\":[350,500,800]\n",
    "\n",
    "}\n",
    "\n",
    "fashion_boutique_columnwise"
   ]
  },
  {
   "cell_type": "markdown",
   "id": "55c85cac-56f7-4665-b206-58a63b91b24e",
   "metadata": {},
   "source": [
    "******"
   ]
  },
  {
   "cell_type": "markdown",
   "id": "785de3cc-dbee-45cb-8074-96ad594b4081",
   "metadata": {},
   "source": [
    "**putting data in columnwise into a dataframe**"
   ]
  },
  {
   "cell_type": "code",
   "execution_count": 6,
   "id": "fd286627-465c-4da1-8494-b9a312a07884",
   "metadata": {},
   "outputs": [
    {
     "data": {
      "text/plain": [
       "{'trouser_price': [250, 500, 1000],\n",
       " 'croptop_price': [100, 150, 300],\n",
       " 'trouser_croptop_price': [350, 650, 1300],\n",
       " 'sweatpant': [200, 300, 500],\n",
       " 'hoodie': [300, 350, 500],\n",
       " 'sweatpant_hoodie_price': [500, 650, 1000],\n",
       " 'tshirt_price': [150, 200, 300],\n",
       " 'sweatpant_tshirt_price': [350, 500, 800]}"
      ]
     },
     "execution_count": 6,
     "metadata": {},
     "output_type": "execute_result"
    }
   ],
   "source": [
    "import pandas as pd\n",
    "data=fashion_boutique_columnwise\n",
    "data"
   ]
  },
  {
   "cell_type": "code",
   "execution_count": 8,
   "id": "e27ef102-5b92-47b6-930c-fcad2cf9cf5e",
   "metadata": {},
   "outputs": [
    {
     "data": {
      "text/html": [
       "<div>\n",
       "<style scoped>\n",
       "    .dataframe tbody tr th:only-of-type {\n",
       "        vertical-align: middle;\n",
       "    }\n",
       "\n",
       "    .dataframe tbody tr th {\n",
       "        vertical-align: top;\n",
       "    }\n",
       "\n",
       "    .dataframe thead th {\n",
       "        text-align: right;\n",
       "    }\n",
       "</style>\n",
       "<table border=\"1\" class=\"dataframe\">\n",
       "  <thead>\n",
       "    <tr style=\"text-align: right;\">\n",
       "      <th></th>\n",
       "      <th>trouser_price</th>\n",
       "      <th>croptop_price</th>\n",
       "      <th>trouser_croptop_price</th>\n",
       "      <th>sweatpant</th>\n",
       "      <th>hoodie</th>\n",
       "      <th>sweatpant_hoodie_price</th>\n",
       "      <th>tshirt_price</th>\n",
       "      <th>sweatpant_tshirt_price</th>\n",
       "    </tr>\n",
       "  </thead>\n",
       "  <tbody>\n",
       "    <tr>\n",
       "      <th>0</th>\n",
       "      <td>250</td>\n",
       "      <td>100</td>\n",
       "      <td>350</td>\n",
       "      <td>200</td>\n",
       "      <td>300</td>\n",
       "      <td>500</td>\n",
       "      <td>150</td>\n",
       "      <td>350</td>\n",
       "    </tr>\n",
       "    <tr>\n",
       "      <th>1</th>\n",
       "      <td>500</td>\n",
       "      <td>150</td>\n",
       "      <td>650</td>\n",
       "      <td>300</td>\n",
       "      <td>350</td>\n",
       "      <td>650</td>\n",
       "      <td>200</td>\n",
       "      <td>500</td>\n",
       "    </tr>\n",
       "    <tr>\n",
       "      <th>2</th>\n",
       "      <td>1000</td>\n",
       "      <td>300</td>\n",
       "      <td>1300</td>\n",
       "      <td>500</td>\n",
       "      <td>500</td>\n",
       "      <td>1000</td>\n",
       "      <td>300</td>\n",
       "      <td>800</td>\n",
       "    </tr>\n",
       "  </tbody>\n",
       "</table>\n",
       "</div>"
      ],
      "text/plain": [
       "   trouser_price  croptop_price  trouser_croptop_price  sweatpant  hoodie  \\\n",
       "0            250            100                    350        200     300   \n",
       "1            500            150                    650        300     350   \n",
       "2           1000            300                   1300        500     500   \n",
       "\n",
       "   sweatpant_hoodie_price  tshirt_price  sweatpant_tshirt_price  \n",
       "0                     500           150                     350  \n",
       "1                     650           200                     500  \n",
       "2                    1000           300                     800  "
      ]
     },
     "execution_count": 8,
     "metadata": {},
     "output_type": "execute_result"
    }
   ],
   "source": [
    "df=pd.DataFrame(data)\n",
    "df"
   ]
  },
  {
   "cell_type": "code",
   "execution_count": null,
   "id": "320c45b6-c23e-4a2d-a451-9c212185dc9b",
   "metadata": {},
   "outputs": [],
   "source": []
  }
 ],
 "metadata": {
  "kernelspec": {
   "display_name": "Python 3 (ipykernel)",
   "language": "python",
   "name": "python3"
  },
  "language_info": {
   "codemirror_mode": {
    "name": "ipython",
    "version": 3
   },
   "file_extension": ".py",
   "mimetype": "text/x-python",
   "name": "python",
   "nbconvert_exporter": "python",
   "pygments_lexer": "ipython3",
   "version": "3.12.4"
  }
 },
 "nbformat": 4,
 "nbformat_minor": 5
}
