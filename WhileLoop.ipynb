{
 "cells": [
  {
   "cell_type": "code",
   "execution_count": 1,
   "id": "f619aebe-cc56-4ab2-bfd5-3a1d356eab5e",
   "metadata": {},
   "outputs": [
    {
     "name": "stdout",
     "output_type": "stream",
     "text": [
      "iteration no.1\n",
      "iteration no.2\n",
      "iteration no.3\n",
      "iteration no.4\n",
      "iteration no.5\n",
      "end of while loop\n"
     ]
    }
   ],
   "source": [
    "count=0\n",
    "while count<5:\n",
    "    count+=1\n",
    "    print(\"iteration no.{}\".format(count))\n",
    "print(\"end of while loop\")"
   ]
  },
  {
   "cell_type": "code",
   "execution_count": 3,
   "id": "f4d979c6-07ff-455f-b328-b88bd6891c41",
   "metadata": {},
   "outputs": [
    {
     "name": "stdin",
     "output_type": "stream",
     "text": [
      "enter a var: 23\n"
     ]
    },
    {
     "name": "stdout",
     "output_type": "stream",
     "text": [
      "Your input 23\n"
     ]
    },
    {
     "name": "stdin",
     "output_type": "stream",
     "text": [
      "enter a var: we\n"
     ]
    },
    {
     "name": "stdout",
     "output_type": "stream",
     "text": [
      "End of while loop\n"
     ]
    }
   ],
   "source": [
    "var='0'\n",
    "while var.isnumeric()==True:\n",
    "    var=input(\"enter a var:\")\n",
    "    if var.isnumeric()==True:\n",
    "\n",
    "        \n",
    "\n",
    "       print(\"Your input\",var)\n",
    "print(\"End of while loop\")"
   ]
  },
  {
   "cell_type": "code",
   "execution_count": null,
   "id": "b1b9d148-0120-447f-b411-cf553cde0ce9",
   "metadata": {},
   "outputs": [
    {
     "name": "stdin",
     "output_type": "stream",
     "text": [
      "enter a number: 23\n"
     ]
    },
    {
     "name": "stdout",
     "output_type": "stream",
     "text": [
      "You entered: 23\n"
     ]
    },
    {
     "name": "stdin",
     "output_type": "stream",
     "text": [
      "enter a number: 45\n"
     ]
    },
    {
     "name": "stdout",
     "output_type": "stream",
     "text": [
      "You entered: 45\n"
     ]
    }
   ],
   "source": [
    "var=1\n",
    "while var==1:#this constructs an infinite loop\n",
    "    num=int(input(\"enter a number:\"))\n",
    "    print(\"You entered:\",num)\n",
    "print(\"Goodbye!\")\n"
   ]
  },
  {
   "cell_type": "code",
   "execution_count": 2,
   "id": "93e8cf63-70d5-474a-a7e2-1c8b2b126e70",
   "metadata": {},
   "outputs": [
    {
     "name": "stdout",
     "output_type": "stream",
     "text": [
      "Good bye!\n"
     ]
    }
   ],
   "source": [
    "flag = 0\n",
    "while (flag): print (\"Given flag is really true!\")\n",
    "print (\"Good bye!\")"
   ]
  },
  {
   "cell_type": "code",
   "execution_count": null,
   "id": "4d7d4552-226c-434d-a429-81a0c133bdd6",
   "metadata": {},
   "outputs": [],
   "source": []
  },
  {
   "cell_type": "code",
   "execution_count": null,
   "id": "8f47e3a9-320c-4a50-ae84-dce675f7d075",
   "metadata": {},
   "outputs": [],
   "source": []
  }
 ],
 "metadata": {
  "kernelspec": {
   "display_name": "Python 3 (ipykernel)",
   "language": "python",
   "name": "python3"
  },
  "language_info": {
   "codemirror_mode": {
    "name": "ipython",
    "version": 3
   },
   "file_extension": ".py",
   "mimetype": "text/x-python",
   "name": "python",
   "nbconvert_exporter": "python",
   "pygments_lexer": "ipython3",
   "version": "3.12.4"
  }
 },
 "nbformat": 4,
 "nbformat_minor": 5
}
