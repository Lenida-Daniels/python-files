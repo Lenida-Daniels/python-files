{
 "cells": [
  {
   "cell_type": "code",
   "execution_count": 6,
   "id": "2c97f0f3-2589-4a3a-a4d5-2764d8fb608e",
   "metadata": {},
   "outputs": [
    {
     "name": "stdout",
     "output_type": "stream",
     "text": [
      "stitches\n"
     ]
    }
   ],
   "source": [
    "def my_crochets():\n",
    "    print(\"stitches\")\n",
    "my_crochets()\n",
    "    "
   ]
  },
  {
   "cell_type": "code",
   "execution_count": 12,
   "id": "b6086f12-c85d-4114-8603-5afc016d6cc0",
   "metadata": {},
   "outputs": [
    {
     "name": "stdout",
     "output_type": "stream",
     "text": [
      "i am using half double crochet stitch to crochet this top\n"
     ]
    }
   ],
   "source": [
    "def my_crochets(stitch):\n",
    "    print(\"i am using\"+\" \"+stitch+\" to crochet this top\")\n",
    "my_crochets(\"half double crochet stitch\")"
   ]
  },
  {
   "cell_type": "code",
   "execution_count": 16,
   "id": "1a26a4b4-e605-4420-9bb6-1fd55a90b188",
   "metadata": {},
   "outputs": [
    {
     "name": "stdout",
     "output_type": "stream",
     "text": [
      "Her first name is Lenny and her last name is Daniels\n"
     ]
    }
   ],
   "source": [
    "def my_function(fname,lname):\n",
    "    print(\"Her first name is \"+fname+\" and her last name is \"+lname )\n",
    "my_function(\"Lenny\",\"Daniels\")"
   ]
  },
  {
   "cell_type": "code",
   "execution_count": 48,
   "id": "69a8eda4-6319-4a60-a5be-2d13ca9b5864",
   "metadata": {},
   "outputs": [
    {
     "name": "stdout",
     "output_type": "stream",
     "text": [
      "Her name is Lenida Daniels\n",
      "Lenida Daniel\n"
     ]
    }
   ],
   "source": [
    "def my_function(fname,lname):\n",
    "   print(\"Her name is \"+fname+\" \" + lname)\n",
    "   print(fname+\" \"+\"Daniel\")\n",
    "my_function(\"Lenida\",\"Daniels\")\n",
    "    \n"
   ]
  },
  {
   "cell_type": "code",
   "execution_count": 58,
   "id": "c2ff0899-bc1b-401e-8108-518d47273301",
   "metadata": {},
   "outputs": [
    {
     "name": "stdout",
     "output_type": "stream",
     "text": [
      "my youngest student is Brielle\n"
     ]
    }
   ],
   "source": [
    "def my_students(*students):#use * when not sure with number of arguments\n",
    "   print(\"my youngest student is\"+\" \"+ students[5])\n",
    "my_students(\"Lenny\",\"Macy\",\"Rachel\",\"Lenida\",\"Ellah\",\"Brielle\")"
   ]
  },
  {
   "cell_type": "code",
   "execution_count": 62,
   "id": "64ffd4c5-6d52-4085-b906-8b2e9409f064",
   "metadata": {},
   "outputs": [
    {
     "name": "stdout",
     "output_type": "stream",
     "text": [
      "The top student is Rachel\n"
     ]
    }
   ],
   "source": [
    "#using keywords\n",
    "def my_students(student1,student2,student3):\n",
    "   print(\"The top student is\"+\" \"+ student3)\n",
    "my_students(student1=\"Lenny\",student2=\"Macy\",student3=\"Rachel\")"
   ]
  },
  {
   "cell_type": "code",
   "execution_count": 66,
   "id": "0e3ca001-60ee-4d8d-b625-a440c396fdb3",
   "metadata": {},
   "outputs": [
    {
     "name": "stdout",
     "output_type": "stream",
     "text": [
      "The top student is Rachel\n"
     ]
    }
   ],
   "source": [
    "def my_students(**student):#use ** when not sure with number of keywords\n",
    "   print(\"The top student is\"+\" \"+ student[\"student3\"])\n",
    "my_students(student1=\"Lenny\",student2=\"Macy\",student3=\"Rachel\")"
   ]
  },
  {
   "cell_type": "code",
   "execution_count": null,
   "id": "47b04754-5e80-4dca-9d80-86f475762e3d",
   "metadata": {},
   "outputs": [],
   "source": []
  }
 ],
 "metadata": {
  "kernelspec": {
   "display_name": "Python 3 (ipykernel)",
   "language": "python",
   "name": "python3"
  },
  "language_info": {
   "codemirror_mode": {
    "name": "ipython",
    "version": 3
   },
   "file_extension": ".py",
   "mimetype": "text/x-python",
   "name": "python",
   "nbconvert_exporter": "python",
   "pygments_lexer": "ipython3",
   "version": "3.12.4"
  }
 },
 "nbformat": 4,
 "nbformat_minor": 5
}
