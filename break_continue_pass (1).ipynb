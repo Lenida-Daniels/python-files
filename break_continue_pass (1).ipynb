{
 "cells": [
  {
   "cell_type": "markdown",
   "id": "8bfe44c4-679e-4f37-ac6f-764c041e232f",
   "metadata": {},
   "source": [
    "**Break Statement** - terminates the current loop and resumes at the next statement.It can be used in both while and for loop\n"
   ]
  },
  {
   "cell_type": "markdown",
   "id": "0f872aba-e48d-4102-b2e5-14e495f0a863",
   "metadata": {},
   "source": [
    "**break statement with for loop**"
   ]
  },
  {
   "cell_type": "code",
   "execution_count": 5,
   "id": "a195dc6c-a792-406f-ac0f-d03012b7d23e",
   "metadata": {},
   "outputs": [
    {
     "name": "stdout",
     "output_type": "stream",
     "text": [
      "current letter: p\n",
      "current letter: y\n",
      "current letter: t\n",
      "good bye\n"
     ]
    }
   ],
   "source": [
    "for letter in 'python':\n",
    "    if letter == 'h':\n",
    "        break\n",
    "    print(\"current letter:\",letter)\n",
    "print(\"good bye\")"
   ]
  },
  {
   "cell_type": "markdown",
   "id": "3da744a5-6ccb-4c7a-8df7-5298edf39d2a",
   "metadata": {},
   "source": [
    "**break statement with while loop**"
   ]
  },
  {
   "cell_type": "code",
   "execution_count": 9,
   "id": "f81a0919-b376-4878-a674-b2052c74eed3",
   "metadata": {},
   "outputs": [
    {
     "name": "stdout",
     "output_type": "stream",
     "text": [
      "current variable value: 10\n",
      "current variable value: 9\n",
      "current variable value: 8\n",
      "current variable value: 7\n",
      "current variable value: 6\n",
      "good bye\n"
     ]
    }
   ],
   "source": [
    "var=10\n",
    "while var>0:\n",
    "    print(\"current variable value:\",var)\n",
    "    var=var-1\n",
    "    if var==5:\n",
    "        break\n",
    "print(\"good bye\")"
   ]
  },
  {
   "cell_type": "markdown",
   "id": "d6fd224b-d40c-4257-bbe9-089a750104f3",
   "metadata": {},
   "source": [
    "**Break statement with nested loops**-when  break statement is used inside the inner loop, only the inner loop will be skipped and the program will continue executing statements after the inner loop"
   ]
  },
  {
   "cell_type": "markdown",
   "id": "bab1e628-5314-4b72-b18a-4af62d5e9c62",
   "metadata": {},
   "source": [
    "And, when the break statement is used in the outer loop, both the outer and inner loops will be skipped and the program will continue executing statements immediate to the outer loop."
   ]
  },
  {
   "cell_type": "code",
   "execution_count": 22,
   "id": "b230b991-63d5-4abc-8089-c3ed64f91202",
   "metadata": {},
   "outputs": [
    {
     "name": "stdout",
     "output_type": "stream",
     "text": [
      "number found in list\n"
     ]
    }
   ],
   "source": [
    "no=21\n",
    "numbers=[10,20,34,45,54,21,35,46]\n",
    "for num in numbers:\n",
    "    if num == no:\n",
    "        print('number found in list')\n",
    "        break\n",
    "else:\n",
    "        print('number not found in list')"
   ]
  },
  {
   "cell_type": "code",
   "execution_count": 24,
   "id": "905ecaaa-2ece-4ca0-a027-c4a59766b5ea",
   "metadata": {},
   "outputs": [
    {
     "name": "stdout",
     "output_type": "stream",
     "text": [
      "number not found in list\n"
     ]
    }
   ],
   "source": [
    "no = 100\n",
    "numbers = [11,33,55,39,55,75,37,21,23,41,13]\n",
    "for num in numbers:\n",
    "   if num == no:\n",
    "      print ('number found in list')\n",
    "      break\n",
    "else:\n",
    "   print ('number not found in list')"
   ]
  },
  {
   "cell_type": "markdown",
   "id": "3541d8b1-3ab5-46ee-8fd4-6d2f82ca946e",
   "metadata": {},
   "source": [
    "****"
   ]
  },
  {
   "cell_type": "markdown",
   "id": "a96e73a7-6b24-4f0b-96c7-ee9495a4847d",
   "metadata": {},
   "source": [
    "**python continue statement** -  is used to skip the execution of the program block and returns the control to the beginning of the current loop to start the next iteration. It skips the remaining statements in the current loop and starts the next iteration."
   ]
  },
  {
   "cell_type": "markdown",
   "id": "9b93ef0d-aaa5-4d15-97bd-113b08249857",
   "metadata": {},
   "source": [
    "**continue statement with for loop**"
   ]
  },
  {
   "cell_type": "code",
   "execution_count": 32,
   "id": "c25cbf79-0a19-4ad6-aa6c-9fb44a0bfc3d",
   "metadata": {},
   "outputs": [
    {
     "name": "stdout",
     "output_type": "stream",
     "text": [
      "Current Letter : P\n",
      "Current Letter : y\n",
      "Current Letter : t\n",
      "Current Letter : o\n",
      "Current Letter : n\n",
      "Good bye!\n"
     ]
    }
   ],
   "source": [
    "for letter in 'Python':\n",
    "   if letter == 'h':\n",
    "      continue\n",
    "   print ('Current Letter :', letter)\n",
    "print (\"Good bye!\")"
   ]
  },
  {
   "cell_type": "markdown",
   "id": "2738148e-d5c0-43e1-9137-458a04bfb449",
   "metadata": {},
   "source": [
    "**continue statement with while loop**"
   ]
  },
  {
   "cell_type": "code",
   "execution_count": 35,
   "id": "bd39e584-4f59-40e2-87de-b1b9c4c058f4",
   "metadata": {},
   "outputs": [
    {
     "name": "stdout",
     "output_type": "stream",
     "text": [
      "Prime factors for:  60\n",
      "2\n",
      "2\n",
      "3\n",
      "5\n"
     ]
    }
   ],
   "source": [
    "num = 60\n",
    "print (\"Prime factors for: \", num)\n",
    "d=2\n",
    "while num > 1:\n",
    "   if num%d==0:\n",
    "      print (d)\n",
    "      num=num/d\n",
    "      continue\n",
    "   d=d+1"
   ]
  },
  {
   "cell_type": "markdown",
   "id": "25ccce58-862c-436e-b0ac-2670bf933a4f",
   "metadata": {},
   "source": [
    "**pass statement**"
   ]
  },
  {
   "cell_type": "code",
   "execution_count": 38,
   "id": "929bfbc7-a617-4448-83cf-fb2b2efd938d",
   "metadata": {},
   "outputs": [
    {
     "name": "stdout",
     "output_type": "stream",
     "text": [
      "Current Letter : P\n",
      "Current Letter : y\n",
      "Current Letter : t\n",
      "This is pass block\n",
      "Current Letter : h\n",
      "Current Letter : o\n",
      "Current Letter : n\n",
      "Good bye!\n"
     ]
    }
   ],
   "source": [
    "for letter in 'Python':\n",
    "   if letter == 'h':\n",
    "      pass\n",
    "      print ('This is pass block')\n",
    "   print ('Current Letter :', letter)\n",
    "print (\"Good bye!\")"
   ]
  },
  {
   "cell_type": "markdown",
   "id": "c40f4956-7dfa-4950-8b05-907eadbc41e3",
   "metadata": {},
   "source": [
    "**Dumpy infinite loop with pass statement**"
   ]
  },
  {
   "cell_type": "raw",
   "id": "28a971db-a139-4b5f-8e50-ec57fbfc20cb",
   "metadata": {},
   "source": [
    "while True: pass  \n",
    "# Type Ctrl-C to stop      "
   ]
  },
  {
   "cell_type": "markdown",
   "id": "9ae98ffb-9303-46ff-a3f5-5ad730c14834",
   "metadata": {},
   "source": [
    "**Using Ellipses (...) as pass Statement Alternative**"
   ]
  },
  {
   "cell_type": "code",
   "execution_count": 44,
   "id": "4b3f1f65-0659-4d12-8887-2f1c7330a82e",
   "metadata": {},
   "outputs": [],
   "source": [
    "def func1():\n",
    "   # Alternative to pass\n",
    "   ...                   \n",
    "\n",
    "# Works on same line too\n",
    "def func2(): ...          \n",
    " # Does nothing if called\n",
    "func1()                  \n",
    "func2()   "
   ]
  },
  {
   "cell_type": "code",
   "execution_count": null,
   "id": "06d3572e-3137-46af-9043-5b3f11799b9f",
   "metadata": {},
   "outputs": [],
   "source": []
  }
 ],
 "metadata": {
  "kernelspec": {
   "display_name": "Python 3 (ipykernel)",
   "language": "python",
   "name": "python3"
  },
  "language_info": {
   "codemirror_mode": {
    "name": "ipython",
    "version": 3
   },
   "file_extension": ".py",
   "mimetype": "text/x-python",
   "name": "python",
   "nbconvert_exporter": "python",
   "pygments_lexer": "ipython3",
   "version": "3.12.4"
  }
 },
 "nbformat": 4,
 "nbformat_minor": 5
}
