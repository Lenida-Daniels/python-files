{
 "cells": [
  {
   "cell_type": "markdown",
   "id": "0918586b-0153-489d-994f-8580e92b0b71",
   "metadata": {},
   "source": [
    "list - a built-in data structure used for storing multiple items in a single variable. They are ordered, mutable(modifiable), and allow duplicate values.They are commonly used for storing and manipulating collections of ata."
   ]
  },
  {
   "cell_type": "markdown",
   "id": "3f3614b9-e333-4606-83a0-66b70be36e39",
   "metadata": {},
   "source": [
    "Creating a list - defined using square brackets[] or list()function"
   ]
  },
  {
   "cell_type": "code",
   "execution_count": 91,
   "id": "35d25b15-77ca-4a2d-a3f4-0566eb5fcdc8",
   "metadata": {},
   "outputs": [
    {
     "name": "stdout",
     "output_type": "stream",
     "text": [
      "[1, 2, 3, 4, 5]\n",
      "[1, 'hello', 2.34, True]\n",
      "[]\n"
     ]
    }
   ],
   "source": [
    "my_list=[1,2,3,4,5]#contain same data type\n",
    "print(my_list)\n",
    "mixed_list=[1,\"hello\",2.34,True]\n",
    "print(mixed_list)#different data types\n",
    "empty_list2 = list()\n",
    "\n",
    "print(empty_list2 )\n"
   ]
  },
  {
   "cell_type": "markdown",
   "id": "90d06abe-8cf6-4b5e-a7f3-993bdf937d35",
   "metadata": {},
   "source": [
    "Accessing elements-you can access using indexing or slicing"
   ]
  },
  {
   "cell_type": "code",
   "execution_count": 21,
   "id": "c3944bc9-82f9-43f3-8359-dfe833082242",
   "metadata": {},
   "outputs": [
    {
     "name": "stdout",
     "output_type": "stream",
     "text": [
      "1\n",
      "5\n",
      "2.34\n",
      "['hello', 2.34, True]\n"
     ]
    }
   ],
   "source": [
    "print(my_list[0])\n",
    "print(my_list[-1])\n",
    "print(mixed_list[2])\n",
    "print(mixed_list[1:4])"
   ]
  },
  {
   "cell_type": "markdown",
   "id": "fd97b1c3-1458-4ca3-ba68-246dffcc53f7",
   "metadata": {},
   "source": [
    "Modifying a list - they are mutable,meaning they can change their elements"
   ]
  },
  {
   "cell_type": "code",
   "execution_count": 25,
   "id": "61ddcb77-72be-47a3-8349-848e40d7469e",
   "metadata": {},
   "outputs": [
    {
     "name": "stdout",
     "output_type": "stream",
     "text": [
      "[1, 10, 3, 4, 5]\n"
     ]
    }
   ],
   "source": [
    "my_list[1] = 10\n",
    "print(my_list)  # Output: [1, 10, 3, 4, 5]\n"
   ]
  },
  {
   "cell_type": "markdown",
   "id": "138cf7a0-eec9-4937-9e7f-df97c79eef8c",
   "metadata": {},
   "source": [
    "In-built methods for working with lists"
   ]
  },
  {
   "cell_type": "code",
   "execution_count": 55,
   "id": "d3b630da-3a4e-4ca2-b893-31777838b72b",
   "metadata": {},
   "outputs": [
    {
     "name": "stdout",
     "output_type": "stream",
     "text": [
      "[10, 7, 5, 3, 1]\n"
     ]
    }
   ],
   "source": [
    "numbers=[1,3,5,7]\n",
    "numbers.append(10)#adds an element at the end\n",
    "numbers.insert(6,4)#if the index doesn't exist it adds at the end\n",
    "numbers.insert(2,4)#inserts 4 at index 2\n",
    "numbers.remove(4)#removes the first occurence of the element\n",
    "numbers.pop()#removes and returns the last element\n",
    "numbers.sort()#sorts the list in ascending order\n",
    "numbers.reverse()#reverses the list\n",
    "\n",
    "print(numbers)"
   ]
  },
  {
   "cell_type": "markdown",
   "id": "96c92d34-e1d1-42eb-b2c2-2d1530d2ed48",
   "metadata": {},
   "source": [
    "Iterating through a list"
   ]
  },
  {
   "cell_type": "markdown",
   "id": "d1a4c680-09bf-47f4-8d85-d6d90a736604",
   "metadata": {},
   "source": [
    "using a loop"
   ]
  },
  {
   "cell_type": "code",
   "execution_count": 63,
   "id": "92365831-658b-4a49-af27-6273fac05e5f",
   "metadata": {},
   "outputs": [
    {
     "name": "stdout",
     "output_type": "stream",
     "text": [
      "1\n",
      "10\n",
      "3\n",
      "4\n",
      "5\n"
     ]
    }
   ],
   "source": [
    "for num in my_list:\n",
    "    print(num)\n"
   ]
  },
  {
   "cell_type": "markdown",
   "id": "7c32645c-5988-421b-b0a4-7cbabc726135",
   "metadata": {},
   "source": [
    "using list comprehension"
   ]
  },
  {
   "cell_type": "code",
   "execution_count": 71,
   "id": "fb056eed-3b1f-46be-83fe-61102caa67bd",
   "metadata": {},
   "outputs": [
    {
     "name": "stdout",
     "output_type": "stream",
     "text": [
      "[1, 100, 9, 16, 25]\n"
     ]
    }
   ],
   "source": [
    "squared = [x**2 for x in my_list]\n",
    "print(squared)  # Output: [1, 100, 9, 16, 25]\n",
    "\n",
    "\n"
   ]
  },
  {
   "cell_type": "code",
   "execution_count": 73,
   "id": "89c54dbe-b3c1-4430-84a0-e3b4997b1758",
   "metadata": {},
   "outputs": [
    {
     "name": "stdout",
     "output_type": "stream",
     "text": [
      "[1, 1000, 27, 64, 125]\n"
     ]
    }
   ],
   "source": [
    "squared = [x**3 for x in my_list]\n",
    "print(squared)  \n"
   ]
  },
  {
   "cell_type": "markdown",
   "id": "557f30e5-5bca-40bb-98e5-b8ea11dcab8b",
   "metadata": {},
   "source": [
    "Nested list-list can contain other lists(useful for matrices)"
   ]
  },
  {
   "cell_type": "code",
   "execution_count": 78,
   "id": "e302a306-cf88-4bf3-9633-95915434b229",
   "metadata": {},
   "outputs": [
    {
     "name": "stdout",
     "output_type": "stream",
     "text": [
      "6\n",
      "[[1, 2, 3], [4, 5, 6], [7, 8, 9]]\n"
     ]
    }
   ],
   "source": [
    "matrix = [[1, 2, 3], [4, 5, 6], [7, 8, 9]]\n",
    "print(matrix[1][2])  # Output: 6\n",
    "print(matrix)\n"
   ]
  },
  {
   "cell_type": "code",
   "execution_count": null,
   "id": "b4ab4a1c-78dd-4983-9f53-3000f1f4cc30",
   "metadata": {},
   "outputs": [],
   "source": []
  }
 ],
 "metadata": {
  "kernelspec": {
   "display_name": "Python 3 (ipykernel)",
   "language": "python",
   "name": "python3"
  },
  "language_info": {
   "codemirror_mode": {
    "name": "ipython",
    "version": 3
   },
   "file_extension": ".py",
   "mimetype": "text/x-python",
   "name": "python",
   "nbconvert_exporter": "python",
   "pygments_lexer": "ipython3",
   "version": "3.12.4"
  }
 },
 "nbformat": 4,
 "nbformat_minor": 5
}
