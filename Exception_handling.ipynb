{
 "cells": [
  {
   "cell_type": "markdown",
   "id": "30379a82-bceb-49bd-b19f-8ece1cf15f05",
   "metadata": {},
   "source": [
    "**Using Assertions**"
   ]
  },
  {
   "cell_type": "code",
   "execution_count": 2,
   "id": "f71ce451-54e4-4a35-b7d4-96dea739777a",
   "metadata": {},
   "outputs": [
    {
     "name": "stdout",
     "output_type": "stream",
     "text": [
      "32.0\n",
      "451\n"
     ]
    },
    {
     "ename": "AssertionError",
     "evalue": "Colder than absolute zero!",
     "output_type": "error",
     "traceback": [
      "\u001b[1;31m---------------------------------------------------------------------------\u001b[0m",
      "\u001b[1;31mAssertionError\u001b[0m                            Traceback (most recent call last)",
      "Cell \u001b[1;32mIn[2], line 6\u001b[0m\n\u001b[0;32m      4\u001b[0m \u001b[38;5;28mprint\u001b[39m (KelvinToFahrenheit(\u001b[38;5;241m273\u001b[39m))\n\u001b[0;32m      5\u001b[0m \u001b[38;5;28mprint\u001b[39m (\u001b[38;5;28mint\u001b[39m(KelvinToFahrenheit(\u001b[38;5;241m505.78\u001b[39m)))\n\u001b[1;32m----> 6\u001b[0m \u001b[38;5;28mprint\u001b[39m (KelvinToFahrenheit(\u001b[38;5;241m-\u001b[39m\u001b[38;5;241m5\u001b[39m))\n",
      "Cell \u001b[1;32mIn[2], line 2\u001b[0m, in \u001b[0;36mKelvinToFahrenheit\u001b[1;34m(Temperature)\u001b[0m\n\u001b[0;32m      1\u001b[0m \u001b[38;5;28;01mdef\u001b[39;00m \u001b[38;5;21mKelvinToFahrenheit\u001b[39m(Temperature):\n\u001b[1;32m----> 2\u001b[0m    \u001b[38;5;28;01massert\u001b[39;00m (Temperature \u001b[38;5;241m>\u001b[39m\u001b[38;5;241m=\u001b[39m \u001b[38;5;241m0\u001b[39m),\u001b[38;5;124m\"\u001b[39m\u001b[38;5;124mColder than absolute zero!\u001b[39m\u001b[38;5;124m\"\u001b[39m\n\u001b[0;32m      3\u001b[0m    \u001b[38;5;28;01mreturn\u001b[39;00m ((Temperature\u001b[38;5;241m-\u001b[39m\u001b[38;5;241m273\u001b[39m)\u001b[38;5;241m*\u001b[39m\u001b[38;5;241m1.8\u001b[39m)\u001b[38;5;241m+\u001b[39m\u001b[38;5;241m32\u001b[39m\n",
      "\u001b[1;31mAssertionError\u001b[0m: Colder than absolute zero!"
     ]
    }
   ],
   "source": [
    "def KelvinToFahrenheit(Temperature): #function definition with parameter temperature\n",
    "    \n",
    "   # uses assert statement to check whether temp is greater or equal to zero. \n",
    "    #if less than zero, raises AssertionError which states Colder than absolute zero\n",
    "   assert (Temperature >= 0),\"Colder than absolute zero!\" \n",
    "   return ((Temperature-273)*1.8)+32 #conversion from kelvin to fahrenheit using formula: Fahrenheit=((kelvin-273)*1.8)+32\n",
    "print (KelvinToFahrenheit(273))\n",
    "print (int(KelvinToFahrenheit(505.78)))\n",
    "print (KelvinToFahrenheit(-5))"
   ]
  },
  {
   "cell_type": "markdown",
   "id": "9a0f768b-9b3d-48cc-ae44-72b95f6293f1",
   "metadata": {},
   "source": [
    "**Using Exception Handling**"
   ]
  },
  {
   "cell_type": "code",
   "execution_count": 7,
   "id": "266a56b6-af5f-4845-8d85-144039152ab4",
   "metadata": {},
   "outputs": [
    {
     "name": "stdout",
     "output_type": "stream",
     "text": [
      "Written content in the file successfully\n"
     ]
    }
   ],
   "source": [
    "try: #this block contains code that may raise exceptions\n",
    "    #open function is used to open a file named \"testfile\" in write mode\"w\".\n",
    "    #if the file doesn't exist it will be created\n",
    "    #write method is used to write something to the file.\n",
    "   fh = open(\"testfile\", \"w\")\n",
    "   fh.write(\"This is my test file for exception handling!!\")\n",
    "    \n",
    "except IOError:#if input/output error occurs during execution this block will be executed and print the error message.\n",
    "   print (\"Error: can\\'t find file or read data\")\n",
    "    \n",
    "else: #this block will be executed if no exceptions are raised in try block.\n",
    "   print (\"Written content in the file successfully\")\n",
    "   fh.close()# close method closes the file and ensure that all data is properly saved and resourses released."
   ]
  },
  {
   "cell_type": "code",
   "execution_count": 11,
   "id": "e2649a36-be82-428b-bb58-e5c0ec987d60",
   "metadata": {},
   "outputs": [
    {
     "name": "stdout",
     "output_type": "stream",
     "text": [
      "Error: can't find file or read data\n"
     ]
    }
   ],
   "source": [
    "#This block attempts to open a file named testfile in read mode (\"r\").\n",
    "#Since the file is opened in read mode, it is expected that the file already exists. so this will raise an exception. \n",
    "\n",
    "try:\n",
    "   fh = open(\"testfile\", \"r\")\n",
    "   fh.write(\"This is my test file for exception handling!!\")\n",
    "except IOError:\n",
    "   print (\"Error: can\\'t find file or read data\")\n",
    "else:\n",
    "   print (\"Written content in the file successfully\")"
   ]
  },
  {
   "cell_type": "code",
   "execution_count": null,
   "id": "7835cee8-9ed0-4daf-bf40-7df1e44869bf",
   "metadata": {},
   "outputs": [],
   "source": []
  }
 ],
 "metadata": {
  "kernelspec": {
   "display_name": "Python 3 (ipykernel)",
   "language": "python",
   "name": "python3"
  },
  "language_info": {
   "codemirror_mode": {
    "name": "ipython",
    "version": 3
   },
   "file_extension": ".py",
   "mimetype": "text/x-python",
   "name": "python",
   "nbconvert_exporter": "python",
   "pygments_lexer": "ipython3",
   "version": "3.12.4"
  }
 },
 "nbformat": 4,
 "nbformat_minor": 5
}
