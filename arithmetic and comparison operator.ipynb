{
 "cells": [
  {
   "cell_type": "markdown",
   "id": "8cb2a54e-4b01-45ea-b146-2cd494801f4e",
   "metadata": {},
   "source": [
    "python operators\n"
   ]
  },
  {
   "cell_type": "markdown",
   "id": "24a2a54a-f447-4bd9-aae0-58b898688ed9",
   "metadata": {},
   "source": [
    "arithmetic operator - basic mathematical operations "
   ]
  },
  {
   "cell_type": "code",
   "execution_count": 2,
   "id": "3830ff48-1b21-444f-87ca-55d7ad9227fb",
   "metadata": {},
   "outputs": [
    {
     "name": "stdout",
     "output_type": "stream",
     "text": [
      "a: 10 b: 20 a+b: 30\n"
     ]
    }
   ],
   "source": [
    "a=10\n",
    "b=20\n",
    "c=0\n",
    "c = a + b# adds two variables and returns variable c\n",
    "print (\"a: {} b: {} a+b: {}\".format(a,b,c))\n",
    "# the {} is a placeholder in a string\n",
    "#those placeholders are replaced by values a,b,c using .format() method.\n"
   ]
  },
  {
   "cell_type": "code",
   "execution_count": 4,
   "id": "1142ff73-86a3-499a-92c1-61fbcd6f4c81",
   "metadata": {},
   "outputs": [
    {
     "name": "stdout",
     "output_type": "stream",
     "text": [
      "a:10 b:20 a+b:200\n"
     ]
    }
   ],
   "source": [
    "c=a*b\n",
    "print(\"a:{} b:{} a+b:{}\".format(a,b,c))"
   ]
  },
  {
   "cell_type": "code",
   "execution_count": 6,
   "id": "3f0eef2c-e44e-45db-9aa6-c84414204c68",
   "metadata": {},
   "outputs": [
    {
     "name": "stdout",
     "output_type": "stream",
     "text": [
      "a: 10 b: 20 a-b: -10\n"
     ]
    }
   ],
   "source": [
    "c = a - b\n",
    "print (\"a: {} b: {} a-b: {}\".format(a,b,c) )\n"
   ]
  },
  {
   "cell_type": "code",
   "execution_count": 8,
   "id": "aaf5f471-540b-43ee-aa59-c27e8f0058cd",
   "metadata": {},
   "outputs": [
    {
     "name": "stdout",
     "output_type": "stream",
     "text": [
      "a: 10 b: 20 a/b: 0.5\n"
     ]
    }
   ],
   "source": [
    "c = a / b\n",
    "print (\"a: {} b: {} a/b: {}\".format(a,b,c))"
   ]
  },
  {
   "cell_type": "code",
   "execution_count": 10,
   "id": "efd14c9c-31da-4c00-883a-dc0f7129762a",
   "metadata": {},
   "outputs": [
    {
     "name": "stdout",
     "output_type": "stream",
     "text": [
      "a: 2 b: 3 a**b: 8\n"
     ]
    }
   ],
   "source": [
    "a = 2\n",
    "b = 3\n",
    "c = a**b \n",
    "print (\"a: {} b: {} a**b: {}\".format(a,b,c))\n",
    "#exponentiation(exponent) operator in Python - calculates a raised to the power b"
   ]
  },
  {
   "cell_type": "code",
   "execution_count": 22,
   "id": "63f08901-33d1-4621-b636-7d9427a73366",
   "metadata": {},
   "outputs": [
    {
     "name": "stdout",
     "output_type": "stream",
     "text": [
      "a: 20 b: 3 a//b: 6\n"
     ]
    }
   ],
   "source": [
    "a = 20\n",
    "b = 3\n",
    "c = a//b \n",
    "print (\"a: {} b: {} a//b: {}\".format(a,b,c))\n",
    "#performs floor division - this operator divides a  by b and rounds down(towards nearest integer)"
   ]
  },
  {
   "cell_type": "code",
   "execution_count": 18,
   "id": "f6618ca7-bcf1-4539-b3cd-b110f40daa33",
   "metadata": {},
   "outputs": [
    {
     "name": "stdout",
     "output_type": "stream",
     "text": [
      "a: 20 b: 10 a%b: 0\n"
     ]
    }
   ],
   "source": [
    "a=20\n",
    "b=10\n",
    "c=0\n",
    "c = a % b\n",
    "print(\"a: {} b: {} a%b: {}\".format(a, b, c))\n",
    "#modulus - returns the remainder"
   ]
  },
  {
   "cell_type": "code",
   "execution_count": null,
   "id": "b8748906-e750-424f-a968-c979519b4d94",
   "metadata": {},
   "outputs": [],
   "source": []
  },
  {
   "cell_type": "markdown",
   "id": "6ecdcd34-549b-4fa0-bd98-86a2f8180353",
   "metadata": {},
   "source": [
    "comparison/ relational operator - compares values on either side of them and decide relation among them."
   ]
  },
  {
   "cell_type": "code",
   "execution_count": 27,
   "id": "ec314df8-04fb-4faf-8b05-8fec6c396126",
   "metadata": {},
   "outputs": [
    {
     "name": "stdout",
     "output_type": "stream",
     "text": [
      "x is not equal to y\n"
     ]
    }
   ],
   "source": [
    "x=10\n",
    "y=20\n",
    "if(x==b):\n",
    "    print(\"x is equal to y\")\n",
    "else:\n",
    "    print(\"x is not equal to y\")"
   ]
  },
  {
   "cell_type": "code",
   "execution_count": 31,
   "id": "7799fe07-8e4c-427c-b2ea-e29db13e65ad",
   "metadata": {},
   "outputs": [
    {
     "name": "stdout",
     "output_type": "stream",
     "text": [
      "x is not equal to y\n"
     ]
    }
   ],
   "source": [
    "x=10\n",
    "y=20\n",
    "if(x!=y):\n",
    "    print(\"x is not equal to y\")\n",
    "else:\n",
    "    print(\"x is equal to y\")"
   ]
  },
  {
   "cell_type": "code",
   "execution_count": 33,
   "id": "d74a7645-025f-4269-8d9a-478e3937144a",
   "metadata": {},
   "outputs": [
    {
     "name": "stdout",
     "output_type": "stream",
     "text": [
      "x less than y\n"
     ]
    }
   ],
   "source": [
    "x=10\n",
    "y=20\n",
    "if(x<y):\n",
    "    print(\"x less than y\")\n",
    "else:\n",
    "    print(\"x is greater y\")"
   ]
  },
  {
   "cell_type": "code",
   "execution_count": 35,
   "id": "1160d0af-ba93-42f1-9180-7eb76c1fc743",
   "metadata": {},
   "outputs": [
    {
     "name": "stdout",
     "output_type": "stream",
     "text": [
      "x less than y\n"
     ]
    }
   ],
   "source": [
    "x=10\n",
    "y=20\n",
    "if(x>y):\n",
    "    print(\"x is greater y\")\n",
    "else:\n",
    "    print(\"x less than y\")"
   ]
  },
  {
   "cell_type": "code",
   "execution_count": 37,
   "id": "14c572fe-3cec-4780-8058-13d90bad1a55",
   "metadata": {},
   "outputs": [
    {
     "name": "stdout",
     "output_type": "stream",
     "text": [
      "x fails limits\n"
     ]
    }
   ],
   "source": [
    "x=10\n",
    "y=20\n",
    "if(x>=y):\n",
    "    print(\"x passes limits\")\n",
    "else:\n",
    "    print(\"x fails limits\")"
   ]
  },
  {
   "cell_type": "code",
   "execution_count": null,
   "id": "224a4861-b231-4e72-b604-bdb6cf602107",
   "metadata": {},
   "outputs": [],
   "source": []
  }
 ],
 "metadata": {
  "kernelspec": {
   "display_name": "Python 3 (ipykernel)",
   "language": "python",
   "name": "python3"
  },
  "language_info": {
   "codemirror_mode": {
    "name": "ipython",
    "version": 3
   },
   "file_extension": ".py",
   "mimetype": "text/x-python",
   "name": "python",
   "nbconvert_exporter": "python",
   "pygments_lexer": "ipython3",
   "version": "3.12.4"
  }
 },
 "nbformat": 4,
 "nbformat_minor": 5
}
