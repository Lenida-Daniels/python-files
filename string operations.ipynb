{
 "cells": [
  {
   "cell_type": "markdown",
   "id": "95bd49e7-0610-4c9e-90e2-bbb7b15df53d",
   "metadata": {},
   "source": [
    "string operations"
   ]
  },
  {
   "cell_type": "markdown",
   "id": "135cafbc-2fa7-4df9-828c-5ce44e6f7e4b",
   "metadata": {},
   "source": [
    "concatenation using +operator and f- string"
   ]
  },
  {
   "cell_type": "code",
   "execution_count": 20,
   "id": "0aef23fe-28ba-45cd-8925-f1f4415a3cdb",
   "metadata": {},
   "outputs": [
    {
     "name": "stdout",
     "output_type": "stream",
     "text": [
      "hello world\n",
      "hello Lenny\n"
     ]
    }
   ],
   "source": [
    "greetings=\"hello\"+\" \"+ \"world\"\n",
    "print(greetings)\n",
    "\n",
    "text=\"Lenny\"\n",
    "print(f\"hello {text}\")"
   ]
  },
  {
   "cell_type": "markdown",
   "id": "ca0a3195-ff8e-4d1d-9197-3367f9d15b98",
   "metadata": {},
   "source": [
    "repetition using * operator"
   ]
  },
  {
   "cell_type": "code",
   "execution_count": 28,
   "id": "8f52690f-deb5-43c9-925c-a365197c29fb",
   "metadata": {},
   "outputs": [
    {
     "name": "stdout",
     "output_type": "stream",
     "text": [
      "hahaha\n"
     ]
    }
   ],
   "source": [
    "repeat=\"ha\"*3\n",
    "print(repeat)"
   ]
  },
  {
   "cell_type": "markdown",
   "id": "2af8e61b-d2bd-44aa-b6cd-e352a7ed1cee",
   "metadata": {},
   "source": [
    "indexing - access specific characters using their position"
   ]
  },
  {
   "cell_type": "code",
   "execution_count": 36,
   "id": "7135ed57-a585-4d0f-a7c6-63e81dd75085",
   "metadata": {},
   "outputs": [
    {
     "name": "stdout",
     "output_type": "stream",
     "text": [
      "p\n",
      "p\n"
     ]
    }
   ],
   "source": [
    "name=\"python\"\n",
    "print(name[0])\n",
    "print(name[-6])# negative indexing"
   ]
  },
  {
   "cell_type": "markdown",
   "id": "52e7c9bf-bdf3-4ed7-b13a-027d43ed76cf",
   "metadata": {},
   "source": [
    "slicing - extract a portion of a string using slicing"
   ]
  },
  {
   "cell_type": "code",
   "execution_count": 44,
   "id": "3619040a-a12a-4b99-8c8c-7a64d8967adc",
   "metadata": {},
   "outputs": [
    {
     "name": "stdout",
     "output_type": "stream",
     "text": [
      "python\n",
      "python\n"
     ]
    }
   ],
   "source": [
    "name=\"python\"\n",
    "print(name[0:7])\n",
    "print(name[-6:])"
   ]
  },
  {
   "cell_type": "markdown",
   "id": "28261dc3-bc34-49ea-909d-2033d7158ac5",
   "metadata": {},
   "source": [
    "string methods - inbuilt methods for manipulating a string"
   ]
  },
  {
   "cell_type": "markdown",
   "id": "52a5ed05-63b1-4dd7-9be1-06abd809e1ee",
   "metadata": {},
   "source": [
    "1. changing case -upper(), lower(), capitalize(), title()"
   ]
  },
  {
   "cell_type": "code",
   "execution_count": 58,
   "id": "980512dd-872a-4613-b5d3-a54b72a92c6d",
   "metadata": {},
   "outputs": [
    {
     "name": "stdout",
     "output_type": "stream",
     "text": [
      "PYTHON PROGRAMMING\n",
      "python programming\n",
      "Python programming\n",
      "Python Programming\n"
     ]
    }
   ],
   "source": [
    "text=\"python programming\"\n",
    "print(text.upper())# convert all characters to uppercase\n",
    "print(text.lower())#converts all characters to lowercase\n",
    "print(text.capitalize())#converts the first character to uppercase\n",
    "print(text.title())#converts the first letter of each word"
   ]
  },
  {
   "cell_type": "markdown",
   "id": "18b2fb57-7fa9-4561-9f3f-c2bcee307602",
   "metadata": {},
   "source": [
    "2.Trimming whitespace"
   ]
  },
  {
   "cell_type": "code",
   "execution_count": 65,
   "id": "93fd2f99-c7e4-443c-8f71-a9ce5efefea9",
   "metadata": {},
   "outputs": [
    {
     "name": "stdout",
     "output_type": "stream",
     "text": [
      " python programming   \n",
      "python programming\n",
      "python programming   \n",
      " python programming\n"
     ]
    }
   ],
   "source": [
    "text=\" python programming  \"\n",
    "print(text)\n",
    "print(text.strip())# removes leading and trailing spaces\n",
    "print(text.lstrip())#removes leading spaces\n",
    "print(text.rstrip())#removes trailing spaces"
   ]
  },
  {
   "cell_type": "markdown",
   "id": "7818ab16-a9e1-466b-89bf-571eec75f32b",
   "metadata": {},
   "source": [
    "3. Finding and Replacing"
   ]
  },
  {
   "cell_type": "code",
   "execution_count": 80,
   "id": "08363747-6659-46e3-aad0-0fbff1d54c02",
   "metadata": {},
   "outputs": [
    {
     "name": "stdout",
     "output_type": "stream",
     "text": [
      "7\n",
      "language programming\n",
      "0\n",
      "python programming\n"
     ]
    }
   ],
   "source": [
    "text=\"python programming\"\n",
    "print(text.find(\"programming\"))\n",
    "print(text.replace(\"python\",\"language\"))\n",
    "print(text.find(\"python\"))\n",
    "print(text.replace(\"beginner\",\"language\"))"
   ]
  },
  {
   "cell_type": "markdown",
   "id": "f1e17c2f-e859-44e3-aaba-6573c8702cbd",
   "metadata": {},
   "source": [
    "4.Splitting and joining"
   ]
  },
  {
   "cell_type": "code",
   "execution_count": 107,
   "id": "24bbdf79-1ec6-4844-aede-fc2437486b4f",
   "metadata": {},
   "outputs": [
    {
     "name": "stdout",
     "output_type": "stream",
     "text": [
      "['apple,banana,grape']\n",
      "apple,banana,grape\n"
     ]
    }
   ],
   "source": [
    "text=\"apple,banana,grape\"\n",
    "fruits=text.split()# splits a string into a list based on a delimiter\n",
    "print(fruits)\n",
    "print(\" \".join(fruits))#joins elements of a list into a single string"
   ]
  },
  {
   "cell_type": "markdown",
   "id": "ee8b8d72-79e6-4a87-8c5a-6f8c8f9aa057",
   "metadata": {},
   "source": [
    "5. Checking Content"
   ]
  },
  {
   "cell_type": "code",
   "execution_count": 128,
   "id": "075df483-23a9-4af5-940c-2ebe01fd65c0",
   "metadata": {},
   "outputs": [
    {
     "name": "stdout",
     "output_type": "stream",
     "text": [
      "True\n",
      "True\n",
      "False\n",
      "False\n",
      "True\n"
     ]
    }
   ],
   "source": [
    "text=\"python123\"\n",
    "print(text.startswith(\"p\"))#checks if a string starts with a specific substring\n",
    "print(text.endswith(\"3\"))#checks if a string ends with a specific substring\n",
    "print(text.isdigit())#checks type of character in a digit\n",
    "print(text.isalpha())#checks type of character in an alphabet\n",
    "print(text.isalnum())#checks type of character in an alphabet and numbers\n"
   ]
  },
  {
   "cell_type": "code",
   "execution_count": 34,
   "id": "87dce15e-1cda-4f90-9ed1-a0d70a82230a",
   "metadata": {},
   "outputs": [
    {
     "name": "stdout",
     "output_type": "stream",
     "text": [
      "<class 'str'>\n",
      "True\n",
      "True\n",
      "False\n"
     ]
    }
   ],
   "source": [
    "num=\"hi\"\n",
    "print(type(num))\n",
    "print(num.isalnum())\n",
    "print(num.isalpha())\n",
    "print(num.isdigit())\n",
    "\n"
   ]
  },
  {
   "cell_type": "markdown",
   "id": "0e5e9ffd-bd3b-48b2-8ab7-de416d215870",
   "metadata": {},
   "source": [
    " Escape characters - to include special characters use backslashes \\"
   ]
  },
  {
   "cell_type": "code",
   "execution_count": 68,
   "id": "7dd9fbac-aada-4adc-a44e-c9f2867ea63f",
   "metadata": {},
   "outputs": [
    {
     "name": "stdout",
     "output_type": "stream",
     "text": [
      "he said,\"i know programmming\"\n",
      "my name is\n",
      " lenny\n",
      "This is\t book\n",
      "This is python\\beginner language\n"
     ]
    }
   ],
   "source": [
    "#\\' or \\\" add quotes inside a string\n",
    "#\\n - newline\n",
    "#\\t - tab\n",
    "#\\\\ - backslash\n",
    "text=\"he said,\\\"i know programmming\\\"\"# adding quotes\n",
    "print(text)\n",
    "text=\"my name is\\n lenny\"#new line\n",
    "print(text)\n",
    "text=\"This is\\t book\"#tab\n",
    "print(text)\n",
    "text=\"This is python\\\\beginner language\"#backslash\n",
    "print(text)"
   ]
  },
  {
   "cell_type": "markdown",
   "id": "1e0af249-de89-4f46-abe9-3ca52d20438f",
   "metadata": {},
   "source": [
    "String Formatting"
   ]
  },
  {
   "cell_type": "markdown",
   "id": "552c7a9b-0528-40b0-8af1-e16dcbb23368",
   "metadata": {},
   "source": [
    "1.old style(%)formatting"
   ]
  },
  {
   "cell_type": "code",
   "execution_count": 76,
   "id": "16452c87-88d6-4d47-b301-39f56303f895",
   "metadata": {},
   "outputs": [
    {
     "name": "stdout",
     "output_type": "stream",
     "text": [
      "My name is lenny and I am 21 years old.\n"
     ]
    }
   ],
   "source": [
    "name = \"lenny\"\n",
    "age = 21\n",
    "print(\"My name is %s and I am %d years old.\" % (name, age))\n"
   ]
  },
  {
   "cell_type": "markdown",
   "id": "8b5313c7-8b8b-40fd-bd8d-d2afe08ffecf",
   "metadata": {},
   "source": [
    "2. str.format() method - using placeholders and format()function"
   ]
  },
  {
   "cell_type": "code",
   "execution_count": 79,
   "id": "3dace677-a831-4b54-9ea3-a8f2feb7e515",
   "metadata": {},
   "outputs": [
    {
     "name": "stdout",
     "output_type": "stream",
     "text": [
      "My name is lenny and I am 21 years old.\n"
     ]
    }
   ],
   "source": [
    "print(\"My name is {} and I am {} years old.\".format(name, age))\n"
   ]
  },
  {
   "cell_type": "markdown",
   "id": "50dae25e-3c5d-4a14-8a87-49ff006f3493",
   "metadata": {},
   "source": [
    "3.f-string(python 3.6+)"
   ]
  },
  {
   "cell_type": "code",
   "execution_count": 83,
   "id": "1594db47-d9f2-4f55-b18c-907207382fe3",
   "metadata": {},
   "outputs": [
    {
     "name": "stdout",
     "output_type": "stream",
     "text": [
      "My name is lenny and I am 21 years old.\n"
     ]
    }
   ],
   "source": [
    "print(f\"My name is {name} and I am {age} years old.\")\n"
   ]
  },
  {
   "cell_type": "markdown",
   "id": "9b462ef8-3a5a-4a95-8368-0c9a819a6955",
   "metadata": {},
   "source": [
    "Strings are immutable - once created can't be changed"
   ]
  },
  {
   "cell_type": "code",
   "execution_count": 86,
   "id": "635e1f85-2a17-4789-b512-72bf2fa8d133",
   "metadata": {},
   "outputs": [
    {
     "ename": "TypeError",
     "evalue": "'str' object does not support item assignment",
     "output_type": "error",
     "traceback": [
      "\u001b[1;31m---------------------------------------------------------------------------\u001b[0m",
      "\u001b[1;31mTypeError\u001b[0m                                 Traceback (most recent call last)",
      "Cell \u001b[1;32mIn[86], line 2\u001b[0m\n\u001b[0;32m      1\u001b[0m text\u001b[38;5;241m=\u001b[39m\u001b[38;5;124m\"\u001b[39m\u001b[38;5;124mpython\u001b[39m\u001b[38;5;124m\"\u001b[39m\n\u001b[1;32m----> 2\u001b[0m text[\u001b[38;5;241m0\u001b[39m]\u001b[38;5;241m=\u001b[39m\u001b[38;5;124m\"\u001b[39m\u001b[38;5;124ms\u001b[39m\u001b[38;5;124m\"\u001b[39m\n\u001b[0;32m      3\u001b[0m \u001b[38;5;28mprint\u001b[39m(text)\n",
      "\u001b[1;31mTypeError\u001b[0m: 'str' object does not support item assignment"
     ]
    }
   ],
   "source": [
    "text=\"python\"\n",
    "text[0]=\"s\"\n",
    "print(text)"
   ]
  },
  {
   "cell_type": "markdown",
   "id": "4fbd1989-70d6-4938-9890-e72bc52ff765",
   "metadata": {},
   "source": [
    "Reversing a string"
   ]
  },
  {
   "cell_type": "code",
   "execution_count": 89,
   "id": "94ce081c-ff58-4a5d-a0e6-5cea7d920d65",
   "metadata": {},
   "outputs": [
    {
     "name": "stdout",
     "output_type": "stream",
     "text": [
      "nohtyp\n"
     ]
    }
   ],
   "source": [
    "c \n",
    "print(text[::-1])"
   ]
  },
  {
   "cell_type": "markdown",
   "id": "6ac3f01e-2349-4e9c-98f0-0fdb818aad03",
   "metadata": {},
   "source": [
    "Palindrome check"
   ]
  },
  {
   "cell_type": "code",
   "execution_count": 98,
   "id": "96c44867-6b29-4968-a5f2-6c185b31be87",
   "metadata": {},
   "outputs": [
    {
     "ename": "SyntaxError",
     "evalue": "expression cannot contain assignment, perhaps you meant \"==\"? (1360265048.py, line 2)",
     "output_type": "error",
     "traceback": [
      "\u001b[1;36m  Cell \u001b[1;32mIn[98], line 2\u001b[1;36m\u001b[0m\n\u001b[1;33m    print(text.is_palindrome=text==text[::-1])\u001b[0m\n\u001b[1;37m          ^\u001b[0m\n\u001b[1;31mSyntaxError\u001b[0m\u001b[1;31m:\u001b[0m expression cannot contain assignment, perhaps you meant \"==\"?\n"
     ]
    }
   ],
   "source": [
    "text=\"mum\"\n",
    "print(text.is_palindrome=text==text[::-1])\n"
   ]
  },
  {
   "cell_type": "code",
   "execution_count": null,
   "id": "8f4f6eb8-bad1-439f-947f-6ae32d038071",
   "metadata": {},
   "outputs": [],
   "source": []
  }
 ],
 "metadata": {
  "kernelspec": {
   "display_name": "Python 3 (ipykernel)",
   "language": "python",
   "name": "python3"
  },
  "language_info": {
   "codemirror_mode": {
    "name": "ipython",
    "version": 3
   },
   "file_extension": ".py",
   "mimetype": "text/x-python",
   "name": "python",
   "nbconvert_exporter": "python",
   "pygments_lexer": "ipython3",
   "version": "3.12.4"
  }
 },
 "nbformat": 4,
 "nbformat_minor": 5
}
