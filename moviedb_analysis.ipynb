{
 "cells": [
  {
   "cell_type": "code",
   "execution_count": 1,
   "id": "61387417-cd5f-4062-aa14-685c49de723a",
   "metadata": {},
   "outputs": [],
   "source": [
    "import pandas as pd\n",
    "import numpy as np\n",
    "import matplotlib.pyplot as plt\n",
    "import seaborn as sns\n"
   ]
  },
  {
   "cell_type": "code",
   "execution_count": 3,
   "id": "faf82375-48d3-4955-bfba-4921e26e4613",
   "metadata": {},
   "outputs": [
    {
     "data": {
      "text/html": [
       "<div>\n",
       "<style scoped>\n",
       "    .dataframe tbody tr th:only-of-type {\n",
       "        vertical-align: middle;\n",
       "    }\n",
       "\n",
       "    .dataframe tbody tr th {\n",
       "        vertical-align: top;\n",
       "    }\n",
       "\n",
       "    .dataframe thead th {\n",
       "        text-align: right;\n",
       "    }\n",
       "</style>\n",
       "<table border=\"1\" class=\"dataframe\">\n",
       "  <thead>\n",
       "    <tr style=\"text-align: right;\">\n",
       "      <th></th>\n",
       "      <th>movie_id</th>\n",
       "      <th>title</th>\n",
       "      <th>industry</th>\n",
       "      <th>release_year</th>\n",
       "      <th>imdb_rating</th>\n",
       "      <th>studio</th>\n",
       "      <th>language_id</th>\n",
       "    </tr>\n",
       "  </thead>\n",
       "  <tbody>\n",
       "    <tr>\n",
       "      <th>0</th>\n",
       "      <td>101</td>\n",
       "      <td>K.G.F: Chapter 2</td>\n",
       "      <td>Bollywood</td>\n",
       "      <td>2022</td>\n",
       "      <td>8.4</td>\n",
       "      <td>Hombale Films</td>\n",
       "      <td>3</td>\n",
       "    </tr>\n",
       "    <tr>\n",
       "      <th>1</th>\n",
       "      <td>102</td>\n",
       "      <td>Doctor Strange in the Multiverse of Madness</td>\n",
       "      <td>Hollywood</td>\n",
       "      <td>2022</td>\n",
       "      <td>7.0</td>\n",
       "      <td>Marvel Studios</td>\n",
       "      <td>5</td>\n",
       "    </tr>\n",
       "    <tr>\n",
       "      <th>2</th>\n",
       "      <td>103</td>\n",
       "      <td>Thor: The Dark World</td>\n",
       "      <td>Hollywood</td>\n",
       "      <td>2013</td>\n",
       "      <td>6.8</td>\n",
       "      <td>Marvel Studios</td>\n",
       "      <td>5</td>\n",
       "    </tr>\n",
       "    <tr>\n",
       "      <th>3</th>\n",
       "      <td>104</td>\n",
       "      <td>Thor: Ragnarok</td>\n",
       "      <td>Hollywood</td>\n",
       "      <td>2017</td>\n",
       "      <td>7.9</td>\n",
       "      <td>Marvel Studios</td>\n",
       "      <td>5</td>\n",
       "    </tr>\n",
       "    <tr>\n",
       "      <th>4</th>\n",
       "      <td>105</td>\n",
       "      <td>Thor: Love and Thunder</td>\n",
       "      <td>Hollywood</td>\n",
       "      <td>2022</td>\n",
       "      <td>6.8</td>\n",
       "      <td>Marvel Studios</td>\n",
       "      <td>5</td>\n",
       "    </tr>\n",
       "  </tbody>\n",
       "</table>\n",
       "</div>"
      ],
      "text/plain": [
       "   movie_id                                        title   industry  \\\n",
       "0       101                             K.G.F: Chapter 2  Bollywood   \n",
       "1       102  Doctor Strange in the Multiverse of Madness  Hollywood   \n",
       "2       103                        Thor: The Dark World   Hollywood   \n",
       "3       104                              Thor: Ragnarok   Hollywood   \n",
       "4       105                      Thor: Love and Thunder   Hollywood   \n",
       "\n",
       "   release_year  imdb_rating          studio  language_id  \n",
       "0          2022          8.4   Hombale Films            3  \n",
       "1          2022          7.0  Marvel Studios            5  \n",
       "2          2013          6.8  Marvel Studios            5  \n",
       "3          2017          7.9  Marvel Studios            5  \n",
       "4          2022          6.8  Marvel Studios            5  "
      ]
     },
     "execution_count": 3,
     "metadata": {},
     "output_type": "execute_result"
    }
   ],
   "source": [
    "df=pd.read_csv(\"moviesdb.csv\")\n",
    "df.head()"
   ]
  },
  {
   "cell_type": "code",
   "execution_count": 5,
   "id": "847c9c57-5873-4e5a-95c6-07256fbf3da0",
   "metadata": {},
   "outputs": [
    {
     "data": {
      "text/plain": [
       "(39, 7)"
      ]
     },
     "execution_count": 5,
     "metadata": {},
     "output_type": "execute_result"
    }
   ],
   "source": [
    "df.shape"
   ]
  },
  {
   "cell_type": "code",
   "execution_count": 7,
   "id": "dde40559-9579-4479-b933-c2e14774aa20",
   "metadata": {},
   "outputs": [
    {
     "name": "stdout",
     "output_type": "stream",
     "text": [
      "<class 'pandas.core.frame.DataFrame'>\n",
      "RangeIndex: 39 entries, 0 to 38\n",
      "Data columns (total 7 columns):\n",
      " #   Column        Non-Null Count  Dtype  \n",
      "---  ------        --------------  -----  \n",
      " 0   movie_id      39 non-null     int64  \n",
      " 1   title         39 non-null     object \n",
      " 2   industry      39 non-null     object \n",
      " 3   release_year  39 non-null     int64  \n",
      " 4   imdb_rating   38 non-null     float64\n",
      " 5   studio        36 non-null     object \n",
      " 6   language_id   39 non-null     int64  \n",
      "dtypes: float64(1), int64(3), object(3)\n",
      "memory usage: 2.3+ KB\n"
     ]
    }
   ],
   "source": [
    "df.info()"
   ]
  },
  {
   "cell_type": "code",
   "execution_count": 9,
   "id": "b1297b46-ee56-47e7-8c4f-b845e763dfc4",
   "metadata": {},
   "outputs": [
    {
     "name": "stdout",
     "output_type": "stream",
     "text": [
      "<class 'pandas.core.frame.DataFrame'>\n",
      "Index: 35 entries, 0 to 38\n",
      "Data columns (total 7 columns):\n",
      " #   Column        Non-Null Count  Dtype  \n",
      "---  ------        --------------  -----  \n",
      " 0   movie_id      35 non-null     int64  \n",
      " 1   title         35 non-null     object \n",
      " 2   industry      35 non-null     object \n",
      " 3   release_year  35 non-null     int64  \n",
      " 4   imdb_rating   35 non-null     float64\n",
      " 5   studio        35 non-null     object \n",
      " 6   language_id   35 non-null     int64  \n",
      "dtypes: float64(1), int64(3), object(3)\n",
      "memory usage: 2.2+ KB\n"
     ]
    }
   ],
   "source": [
    "df.dropna(inplace=True)\n",
    "df.info()"
   ]
  },
  {
   "cell_type": "code",
   "execution_count": 11,
   "id": "10ca70bd-f20a-4364-92c9-54e17038ecae",
   "metadata": {},
   "outputs": [
    {
     "data": {
      "text/html": [
       "<div>\n",
       "<style scoped>\n",
       "    .dataframe tbody tr th:only-of-type {\n",
       "        vertical-align: middle;\n",
       "    }\n",
       "\n",
       "    .dataframe tbody tr th {\n",
       "        vertical-align: top;\n",
       "    }\n",
       "\n",
       "    .dataframe thead th {\n",
       "        text-align: right;\n",
       "    }\n",
       "</style>\n",
       "<table border=\"1\" class=\"dataframe\">\n",
       "  <thead>\n",
       "    <tr style=\"text-align: right;\">\n",
       "      <th></th>\n",
       "      <th>movie_id</th>\n",
       "      <th>release_year</th>\n",
       "      <th>imdb_rating</th>\n",
       "      <th>language_id</th>\n",
       "    </tr>\n",
       "  </thead>\n",
       "  <tbody>\n",
       "    <tr>\n",
       "      <th>count</th>\n",
       "      <td>35.000000</td>\n",
       "      <td>35.000000</td>\n",
       "      <td>35.000000</td>\n",
       "      <td>35.00000</td>\n",
       "    </tr>\n",
       "    <tr>\n",
       "      <th>mean</th>\n",
       "      <td>120.371429</td>\n",
       "      <td>2005.314286</td>\n",
       "      <td>7.942857</td>\n",
       "      <td>3.60000</td>\n",
       "    </tr>\n",
       "    <tr>\n",
       "      <th>std</th>\n",
       "      <td>12.124564</td>\n",
       "      <td>18.652821</td>\n",
       "      <td>1.220001</td>\n",
       "      <td>1.92812</td>\n",
       "    </tr>\n",
       "    <tr>\n",
       "      <th>min</th>\n",
       "      <td>101.000000</td>\n",
       "      <td>1946.000000</td>\n",
       "      <td>1.900000</td>\n",
       "      <td>1.00000</td>\n",
       "    </tr>\n",
       "    <tr>\n",
       "      <th>25%</th>\n",
       "      <td>110.000000</td>\n",
       "      <td>1998.500000</td>\n",
       "      <td>7.850000</td>\n",
       "      <td>1.00000</td>\n",
       "    </tr>\n",
       "    <tr>\n",
       "      <th>50%</th>\n",
       "      <td>120.000000</td>\n",
       "      <td>2011.000000</td>\n",
       "      <td>8.100000</td>\n",
       "      <td>5.00000</td>\n",
       "    </tr>\n",
       "    <tr>\n",
       "      <th>75%</th>\n",
       "      <td>131.000000</td>\n",
       "      <td>2018.000000</td>\n",
       "      <td>8.400000</td>\n",
       "      <td>5.00000</td>\n",
       "    </tr>\n",
       "    <tr>\n",
       "      <th>max</th>\n",
       "      <td>140.000000</td>\n",
       "      <td>2022.000000</td>\n",
       "      <td>9.300000</td>\n",
       "      <td>7.00000</td>\n",
       "    </tr>\n",
       "  </tbody>\n",
       "</table>\n",
       "</div>"
      ],
      "text/plain": [
       "         movie_id  release_year  imdb_rating  language_id\n",
       "count   35.000000     35.000000    35.000000     35.00000\n",
       "mean   120.371429   2005.314286     7.942857      3.60000\n",
       "std     12.124564     18.652821     1.220001      1.92812\n",
       "min    101.000000   1946.000000     1.900000      1.00000\n",
       "25%    110.000000   1998.500000     7.850000      1.00000\n",
       "50%    120.000000   2011.000000     8.100000      5.00000\n",
       "75%    131.000000   2018.000000     8.400000      5.00000\n",
       "max    140.000000   2022.000000     9.300000      7.00000"
      ]
     },
     "execution_count": 11,
     "metadata": {},
     "output_type": "execute_result"
    }
   ],
   "source": [
    "df.describe()"
   ]
  },
  {
   "cell_type": "code",
   "execution_count": 13,
   "id": "9b98160d-4b08-4435-879f-2d6654e55e7b",
   "metadata": {},
   "outputs": [
    {
     "data": {
      "text/html": [
       "<div>\n",
       "<style scoped>\n",
       "    .dataframe tbody tr th:only-of-type {\n",
       "        vertical-align: middle;\n",
       "    }\n",
       "\n",
       "    .dataframe tbody tr th {\n",
       "        vertical-align: top;\n",
       "    }\n",
       "\n",
       "    .dataframe thead th {\n",
       "        text-align: right;\n",
       "    }\n",
       "</style>\n",
       "<table border=\"1\" class=\"dataframe\">\n",
       "  <thead>\n",
       "    <tr style=\"text-align: right;\">\n",
       "      <th></th>\n",
       "      <th>release_year</th>\n",
       "      <th>imdb_rating</th>\n",
       "    </tr>\n",
       "  </thead>\n",
       "  <tbody>\n",
       "    <tr>\n",
       "      <th>0</th>\n",
       "      <td>2022</td>\n",
       "      <td>8.4</td>\n",
       "    </tr>\n",
       "    <tr>\n",
       "      <th>1</th>\n",
       "      <td>2022</td>\n",
       "      <td>7.0</td>\n",
       "    </tr>\n",
       "    <tr>\n",
       "      <th>2</th>\n",
       "      <td>2013</td>\n",
       "      <td>6.8</td>\n",
       "    </tr>\n",
       "    <tr>\n",
       "      <th>3</th>\n",
       "      <td>2017</td>\n",
       "      <td>7.9</td>\n",
       "    </tr>\n",
       "    <tr>\n",
       "      <th>4</th>\n",
       "      <td>2022</td>\n",
       "      <td>6.8</td>\n",
       "    </tr>\n",
       "  </tbody>\n",
       "</table>\n",
       "</div>"
      ],
      "text/plain": [
       "   release_year  imdb_rating\n",
       "0          2022          8.4\n",
       "1          2022          7.0\n",
       "2          2013          6.8\n",
       "3          2017          7.9\n",
       "4          2022          6.8"
      ]
     },
     "execution_count": 13,
     "metadata": {},
     "output_type": "execute_result"
    }
   ],
   "source": [
    "df[[\"release_year\",\"imdb_rating\"]].head()\n"
   ]
  },
  {
   "cell_type": "code",
   "execution_count": 15,
   "id": "f76eb9a3-165e-42ef-86b4-e37118ea8719",
   "metadata": {},
   "outputs": [
    {
     "data": {
      "text/html": [
       "<div>\n",
       "<style scoped>\n",
       "    .dataframe tbody tr th:only-of-type {\n",
       "        vertical-align: middle;\n",
       "    }\n",
       "\n",
       "    .dataframe tbody tr th {\n",
       "        vertical-align: top;\n",
       "    }\n",
       "\n",
       "    .dataframe thead th {\n",
       "        text-align: right;\n",
       "    }\n",
       "</style>\n",
       "<table border=\"1\" class=\"dataframe\">\n",
       "  <thead>\n",
       "    <tr style=\"text-align: right;\">\n",
       "      <th></th>\n",
       "      <th>release_year</th>\n",
       "      <th>imdb_rating</th>\n",
       "    </tr>\n",
       "  </thead>\n",
       "  <tbody>\n",
       "    <tr>\n",
       "      <th>34</th>\n",
       "      <td>2015</td>\n",
       "      <td>8.1</td>\n",
       "    </tr>\n",
       "    <tr>\n",
       "      <th>35</th>\n",
       "      <td>2011</td>\n",
       "      <td>6.9</td>\n",
       "    </tr>\n",
       "    <tr>\n",
       "      <th>36</th>\n",
       "      <td>2014</td>\n",
       "      <td>7.8</td>\n",
       "    </tr>\n",
       "    <tr>\n",
       "      <th>37</th>\n",
       "      <td>2018</td>\n",
       "      <td>1.9</td>\n",
       "    </tr>\n",
       "    <tr>\n",
       "      <th>38</th>\n",
       "      <td>2021</td>\n",
       "      <td>8.4</td>\n",
       "    </tr>\n",
       "  </tbody>\n",
       "</table>\n",
       "</div>"
      ],
      "text/plain": [
       "    release_year  imdb_rating\n",
       "34          2015          8.1\n",
       "35          2011          6.9\n",
       "36          2014          7.8\n",
       "37          2018          1.9\n",
       "38          2021          8.4"
      ]
     },
     "execution_count": 15,
     "metadata": {},
     "output_type": "execute_result"
    }
   ],
   "source": [
    "df[[\"release_year\",\"imdb_rating\"]].tail()"
   ]
  },
  {
   "cell_type": "code",
   "execution_count": 17,
   "id": "354362dc-5950-4bdf-9917-f86f2c95b733",
   "metadata": {},
   "outputs": [
    {
     "name": "stdout",
     "output_type": "stream",
     "text": [
      "<class 'pandas.core.frame.DataFrame'>\n",
      "Index: 35 entries, 0 to 38\n",
      "Data columns (total 2 columns):\n",
      " #   Column        Non-Null Count  Dtype  \n",
      "---  ------        --------------  -----  \n",
      " 0   release_year  35 non-null     int64  \n",
      " 1   imdb_rating   35 non-null     float64\n",
      "dtypes: float64(1), int64(1)\n",
      "memory usage: 840.0 bytes\n"
     ]
    }
   ],
   "source": [
    "df[[\"release_year\",\"imdb_rating\"]].info()"
   ]
  },
  {
   "cell_type": "code",
   "execution_count": 19,
   "id": "1b78b435-1dc1-4691-bba7-7d59c032c9c8",
   "metadata": {},
   "outputs": [
    {
     "data": {
      "text/plain": [
       "release_year    24\n",
       "imdb_rating     19\n",
       "dtype: int64"
      ]
     },
     "execution_count": 19,
     "metadata": {},
     "output_type": "execute_result"
    }
   ],
   "source": [
    "df[[\"release_year\",\"imdb_rating\"]].nunique()"
   ]
  },
  {
   "cell_type": "markdown",
   "id": "193745a2-cc18-4573-aa69-a859bb4b6194",
   "metadata": {},
   "source": [
    "****"
   ]
  },
  {
   "cell_type": "markdown",
   "id": "f7dc8a58-48d0-4e29-8223-ebbc602cefea",
   "metadata": {},
   "source": [
    "**RELEASE YEAR**"
   ]
  },
  {
   "cell_type": "code",
   "execution_count": 21,
   "id": "f3c95cbf-4e1d-46e0-979f-482ddeb2b953",
   "metadata": {},
   "outputs": [
    {
     "data": {
      "text/plain": [
       "release_year\n",
       "2022    5\n",
       "2014    3\n",
       "2015    2\n",
       "2021    2\n",
       "2009    2\n",
       "2018    2\n",
       "1993    2\n",
       "1946    1\n",
       "2003    1\n",
       "1955    1\n",
       "2019    1\n",
       "2008    1\n",
       "1972    1\n",
       "1997    1\n",
       "2013    1\n",
       "2000    1\n",
       "2006    1\n",
       "2010    1\n",
       "1994    1\n",
       "2001    1\n",
       "1995    1\n",
       "1975    1\n",
       "2017    1\n",
       "2011    1\n",
       "Name: count, dtype: int64"
      ]
     },
     "execution_count": 21,
     "metadata": {},
     "output_type": "execute_result"
    }
   ],
   "source": [
    "df[\"release_year\"].value_counts()"
   ]
  },
  {
   "cell_type": "code",
   "execution_count": 23,
   "id": "7ec8f864-8f77-4b9b-8150-fa198d6964c0",
   "metadata": {},
   "outputs": [
    {
     "data": {
      "text/plain": [
       "array([2022, 2013, 2017, 1975, 1995, 2009, 2001, 1994, 2010, 2014, 2006,\n",
       "       2000, 1997, 1946, 1972, 2008, 1993, 2019, 2018, 1955, 2003, 2021,\n",
       "       2015, 2011], dtype=int64)"
      ]
     },
     "execution_count": 23,
     "metadata": {},
     "output_type": "execute_result"
    }
   ],
   "source": [
    "df[\"release_year\"].unique()"
   ]
  },
  {
   "cell_type": "code",
   "execution_count": 42,
   "id": "1a3c802a-4c33-47e6-8670-1aa0f7ea93fa",
   "metadata": {},
   "outputs": [
    {
     "data": {
      "image/png": "[encoded data removed]",
      "text/plain": [
       "<Figure size 640x480 with 1 Axes>"
      ]
     },
     "metadata": {},
     "output_type": "display_data"
    }
   ],
   "source": [
    "plt.hist(df[\"release_year\"])\n",
    "plt.xlabel(\"release year\")\n",
    "plt.ylabel(\"frequency\")\n",
    "plt.title(\"Distribution for release years\");"
   ]
  },
  {
   "cell_type": "code",
   "execution_count": 48,
   "id": "25b85e84-cdf6-4894-9811-77fad51f4f3a",
   "metadata": {},
   "outputs": [
    {
     "data": {
      "image/png": "[encoded data removed]",
      "text/plain": [
       "<Figure size 640x480 with 1 Axes>"
      ]
     },
     "metadata": {},
     "output_type": "display_data"
    }
   ],
   "source": [
    "plt.boxplot(df[\"release_year\"],vert=False)\n",
    "plt.xlabel(\"release year\")\n",
    "\n",
    "plt.title(\"Distribution for release years\");"
   ]
  },
  {
   "cell_type": "markdown",
   "id": "366da332-86e0-4568-819d-280e815a1f00",
   "metadata": {},
   "source": [
    "**IMDB_RATING**"
   ]
  },
  {
   "cell_type": "code",
   "execution_count": 25,
   "id": "7d64354c-2ad0-4136-9c49-3deedb471f2f",
   "metadata": {},
   "outputs": [
    {
     "data": {
      "text/plain": [
       "imdb_rating\n",
       "8.4    5\n",
       "8.1    4\n",
       "8.0    4\n",
       "7.8    2\n",
       "8.3    2\n",
       "9.0    2\n",
       "8.6    2\n",
       "7.9    2\n",
       "6.8    2\n",
       "9.3    1\n",
       "8.8    1\n",
       "7.0    1\n",
       "8.5    1\n",
       "7.4    1\n",
       "9.2    1\n",
       "8.2    1\n",
       "7.6    1\n",
       "6.9    1\n",
       "1.9    1\n",
       "Name: count, dtype: int64"
      ]
     },
     "execution_count": 25,
     "metadata": {},
     "output_type": "execute_result"
    }
   ],
   "source": [
    "df[\"imdb_rating\"].value_counts()"
   ]
  },
  {
   "cell_type": "code",
   "execution_count": 27,
   "id": "cf3ac3b2-3fc0-4f71-9991-2ef4cd71ab71",
   "metadata": {},
   "outputs": [
    {
     "data": {
      "text/plain": [
       "array([8.4, 7. , 6.8, 7.9, 8.1, 8. , 7.4, 9.3, 8.8, 8.6, 8.5, 7.8, 9.2,\n",
       "       9. , 8.2, 8.3, 7.6, 6.9, 1.9])"
      ]
     },
     "execution_count": 27,
     "metadata": {},
     "output_type": "execute_result"
    }
   ],
   "source": [
    "df[\"imdb_rating\"].unique()"
   ]
  },
  {
   "cell_type": "code",
   "execution_count": 54,
   "id": "5ca1d974-dbbb-41eb-8511-f2525d1fd8ae",
   "metadata": {},
   "outputs": [
    {
     "data": {
      "image/png": "[encoded data removed]",
      "text/plain": [
       "<Figure size 640x480 with 1 Axes>"
      ]
     },
     "metadata": {},
     "output_type": "display_data"
    }
   ],
   "source": [
    "plt.hist(df[\"imdb_rating\"])\n",
    "plt.xlabel(\"imdb_rating\")\n",
    "plt.ylabel(\"frequency\")\n",
    "plt.title(\"Distribution for imdb_rating\");"
   ]
  },
  {
   "cell_type": "code",
   "execution_count": 58,
   "id": "034e9bb0-3767-4cae-bbf9-84d46f8d2114",
   "metadata": {},
   "outputs": [
    {
     "data": {
      "image/png": "[encoded data removed]",
      "text/plain": [
       "<Figure size 640x480 with 1 Axes>"
      ]
     },
     "metadata": {},
     "output_type": "display_data"
    }
   ],
   "source": [
    "plt.boxplot(df[\"imdb_rating\"],vert=False)\n",
    "plt.xlabel(\"imdb_rating\")\n",
    "\n",
    "plt.title(\"Distribution for imdb_rating\");"
   ]
  },
  {
   "cell_type": "markdown",
   "id": "262ad9bf-2d79-44e6-b9d0-e677d07943be",
   "metadata": {},
   "source": [
    "**SCATTERPLOT TO COMPARE IMDB_RATING AND RELEASE YEAR**"
   ]
  },
  {
   "cell_type": "code",
   "execution_count": 64,
   "id": "8c272015-ba5a-4d30-9ab2-4acd7274ec77",
   "metadata": {},
   "outputs": [
    {
     "data": {
      "text/plain": [
       "<Axes: xlabel='imdb_rating', ylabel='release_year'>"
      ]
     },
     "execution_count": 64,
     "metadata": {},
     "output_type": "execute_result"
    },
    {
     "data": {
      "image/png": "[encoded data removed]",
      "text/plain": [
       "<Figure size 640x480 with 1 Axes>"
      ]
     },
     "metadata": {},
     "output_type": "display_data"
    }
   ],
   "source": [
    "sns.scatterplot(data=df,y=\"release_year\",x=\"imdb_rating\")"
   ]
  },
  {
   "cell_type": "code",
   "execution_count": null,
   "id": "161170bc-1644-4f7c-9ce5-40150e4a4907",
   "metadata": {},
   "outputs": [],
   "source": []
  }
 ],
 "metadata": {
  "kernelspec": {
   "display_name": "Python 3 (ipykernel)",
   "language": "python",
   "name": "python3"
  },
  "language_info": {
   "codemirror_mode": {
    "name": "ipython",
    "version": 3
   },
   "file_extension": ".py",
   "mimetype": "text/x-python",
   "name": "python",
   "nbconvert_exporter": "python",
   "pygments_lexer": "ipython3",
   "version": "3.12.4"
  }
 },
 "nbformat": 4,
 "nbformat_minor": 5
}
