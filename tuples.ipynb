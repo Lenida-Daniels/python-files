{
 "cells": [
  {
   "cell_type": "markdown",
   "id": "04e57341-def1-4978-a1d2-4ac6aa74b287",
   "metadata": {},
   "source": [
    "tuple-immutable, ordered collection of elements in python. Similar to a list but cannot be modified(elements can't be added, removed or changed after creation). They are useful when you need to store a sequence of values that should remain constant throughout the program."
   ]
  },
  {
   "cell_type": "markdown",
   "id": "7ba616ee-d6cd-4e6d-a41c-881bf5b3476e",
   "metadata": {},
   "source": [
    "1. Creating a tuple, created using parenteses() or the tuple()constructor"
   ]
  },
  {
   "cell_type": "code",
   "execution_count": 25,
   "id": "4ee16c6b-b0a3-400c-82ec-d27e0bcdfed7",
   "metadata": {},
   "outputs": [
    {
     "name": "stdout",
     "output_type": "stream",
     "text": [
      "t1: (1, 2, 3, 4)\n",
      "t2: (1, 2, 3, 4)\n",
      "t3: ()\n",
      "t4: (5,)\n",
      "t5: (5,)\n",
      "<class 'int'>\n",
      "<class 'tuple'>\n",
      "t6: (1, 2, 3)\n",
      "t7: ('h', 'e', 'l', 'l', 'o')\n"
     ]
    }
   ],
   "source": [
    "#creating a tuple with parentheses\n",
    "t1=(1,2,3,4)\n",
    "print(\"t1:\",t1)\n",
    "\n",
    "#without parenteses(optional)\n",
    "t2=1,2,3,4\n",
    "print(\"t2:\",t2)\n",
    "\n",
    "#creating an empty tuple\n",
    "t3=()\n",
    "print(\"t3:\",t3)\n",
    "\n",
    "#creating a tuple with one element (must include a comma)\n",
    "#in python parentheses are used for grouping expressions but with a comma it's a tuple\n",
    "#so a comma is the real tuple indicator in python\n",
    "t4=(5,)\n",
    "t5=5,\n",
    "t=(5)\n",
    "print(\"t4:\",t4)\n",
    "print(\"t5:\",t5)\n",
    "print(type(t))\n",
    "print(type(t4))\n",
    "\n",
    "#using the tuple() constructor\n",
    "t6=tuple([1,2,3])#converting a list to a tuple\n",
    "t7=tuple(\"hello\")#converting a string into a tuple of characters\n",
    "print(\"t6:\",t6)\n",
    "print(\"t7:\",t7)"
   ]
  },
  {
   "cell_type": "markdown",
   "id": "9348cbf2-c4ee-450c-a18b-7d369e3c1b87",
   "metadata": {},
   "source": [
    "2.Accessing tuple elements - Tuples support indexing and slicing"
   ]
  },
  {
   "cell_type": "code",
   "execution_count": 29,
   "id": "0229e3c3-0717-4171-b39d-6234e366fe95",
   "metadata": {},
   "outputs": [
    {
     "name": "stdout",
     "output_type": "stream",
     "text": [
      "10\n",
      "50\n",
      "(20, 30, 40)\n",
      "(10, 20, 30)\n",
      "(10, 30, 50)\n"
     ]
    }
   ],
   "source": [
    "t = (10, 20, 30, 40, 50)\n",
    "\n",
    "# Accessing elements using indexing\n",
    "print(t[0])   # Output: 10\n",
    "print(t[-1])  # Output: 50 (last element)\n",
    "\n",
    "# Slicing a tuple\n",
    "print(t[1:4])  # Output: (20, 30, 40)\n",
    "print(t[:3])   # Output: (10, 20, 30)\n",
    "print(t[::2])  # Output: (10, 30, 50) (every second element)\n"
   ]
  },
  {
   "cell_type": "markdown",
   "id": "b8339390-0a59-48ba-bcbc-9c22996f44b6",
   "metadata": {},
   "source": [
    "3. Tuple operations - although the are immutable, you can still perform various operations"
   ]
  },
  {
   "cell_type": "markdown",
   "id": "048cfd05-fe64-41d1-974c-b8c299342702",
   "metadata": {},
   "source": [
    "a)concatenation and repetition"
   ]
  },
  {
   "cell_type": "code",
   "execution_count": 33,
   "id": "900a13bb-7e45-4890-97ce-4a572e21ac92",
   "metadata": {},
   "outputs": [
    {
     "name": "stdout",
     "output_type": "stream",
     "text": [
      "(1, 2, 3, 4, 5, 6)\n",
      "(1, 2, 3, 1, 2, 3, 1, 2, 3)\n"
     ]
    }
   ],
   "source": [
    "t1 = (1, 2, 3)\n",
    "t2 = (4, 5, 6)\n",
    "\n",
    "# Concatenation\n",
    "t3 = t1 + t2  \n",
    "print(t3)  # Output: (1, 2, 3, 4, 5, 6)\n",
    "\n",
    "# Repetition\n",
    "t4 = t1 * 3  \n",
    "print(t4)  # Output: (1, 2, 3, 1, 2, 3, 1, 2, 3)\n"
   ]
  },
  {
   "cell_type": "markdown",
   "id": "1f860190-130a-41b2-b8e2-e3229f4c9fe8",
   "metadata": {},
   "source": [
    "b)membership testing"
   ]
  },
  {
   "cell_type": "code",
   "execution_count": 40,
   "id": "849e989e-ea9f-442c-85c1-688512d59e4f",
   "metadata": {},
   "outputs": [
    {
     "name": "stdout",
     "output_type": "stream",
     "text": [
      "True\n",
      "True\n",
      "False\n",
      "True\n"
     ]
    }
   ],
   "source": [
    "t = (1, 2, 3, 4, 5)\n",
    "\n",
    "print(3 in t)   # Output: True\n",
    "print(6 not in t)  # Output: True\n",
    "print(6 in t)\n",
    "print(2 in t)\n"
   ]
  },
  {
   "cell_type": "markdown",
   "id": "73987880-0415-4372-b652-a6458a2f9ed9",
   "metadata": {},
   "source": [
    "4. Tuple methods - they have limited built-in methods since they are immutable"
   ]
  },
  {
   "cell_type": "code",
   "execution_count": 56,
   "id": "06b0b0e6-c8ae-4733-b232-a73bd3bb2dbc",
   "metadata": {},
   "outputs": [
    {
     "name": "stdout",
     "output_type": "stream",
     "text": [
      "1\n",
      "2\n",
      "2\n",
      "3\n"
     ]
    }
   ],
   "source": [
    "#count(x)- number of times x appears in the tuple\n",
    "#index(x)-returns index of the first occurence of x\n",
    "t=(1,2,3,5,3,4,5)\n",
    "print(t.count(2))\n",
    "print(t.count(3))\n",
    "print(t.index(3))\n",
    "print(t.index(5))\n"
   ]
  },
  {
   "cell_type": "markdown",
   "id": "53cae3c1-5e90-4891-ae2c-b39c95065efd",
   "metadata": {},
   "source": [
    "5.Tuple packing and unpacking"
   ]
  },
  {
   "cell_type": "markdown",
   "id": "fe90d841-ef5c-4df7-9a98-40e890df6103",
   "metadata": {},
   "source": [
    "packing means assigning multiple values to a tuple in a single statement while unpacking means extracting\n",
    "values from a tuple into variables"
   ]
  },
  {
   "cell_type": "code",
   "execution_count": 66,
   "id": "f15de0e0-0224-4ef2-9dd1-b04e8f084779",
   "metadata": {},
   "outputs": [
    {
     "name": "stdout",
     "output_type": "stream",
     "text": [
      "tuple packing: (1, 2, 3, 4)\n",
      "tuple unpacking: 10 20 30\n",
      "1\n",
      "[2, 3, 4, 5]\n"
     ]
    }
   ],
   "source": [
    "# tuple packing\n",
    "t=1,2,3,4\n",
    "print(\"tuple packing:\",t)\n",
    "\n",
    "#tuple unpacking\n",
    "a,b,c=(10,20,30)\n",
    "print(\"tuple unpacking:\",a,b,c)\n",
    "\n",
    "#if there are more elements than variables use *to capture remaining values in a list\n",
    "a, *b = (1, 2, 3, 4, 5)\n",
    "print(a)  # Output: 1\n",
    "print(b)  # Output: [2, 3, 4, 5]\n"
   ]
  },
  {
   "cell_type": "markdown",
   "id": "52efaad3-6545-4a5a-aefb-b82efb7512c0",
   "metadata": {},
   "source": [
    "6. Using tuples as dictionary keys since they are immutable unlike lists"
   ]
  },
  {
   "cell_type": "code",
   "execution_count": 73,
   "id": "7ea2a237-b33c-4117-8091-89ebb1ed24e5",
   "metadata": {},
   "outputs": [
    {
     "name": "stdout",
     "output_type": "stream",
     "text": [
      "Point A\n"
     ]
    }
   ],
   "source": [
    "coordinates = {(0, 0): \"Origin\", (1, 2): \"Point A\"}\n",
    "\n",
    "print(coordinates[(1, 2)])  # Output: Point A\n"
   ]
  },
  {
   "cell_type": "markdown",
   "id": "c06a2adc-4635-456e-8351-9d42f8db4a61",
   "metadata": {},
   "source": [
    "7. converting between tuples and other data types"
   ]
  },
  {
   "cell_type": "code",
   "execution_count": 76,
   "id": "24bf2066-8d0c-4e64-92f5-72051b38c8de",
   "metadata": {},
   "outputs": [
    {
     "name": "stdout",
     "output_type": "stream",
     "text": [
      "[1, 2, 3]\n",
      "(4, 5, 6)\n",
      "('h', 'e', 'l', 'l', 'o')\n"
     ]
    }
   ],
   "source": [
    "# Tuple to List\n",
    "t = (1, 2, 3)\n",
    "lst = list(t)\n",
    "print(lst)  # Output: [1, 2, 3]\n",
    "\n",
    "# List to Tuple\n",
    "lst = [4, 5, 6]\n",
    "t = tuple(lst)\n",
    "print(t)  # Output: (4, 5, 6)\n",
    "\n",
    "# String to Tuple\n",
    "s = \"hello\"\n",
    "t = tuple(s)\n",
    "print(t)  # Output: ('h', 'e', 'l', 'l', 'o')\n"
   ]
  },
  {
   "cell_type": "markdown",
   "id": "0553401c-ac49-4923-b657-a95707396c80",
   "metadata": {},
   "source": [
    "8. nested tuples - tuples containing other tuples"
   ]
  },
  {
   "cell_type": "code",
   "execution_count": 83,
   "id": "9a535ba8-87f1-4ded-9f25-5969ee896a84",
   "metadata": {},
   "outputs": [
    {
     "name": "stdout",
     "output_type": "stream",
     "text": [
      "((1, 2, 3), ('a', 'b', 'c'))\n",
      "2\n",
      "c\n",
      "b\n"
     ]
    }
   ],
   "source": [
    "nested_t = ((1, 2, 3), (\"a\", \"b\", \"c\"))\n",
    "print(nested_t)\n",
    "print(nested_t[0][1])  # Output: 2\n",
    "print(nested_t[1][2])  # Output: c\n",
    "print(nested_t[1][1]) \n"
   ]
  },
  {
   "cell_type": "markdown",
   "id": "e6f39066-5322-4a3e-9f56-c0ab7e0bb367",
   "metadata": {},
   "source": [
    "9. Returning multiple values from a function - function can return multiple values as a tuple"
   ]
  },
  {
   "cell_type": "code",
   "execution_count": 86,
   "id": "c94f828f-265a-4a41-9b4e-5b8549e03229",
   "metadata": {},
   "outputs": [
    {
     "name": "stdout",
     "output_type": "stream",
     "text": [
      "10.5 20.8\n"
     ]
    }
   ],
   "source": [
    "def get_coordinates():\n",
    "    return (10.5, 20.8)\n",
    "\n",
    "x, y = get_coordinates()\n",
    "print(x, y)  # Output: 10.5 20.8\n"
   ]
  },
  {
   "cell_type": "markdown",
   "id": "4629c119-3455-4879-b6e2-1bb38815a57e",
   "metadata": {},
   "source": [
    "10. Tuple vs NamedTuple - for readability you can use collections.namedtuple()"
   ]
  },
  {
   "cell_type": "code",
   "execution_count": 90,
   "id": "dd1007d2-604d-4734-9042-f534738203b9",
   "metadata": {},
   "outputs": [
    {
     "name": "stdout",
     "output_type": "stream",
     "text": [
      "3 4\n",
      "Point(x=3, y=4)\n"
     ]
    }
   ],
   "source": [
    "from collections import namedtuple\n",
    "\n",
    "Point = namedtuple(\"Point\", [\"x\", \"y\"])\n",
    "p = Point(3, 4)\n",
    "\n",
    "print(p.x, p.y)  # Output: 3 4\n",
    "print(p)  # Output: Point(x=3, y=4)\n"
   ]
  },
  {
   "cell_type": "code",
   "execution_count": null,
   "id": "9990e8f2-0c25-41c6-a631-ecaabda00682",
   "metadata": {},
   "outputs": [],
   "source": []
  }
 ],
 "metadata": {
  "kernelspec": {
   "display_name": "Python 3 (ipykernel)",
   "language": "python",
   "name": "python3"
  },
  "language_info": {
   "codemirror_mode": {
    "name": "ipython",
    "version": 3
   },
   "file_extension": ".py",
   "mimetype": "text/x-python",
   "name": "python",
   "nbconvert_exporter": "python",
   "pygments_lexer": "ipython3",
   "version": "3.12.4"
  }
 },
 "nbformat": 4,
 "nbformat_minor": 5
}
