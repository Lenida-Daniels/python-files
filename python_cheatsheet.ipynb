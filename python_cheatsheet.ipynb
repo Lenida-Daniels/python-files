{
 "cells": [
  {
   "cell_type": "markdown",
   "id": "68e1ba81-00ea-4a16-9943-44edba4ac81c",
   "metadata": {},
   "source": [
    "print hello world"
   ]
  },
  {
   "cell_type": "code",
   "execution_count": 4,
   "id": "0c483ca0-0baa-4d15-acec-1a5a9e801b80",
   "metadata": {},
   "outputs": [
    {
     "name": "stdout",
     "output_type": "stream",
     "text": [
      "Hello, World\n"
     ]
    }
   ],
   "source": [
    "print(\"Hello, World\")"
   ]
  },
  {
   "cell_type": "markdown",
   "id": "18f46d8b-cb00-4d39-aded-d2ba9248375f",
   "metadata": {},
   "source": [
    "printing output, the function print() is also used to print the value of the variable."
   ]
  },
  {
   "cell_type": "code",
   "execution_count": 11,
   "id": "6f0c0d10-6635-4eb8-a007-29ec4afa486b",
   "metadata": {},
   "outputs": [
    {
     "name": "stdout",
     "output_type": "stream",
     "text": [
      "My name is Lenny\n"
     ]
    }
   ],
   "source": [
    "name=\"Lenny\"\n",
    "print(\"My name is\", name)#don't forget the comma before name"
   ]
  },
  {
   "cell_type": "markdown",
   "id": "023eeea8-ad94-4b73-8e5d-228bcb4027e7",
   "metadata": {},
   "source": [
    "print multiple variables using the following cascading form of the print()function"
   ]
  },
  {
   "cell_type": "code",
   "execution_count": 29,
   "id": "bd6d7947-8049-41a3-a1e4-84241ed5763f",
   "metadata": {},
   "outputs": [
    {
     "name": "stdout",
     "output_type": "stream",
     "text": [
      "i am Lenny . 20 years old. my religion is christianity\n"
     ]
    }
   ],
   "source": [
    "name=\"Lenny\"\n",
    "age=\"20\"\n",
    "religion =\"christianity\"\n",
    "print(\"i am\",name,\".\",age,\"years old.\",\"my religion is\",religion)"
   ]
  },
  {
   "cell_type": "markdown",
   "id": "dc733513-2152-4a92-979f-2e7d1529569b",
   "metadata": {},
   "source": [
    "print without newline using end=\" \" parameter"
   ]
  },
  {
   "cell_type": "code",
   "execution_count": 35,
   "id": "8ee67a91-f5ef-4243-a168-2030bbacde26",
   "metadata": {},
   "outputs": [
    {
     "name": "stdout",
     "output_type": "stream",
     "text": [
      "hello\n",
      "world\n",
      "hello world\n"
     ]
    }
   ],
   "source": [
    "#this prints two separate lines\n",
    "print(\"hello\")\n",
    "print(\"world\")\n",
    "#but this prints without a new line\n",
    "print(\"hello\",end=\" \")\n",
    "print(\"world\")"
   ]
  },
  {
   "cell_type": "code",
   "execution_count": 49,
   "id": "01861a37-8a87-4acd-acee-c450c8abd8b8",
   "metadata": {},
   "outputs": [
    {
     "name": "stdout",
     "output_type": "stream",
     "text": [
      "hello i'm Lenny\n"
     ]
    }
   ],
   "source": [
    "print(\"hello\",end=\" i'm \")# inside the end parameter you can add any value\n",
    "print(\"Lenny\")"
   ]
  },
  {
   "cell_type": "markdown",
   "id": "fe6051a5-01db-41d0-9262-ef92379c7786",
   "metadata": {},
   "source": [
    "Comments. \n",
    "Python has 3 types of comments;\n",
    "1.single-line comment\n",
    "2.multi-line comment\n",
    "3.docstring comment"
   ]
  },
  {
   "cell_type": "code",
   "execution_count": 58,
   "id": "a40d3580-e4c3-43e1-8a3c-3f7bda95ebff",
   "metadata": {},
   "outputs": [],
   "source": [
    "#This is a single line comment, it follows a hash(#) "
   ]
  },
  {
   "cell_type": "code",
   "execution_count": 92,
   "id": "b8395bab-1c3a-4fe5-8ea7-6a87ddda78c9",
   "metadata": {},
   "outputs": [
    {
     "name": "stdout",
     "output_type": "stream",
     "text": [
      "hello\n"
     ]
    }
   ],
   "source": [
    "\"\"\"\n",
    "this is a multi-line comment\n",
    "it is written between a set of 3 quotes \n",
    "\"\"\"\n",
    "print(\"hello\")\n",
    " "
   ]
  },
  {
   "cell_type": "code",
   "execution_count": 78,
   "id": "853afeec-28a4-4da7-86ae-82b0cdc8357a",
   "metadata": {},
   "outputs": [
    {
     "name": "stdout",
     "output_type": "stream",
     "text": [
      "Hello, World!\n"
     ]
    }
   ],
   "source": [
    "'''\n",
    "name = 'Kelly Hu'\n",
    "age = 30\n",
    "city = \"Brentwood\"\n",
    "'''\n",
    "\n",
    "print(\"Hello, World!\")"
   ]
  },
  {
   "cell_type": "markdown",
   "id": "e0ae3db7-f515-44f5-8617-bcbe526ac8be",
   "metadata": {},
   "source": [
    "docstring comment,always the first statement inside the construct(class,function or module). Accessible at runtime using .__doc__ attribute or help()."
   ]
  },
  {
   "cell_type": "code",
   "execution_count": 98,
   "id": "cdd85f33-3793-4b29-aa9b-2042cc31fcac",
   "metadata": {},
   "outputs": [],
   "source": [
    "def greet(name):\n",
    "    \"\"\"\n",
    "    Greets a person by their name.\n",
    "\n",
    "    Parameters:\n",
    "    name (str): The name of the person.\n",
    "\n",
    "    Returns:\n",
    "    str: A greeting message.\n",
    "    \"\"\"\n",
    "    return f\"Hello, {name}!\""
   ]
  },
  {
   "cell_type": "markdown",
   "id": "2f484af4-bb45-42be-b818-68563f195751",
   "metadata": {},
   "source": [
    "key differences between doctrings and multiline is that docstrings are meant for documentation and are tied to functions,classes or modules while\n",
    "multiline comments are ignored texts meant for exlaining or clarifying the code and they aren't tied to any specific construct"
   ]
  },
  {
   "cell_type": "code",
   "execution_count": 102,
   "id": "40fb77b8-3c7b-4462-9588-aa24e836740e",
   "metadata": {},
   "outputs": [],
   "source": [
    "# This function greets the user\n",
    "# It takes a name as input and returns a greeting message\n",
    "def greet(name):\n",
    "    return f\"Hello, {name}!\"\n"
   ]
  },
  {
   "cell_type": "markdown",
   "id": "890c52f3-c54c-4f54-81b0-d6d128c9a99a",
   "metadata": {},
   "source": [
    "Variables, there is no keyword to declare a variable in python. They are created when you assign values to them"
   ]
  },
  {
   "cell_type": "code",
   "execution_count": 107,
   "id": "0c0ea1eb-813f-4fa1-b938-4461157ce185",
   "metadata": {},
   "outputs": [
    {
     "name": "stdout",
     "output_type": "stream",
     "text": [
      "Lenny\n",
      "Christianity\n"
     ]
    }
   ],
   "source": [
    "name=\"Lenny\"\n",
    "religion=\"Christianity\"\n",
    "print(name)\n",
    "print(religion)\n"
   ]
  },
  {
   "cell_type": "markdown",
   "id": "ffbf18da-0eac-4852-b706-f13f8106856a",
   "metadata": {},
   "source": [
    "Specifying variable's data type using the type casting with the help of built-in functions eg str(), float(), int(), etc"
   ]
  },
  {
   "cell_type": "code",
   "execution_count": 110,
   "id": "6980f0f6-6b95-4530-930f-bde40d710d5f",
   "metadata": {},
   "outputs": [
    {
     "name": "stdout",
     "output_type": "stream",
     "text": [
      "<class 'str'>\n",
      "<class 'int'>\n",
      "<class 'float'>\n"
     ]
    }
   ],
   "source": [
    "a=str(123)\n",
    "b=int(123)\n",
    "c=float(123)\n",
    "\n",
    "print(type(a))\n",
    "print(type(b))\n",
    "print(type(c))\n"
   ]
  },
  {
   "cell_type": "markdown",
   "id": "5edc3c9e-06b7-4935-840a-c16eeb229ca6",
   "metadata": {},
   "source": [
    "So the type() function is used to print the data type of a variable or an object"
   ]
  },
  {
   "cell_type": "code",
   "execution_count": 114,
   "id": "2195dcbc-b7a8-4941-82c4-7887ddc65c05",
   "metadata": {},
   "outputs": [
    {
     "name": "stdout",
     "output_type": "stream",
     "text": [
      "Lenny is the type of <class 'str'>\n"
     ]
    }
   ],
   "source": [
    "name=\"Lenny\"\n",
    "print(name,\"is the type of\",type(name))"
   ]
  },
  {
   "cell_type": "code",
   "execution_count": 118,
   "id": "7872220e-dde1-48bc-a3b8-cf5f3122a652",
   "metadata": {},
   "outputs": [
    {
     "name": "stdout",
     "output_type": "stream",
     "text": [
      "2 is the type of <class 'int'>\n"
     ]
    }
   ],
   "source": [
    "age=2\n",
    "print(age,\"is the type of\", type(age))"
   ]
  },
  {
   "cell_type": "code",
   "execution_count": 120,
   "id": "3447c17f-b98d-49e3-8e51-9b96c033613d",
   "metadata": {},
   "outputs": [
    {
     "name": "stdout",
     "output_type": "stream",
     "text": [
      "4.3 is the type of <class 'float'>\n"
     ]
    }
   ],
   "source": [
    "num=4.3\n",
    "print(num,\"is the type of\",type(num))"
   ]
  },
  {
   "cell_type": "code",
   "execution_count": 122,
   "id": "164007d0-cc91-4072-87c7-3161efd2bb8d",
   "metadata": {},
   "outputs": [
    {
     "name": "stdout",
     "output_type": "stream",
     "text": [
      "4j is the type of <class 'complex'>\n"
     ]
    }
   ],
   "source": [
    "num=4j\n",
    "print(num,\"is the type of\",type(num))"
   ]
  },
  {
   "cell_type": "markdown",
   "id": "bd8a88de-21a1-4e5c-b09f-56f9c51e8c6b",
   "metadata": {},
   "source": [
    "Assign multiple values to variables"
   ]
  },
  {
   "cell_type": "code",
   "execution_count": 127,
   "id": "b0a04cd6-ddab-4b21-b607-755d8d4aa9f1",
   "metadata": {},
   "outputs": [
    {
     "name": "stdout",
     "output_type": "stream",
     "text": [
      "Kelly 23\n",
      "Brentwood\n"
     ]
    }
   ],
   "source": [
    "name,age,city=\"Kelly\",23,\"Brentwood\"\n",
    "print(name,end=\" \")\n",
    "print(age)\n",
    "print(city)"
   ]
  },
  {
   "cell_type": "code",
   "execution_count": null,
   "id": "ed0831be-c916-4e69-878a-e3d1a5b44cfa",
   "metadata": {},
   "outputs": [],
   "source": []
  }
 ],
 "metadata": {
  "kernelspec": {
   "display_name": "Python 3 (ipykernel)",
   "language": "python",
   "name": "python3"
  },
  "language_info": {
   "codemirror_mode": {
    "name": "ipython",
    "version": 3
   },
   "file_extension": ".py",
   "mimetype": "text/x-python",
   "name": "python",
   "nbconvert_exporter": "python",
   "pygments_lexer": "ipython3",
   "version": "3.12.4"
  }
 },
 "nbformat": 4,
 "nbformat_minor": 5
}
