{
  "nbformat": 4,
  "nbformat_minor": 0,
  "metadata": {
    "colab": {
      "provenance": [],
      "toc_visible": true
    },
    "kernelspec": {
      "name": "python3",
      "display_name": "Python 3"
    },
    "language_info": {
      "name": "python"
    }
  },
  "cells": [
    {
      "cell_type": "code",
      "execution_count": null,
      "metadata": {
        "colab": {
          "base_uri": "https://localhost:8080/"
        },
        "id": "b4M0UQSoFW7D",
        "outputId": "e970416a-7268-4a14-deff-61f6b0e17690"
      },
      "outputs": [
        {
          "output_type": "stream",
          "name": "stdout",
          "text": [
            "[2, 2, 3, 4, 5, 6]\n"
          ]
        }
      ],
      "source": [
        "#sorted approach\n",
        "def mergesortedarray():\n",
        "  nums1=[2,3,4]\n",
        "  nums2=[2,5,6]\n",
        "  for item in nums2:\n",
        "    nums1.append(item)\n",
        "  nums1.sort()\n",
        "  print(nums1)\n",
        "mergesortedarray()\n",
        "#THIS SOLVES THE PROBLEM BUT TAKES MUCH SPACE AND TIME"
      ]
    },
    {
      "cell_type": "code",
      "source": [
        "#optimal inplace method\n",
        "def mergesortedarray(num1,m,num2,n):\n",
        "  i=m-1\n",
        "  j=n-1\n",
        "  k=m+n-1\n",
        "\n",
        "  while i>=0 and j>=0:\n",
        "    if num1[i]>num2[j]:\n",
        "      num1[k]=num1[i]\n",
        "      i-=1\n",
        "    else:\n",
        "      num1[k]=num2[j]\n",
        "      j-=1\n",
        "\n",
        "    k-=1\n",
        "  #if there are any remaining values in num2, coppy them\n",
        "  while j>=0:\n",
        "    num1[k]=num2[j]\n",
        "    j-=1\n",
        "    k-=1\n",
        "  print(num1)\n",
        "mergesortedarray([2,3,4,0,0,0],3,[2,5,6],3)\n"
      ],
      "metadata": {
        "colab": {
          "base_uri": "https://localhost:8080/"
        },
        "id": "xc-PNnszF2rk",
        "outputId": "df0cefae-af50-45df-d9d6-b625dd5672b7"
      },
      "execution_count": null,
      "outputs": [
        {
          "output_type": "stream",
          "name": "stdout",
          "text": [
            "[2, 2, 3, 4, 5, 6]\n"
          ]
        }
      ]
    }
  ]
}