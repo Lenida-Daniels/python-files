{
  "nbformat": 4,
  "nbformat_minor": 0,
  "metadata": {
    "colab": {
      "provenance": []
    },
    "kernelspec": {
      "name": "python3",
      "display_name": "Python 3"
    },
    "language_info": {
      "name": "python"
    }
  },
  "cells": [
    {
      "cell_type": "code",
      "execution_count": 3,
      "metadata": {
        "colab": {
          "base_uri": "https://localhost:8080/"
        },
        "id": "gcyBc02KYGpM",
        "outputId": "3ae145c2-5390-4d50-aa44-5c9a73cfd8fe"
      },
      "outputs": [
        {
          "output_type": "stream",
          "name": "stdout",
          "text": [
            "Samsung S24\n"
          ]
        }
      ],
      "source": [
        "#defining class\n",
        "class Smartphone:\n",
        "\n",
        "  #constructor\n",
        "  # __init__ is a special method called constructor. Automatically called when a new smartphone object is created\n",
        "  #self is a reference to the current object being created. It's always the first parameter of instance methods.\n",
        "  #brand, model_name, and price are parameters that allow you to pass data to the constructor when creating a Smartphone object.\n",
        "\n",
        "  def __init__(self,brand,model_name,price):\n",
        "    self.brand=brand # assigns the value of the brand parameter to the brand attribute of the object\n",
        "    self.model_name=model_name\n",
        "    self.price=max(price,0)#assigns the value of the price parameter to the price attribute of the object, with a safeguard.\n",
        "    #max(price, 0) ensures that the price is never negative.\n",
        "    #If price is positive or zero, it's assigned to self.price and If price is negative, 0 is assigned to self.price.\n",
        "\n",
        "    #method of the class\n",
        "    #def make_a_call(self,phone_number):\n",
        "    #return f\"calling {phone_number}...\"\n",
        "\n",
        "  def full_name(self):\n",
        "    return f\"{self.brand} {self.model_name}\"\n",
        "\n",
        "#creating object of the class\n",
        "PhoneObj=Smartphone(\"Samsung\", \"S24\",300000)\n",
        "print(PhoneObj.full_name())\n",
        ""
      ]
    },
    {
      "cell_type": "code",
      "source": [],
      "metadata": {
        "id": "ifcXmhEllLwn"
      },
      "execution_count": null,
      "outputs": []
    }
  ]
}