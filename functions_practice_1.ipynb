{
 "cells": [
  {
   "cell_type": "code",
   "execution_count": 9,
   "id": "72b505e3-bb47-46fd-9688-a827560c778e",
   "metadata": {},
   "outputs": [
    {
     "name": "stdout",
     "output_type": "stream",
     "text": [
      "89\n"
     ]
    }
   ],
   "source": [
    "def largestnum():\n",
    "    numbers=[1,2,4,7,5,89,54]\n",
    "    numbers.sort()\n",
    "    print(numbers[-1])\n",
    "\n",
    "largestnum()\n",
    "    \n",
    "                "
   ]
  },
  {
   "cell_type": "code",
   "execution_count": 17,
   "id": "7c001931-7060-4c91-811b-3deece8d421c",
   "metadata": {},
   "outputs": [
    {
     "name": "stdout",
     "output_type": "stream",
     "text": [
      "89\n"
     ]
    }
   ],
   "source": [
    "def largestnum(*num):\n",
    "    numbers=[1,2,4,7,5,89,54]\n",
    "    numbers.sort()\n",
    "    print(numbers[-1])\n",
    "\n",
    "largestnum(1,2,4,7,5,89,54)"
   ]
  },
  {
   "cell_type": "code",
   "execution_count": 19,
   "id": "3a3c7787-3a6d-4eb7-8e9d-d5313c66c10c",
   "metadata": {},
   "outputs": [
    {
     "name": "stdout",
     "output_type": "stream",
     "text": [
      "54\n"
     ]
    }
   ],
   "source": [
    "def secondlargest(*num):\n",
    "    numbers=[1,2,4,7,5,89,54]\n",
    "    numbers.sort()\n",
    "    print(numbers[-2])\n",
    "\n",
    "secondlargest(1,2,4,7,5,89,54)"
   ]
  },
  {
   "cell_type": "code",
   "execution_count": 47,
   "id": "646fdb2f-f736-47f6-b1f9-33c24cfa87a3",
   "metadata": {},
   "outputs": [
    {
     "name": "stdout",
     "output_type": "stream",
     "text": [
      "e\n",
      "i\n",
      "o\n"
     ]
    }
   ],
   "source": [
    "def vowelscount(str):\n",
    "    vowels=['a','e','i','o','u']\n",
    "    for item in vowels:\n",
    "        if(item in \"environment\"):\n",
    "            print(item)\n",
    "         \n",
    "\n",
    "vowelscount('environment')\n",
    "\n",
    "\n",
    "   "
   ]
  },
  {
   "cell_type": "code",
   "execution_count": 49,
   "id": "0580d9dd-3c1c-4da7-845d-8e1f9b71b388",
   "metadata": {},
   "outputs": [],
   "source": [
    "mycourse='COMMUNICATION SKILLS'\n"
   ]
  },
  {
   "cell_type": "code",
   "execution_count": 51,
   "id": "c6e133e7-3bf6-4762-999b-823b371cdccd",
   "metadata": {},
   "outputs": [
    {
     "data": {
      "text/plain": [
       "' SKILLS'"
      ]
     },
     "execution_count": 51,
     "metadata": {},
     "output_type": "execute_result"
    }
   ],
   "source": [
    "mycourse[-7:]"
   ]
  },
  {
   "cell_type": "code",
   "execution_count": 53,
   "id": "361204c9-6d80-49bc-96d0-691140ee0970",
   "metadata": {},
   "outputs": [
    {
     "data": {
      "text/plain": [
       "' SKILLS'"
      ]
     },
     "execution_count": 53,
     "metadata": {},
     "output_type": "execute_result"
    }
   ],
   "source": [
    "mycourse[13:]"
   ]
  },
  {
   "cell_type": "code",
   "execution_count": 55,
   "id": "261173e2-b865-4f7e-980f-ca6c882a246a",
   "metadata": {},
   "outputs": [
    {
     "data": {
      "text/plain": [
       "'MMU'"
      ]
     },
     "execution_count": 55,
     "metadata": {},
     "output_type": "execute_result"
    }
   ],
   "source": [
    "mycourse[2:5]"
   ]
  },
  {
   "cell_type": "code",
   "execution_count": 57,
   "id": "eef6f0e6-90ff-4c79-b3f8-5e0cc8752109",
   "metadata": {},
   "outputs": [
    {
     "data": {
      "text/plain": [
       "'SLLIKS NOITACINUMMOC'"
      ]
     },
     "execution_count": 57,
     "metadata": {},
     "output_type": "execute_result"
    }
   ],
   "source": [
    "mycourse[::-1]"
   ]
  },
  {
   "cell_type": "code",
   "execution_count": 63,
   "id": "05b5523c-1540-4531-ba29-8822ce3fa3c5",
   "metadata": {},
   "outputs": [
    {
     "data": {
      "text/plain": [
       "'comm'"
      ]
     },
     "execution_count": 63,
     "metadata": {},
     "output_type": "execute_result"
    }
   ],
   "source": [
    "mycourse[0:4].lower()"
   ]
  },
  {
   "cell_type": "code",
   "execution_count": 73,
   "id": "e085b421-26f4-4278-a49e-4fbc2847f3eb",
   "metadata": {},
   "outputs": [
    {
     "name": "stdout",
     "output_type": "stream",
     "text": [
      "1\n",
      "2\n"
     ]
    }
   ],
   "source": [
    "for item in range(1,10):\n",
    "    if(item==3):\n",
    "        break\n",
    "    print(item)"
   ]
  },
  {
   "cell_type": "code",
   "execution_count": 75,
   "id": "037a5398-843e-47ba-8201-11829a1c3f31",
   "metadata": {},
   "outputs": [
    {
     "name": "stdout",
     "output_type": "stream",
     "text": [
      "1\n",
      "2\n",
      "4\n",
      "5\n",
      "6\n",
      "7\n",
      "8\n",
      "9\n"
     ]
    }
   ],
   "source": [
    "for item in range(1,10):\n",
    "    if(item==3):\n",
    "        continue\n",
    "    print(item)"
   ]
  },
  {
   "cell_type": "code",
   "execution_count": 87,
   "id": "5b17ca27-5c0e-4315-b400-76bd6d975b82",
   "metadata": {},
   "outputs": [
    {
     "data": {
      "text/plain": [
       "154.01"
      ]
     },
     "execution_count": 87,
     "metadata": {},
     "output_type": "execute_result"
    }
   ],
   "source": [
    "\n",
    "def calareacircle(rad):\n",
    "    return round(3.143*rad*rad,2)\n",
    "calareacircle(7)  "
   ]
  },
  {
   "cell_type": "code",
   "execution_count": 93,
   "id": "557577d7-5228-4c53-9745-ba45f949bf91",
   "metadata": {},
   "outputs": [
    {
     "name": "stdin",
     "output_type": "stream",
     "text": [
      "enter a radius 10\n"
     ]
    },
    {
     "data": {
      "text/plain": [
       "314.3"
      ]
     },
     "execution_count": 93,
     "metadata": {},
     "output_type": "execute_result"
    }
   ],
   "source": [
    "def calareacircle():\n",
    "    rad=int(input(\"enter a radius\"))\n",
    "    return 3.143*rad*rad\n",
    "\n",
    "calareacircle()"
   ]
  },
  {
   "cell_type": "code",
   "execution_count": 101,
   "id": "df9d1c9c-6d63-4450-99cc-77cce7e09ea8",
   "metadata": {},
   "outputs": [
    {
     "name": "stdout",
     "output_type": "stream",
     "text": [
      "first: Red\n",
      "last: Black\n"
     ]
    }
   ],
   "source": [
    "color_list = [\"Red\",\"Green\",\"White\" ,\"Black\"]\n",
    "print(\"first:\",color_list[0])\n",
    "print(\"last:\",color_list[-1])"
   ]
  },
  {
   "cell_type": "code",
   "execution_count": 119,
   "id": "60cf03a4-07b2-4113-ae9d-ab989e6912a8",
   "metadata": {},
   "outputs": [
    {
     "name": "stdout",
     "output_type": "stream",
     "text": [
      "2\n",
      "4\n",
      "6\n",
      "8\n",
      "10\n",
      "12\n",
      "14\n",
      "16\n",
      "18\n",
      "20\n"
     ]
    }
   ],
   "source": [
    "def even():\n",
    "    for num in range(1,21):\n",
    "        if(num%2==0):\n",
    "          print(num)\n",
    "    \n",
    "even()\n",
    "  "
   ]
  },
  {
   "cell_type": "code",
   "execution_count": 7,
   "id": "ac007172-c760-445c-a879-22b439f18eab",
   "metadata": {},
   "outputs": [
    {
     "data": {
      "image/png": "[encoded data removed]",
      "text/plain": [
       "<Figure size 400x400 with 1 Axes>"
      ]
     },
     "metadata": {},
     "output_type": "display_data"
    }
   ],
   "source": [
    "import matplotlib.pyplot as plt\n",
    "male=178\n",
    "female=112\n",
    "data=[male,female]\n",
    "gender=[\"male\",\"female\"]\n",
    "exp=[0.1,0]\n",
    "plt.figure(figsize=[4,4])\n",
    "plt.pie(data,labels=gender,explode=exp);\n"
   ]
  },
  {
   "cell_type": "code",
   "execution_count": null,
   "id": "a5bb0899-b118-4c90-af35-c51303ddea8d",
   "metadata": {},
   "outputs": [],
   "source": []
  },
  {
   "cell_type": "code",
   "execution_count": 36,
   "id": "373c7295-633a-4b7c-ac3e-b649bf4aef85",
   "metadata": {},
   "outputs": [
    {
     "data": {
      "text/plain": [
       "[0, 1]"
      ]
     },
     "execution_count": 36,
     "metadata": {},
     "output_type": "execute_result"
    }
   ],
   "source": [
    "def twosum():\n",
    "    num_map={}\n",
    "    nums=[2,7,11,15]\n",
    "    target=9\n",
    "    for i,num in enumerate(nums):\n",
    "        complement=target-num\n",
    "        if complement in num_map:\n",
    "            return [num_map[complement],1]\n",
    "        num_map[num]=i\n",
    "\n",
    "    return[]\n",
    "\n",
    "twosum()\n",
    "\n",
    "\n"
   ]
  },
  {
   "cell_type": "code",
   "execution_count": null,
   "id": "5ee2364d-8e70-4b41-b09a-21fcd1db8686",
   "metadata": {},
   "outputs": [],
   "source": []
  }
 ],
 "metadata": {
  "kernelspec": {
   "display_name": "Python 3 (ipykernel)",
   "language": "python",
   "name": "python3"
  },
  "language_info": {
   "codemirror_mode": {
    "name": "ipython",
    "version": 3
   },
   "file_extension": ".py",
   "mimetype": "text/x-python",
   "name": "python",
   "nbconvert_exporter": "python",
   "pygments_lexer": "ipython3",
   "version": "3.12.4"
  }
 },
 "nbformat": 4,
 "nbformat_minor": 5
}
