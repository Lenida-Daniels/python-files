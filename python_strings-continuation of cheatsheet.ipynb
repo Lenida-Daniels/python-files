{
 "cells": [
  {
   "cell_type": "markdown",
   "id": "35cd8dba-311f-4bd9-8aa8-28be13e5906f",
   "metadata": {},
   "source": [
    "Strings"
   ]
  },
  {
   "cell_type": "markdown",
   "id": "11240a1b-5b62-4d2f-9ad0-bffeb2e8e789",
   "metadata": {},
   "source": [
    "Quotes Inside Quotes-You can print quotes as a string using print()function"
   ]
  },
  {
   "cell_type": "code",
   "execution_count": 30,
   "id": "deabe9e5-3fc5-4dda-a78c-876827505110",
   "metadata": {},
   "outputs": [
    {
     "name": "stdout",
     "output_type": "stream",
     "text": [
      "I am 'Lenny'\n",
      "I am \"Lenny\"\n",
      "I am \"Lenny\"\n",
      "I am 'Lenny'\n"
     ]
    }
   ],
   "source": [
    "print(\"I am 'Lenny'\")#Use a backslash (\\) to escape special characters (like double quotes, single quotes, etc.) in strings. \n",
    "#This prevents Python from misinterpreting them.\n",
    "print(\"I am \\\"Lenny\\\"\")\n",
    "print('I am \"Lenny\"')\n",
    "print('I am \\'Lenny\\'')"
   ]
  },
  {
   "cell_type": "markdown",
   "id": "b20575cb-c752-489a-bf93-4d4b09f751c4",
   "metadata": {},
   "source": [
    "Multiline Strings,\n",
    "Python does it by using three single or double quotes"
   ]
  },
  {
   "cell_type": "code",
   "execution_count": 36,
   "id": "25437a68-dee8-4a40-9ff8-443c32e14759",
   "metadata": {},
   "outputs": [
    {
     "name": "stdout",
     "output_type": "stream",
     "text": [
      "I'm lenny\n",
      "I'm a student\n",
      "I study Data Science\n",
      "I'm currently learning Python\n",
      "Actually i'm a python enthusiast\n",
      "\n"
     ]
    }
   ],
   "source": [
    "a='''I'm lenny\n",
    "I'm a student\n",
    "I study Data Science'''\n",
    "print(a)\n",
    "b=\"\"\"I'm currently learning Python\n",
    "Actually i'm a python enthusiast\n",
    "\"\"\"\n",
    "print(b)"
   ]
  },
  {
   "cell_type": "markdown",
   "id": "5c5c106f-93d2-4b73-bd57-e4d3eb51b8b0",
   "metadata": {},
   "source": [
    "Slicing strings- this can be done either by using start or end index, separated by a colon inside square brackets"
   ]
  },
  {
   "cell_type": "code",
   "execution_count": 81,
   "id": "4406b5bc-9760-4452-8107-23ef950d434e",
   "metadata": {},
   "outputs": [
    {
     "name": "stdout",
     "output_type": "stream",
     "text": [
      "h\n",
      ",\n",
      " \n",
      "w\n",
      "o\n",
      "d\n",
      "hell\n",
      "hello\n",
      "hello, world\n",
      "hello, world\n",
      "hello\n",
      "d\n",
      "world\n",
      "worl\n",
      "hello, world\n"
     ]
    }
   ],
   "source": [
    "text=\"hello, world\"\n",
    "print(text[0])\n",
    "print(text[5])\n",
    "print(text[6])\n",
    "print(text[7])\n",
    "print(text[8])\n",
    "print(text[11])\n",
    "print(text[0:4])\n",
    "print(text[0:5])\n",
    "print(text[0:])\n",
    "print(text[:13])\n",
    "print(text[:5])\n",
    "print(text[-1])\n",
    "print(text[-5:])\n",
    "print(text[-5:-1])\n",
    "print(text[-12:])"
   ]
  },
  {
   "cell_type": "markdown",
   "id": "7160504e-4edb-4f1a-bf4b-c2ab2ef3ab39",
   "metadata": {},
   "source": [
    "String Concatenation- using addition of variable names"
   ]
  },
  {
   "cell_type": "code",
   "execution_count": 88,
   "id": "93e543a0-0374-41dd-9aa6-077addb2fe8f",
   "metadata": {},
   "outputs": [
    {
     "name": "stdout",
     "output_type": "stream",
     "text": [
      "Lenny Brentwood\n"
     ]
    }
   ],
   "source": [
    "name=\"Lenny\"\n",
    "city=\"Brentwood\"\n",
    "person=name+ \" \"+city\n",
    "print(person)"
   ]
  },
  {
   "cell_type": "markdown",
   "id": "fdac95b2-1496-45ba-8153-53ac5e9c3da2",
   "metadata": {},
   "source": [
    "String Format- using python f-string"
   ]
  },
  {
   "cell_type": "code",
   "execution_count": 101,
   "id": "ef857fab-325a-413e-ac1c-5190760bf690",
   "metadata": {},
   "outputs": [
    {
     "name": "stdout",
     "output_type": "stream",
     "text": [
      "My name is Lenny,I live in Brentwood\n",
      "Lenny Brentwood\n"
     ]
    }
   ],
   "source": [
    "name=\"Lenny\"\n",
    "city=\"Brentwood\"\n",
    "person=f\"My name is {name},I live in {city}\"\n",
    "p=f\"{name} {city}\"\n",
    "print(person)\n",
    "print(p)"
   ]
  },
  {
   "cell_type": "code",
   "execution_count": null,
   "id": "2e9eb476-eb41-4494-ad4a-f5caccc552b9",
   "metadata": {},
   "outputs": [],
   "source": []
  },
  {
   "cell_type": "code",
   "execution_count": null,
   "id": "8e3ae58f-96ab-4663-8672-8159e8c801bc",
   "metadata": {},
   "outputs": [],
   "source": []
  }
 ],
 "metadata": {
  "kernelspec": {
   "display_name": "Python 3 (ipykernel)",
   "language": "python",
   "name": "python3"
  },
  "language_info": {
   "codemirror_mode": {
    "name": "ipython",
    "version": 3
   },
   "file_extension": ".py",
   "mimetype": "text/x-python",
   "name": "python",
   "nbconvert_exporter": "python",
   "pygments_lexer": "ipython3",
   "version": "3.12.4"
  }
 },
 "nbformat": 4,
 "nbformat_minor": 5
}
