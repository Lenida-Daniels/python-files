{
 "cells": [
  {
   "cell_type": "markdown",
   "id": "6f9cbe9d-80cb-413b-bed7-c6fd0bb52ca4",
   "metadata": {},
   "source": [
    "**Function**-a block of organized, reusable code that is used to perform a single, related \r\n",
    "action."
   ]
  },
  {
   "cell_type": "markdown",
   "id": "c39e08b6-714a-462f-adcd-66fa682d7a4b",
   "metadata": {},
   "source": [
    "Functions provide better modularity for your application and a high degree of code \r\n",
    "reusingPython gives you many built-in functions like print(), etc. but you \r\n",
    "can also create your own function.."
   ]
  },
  {
   "cell_type": "markdown",
   "id": "0c41b977-3760-4526-8769-65c990a3db5c",
   "metadata": {},
   "source": [
    "**pass by reference vs value**"
   ]
  },
  {
   "cell_type": "markdown",
   "id": "799f60a0-2198-4bdd-91b8-d06a15de897d",
   "metadata": {},
   "source": [
    "All parameters(args) in python are passed by reference.This means if you change what a parameter refers to within a function, the change also reflects back in the calling function."
   ]
  },
  {
   "cell_type": "code",
   "execution_count": 17,
   "id": "468cb9ed-8eb6-4c6e-bf6f-04fd273f02ce",
   "metadata": {},
   "outputs": [
    {
     "name": "stdout",
     "output_type": "stream",
     "text": [
      "Values inside the function before change: [100, 200, 300]\n",
      "Values inside the function after change: [100, 20, 300]\n",
      "values outside the function [100, 20, 300]\n"
     ]
    }
   ],
   "source": [
    "def changeme(mylist):\n",
    "    \"This changes a passed list into this function\"\n",
    "    print(\"Values inside the function before change:\", mylist)\n",
    "    mylist[1]=20\n",
    "    print(\"Values inside the function after change:\", mylist)\n",
    "    return\n",
    "\n",
    "mylist=[100,200,300]\n",
    "changeme(mylist)\n",
    "print(\"values outside the function\",mylist)\n",
    "\n",
    "\n",
    "    \n",
    "    "
   ]
  },
  {
   "cell_type": "code",
   "execution_count": 21,
   "id": "c50c083b-9854-4ffb-af4c-f1d4c9a58eaa",
   "metadata": {},
   "outputs": [
    {
     "name": "stdout",
     "output_type": "stream",
     "text": [
      "Values inside the function before change: [1, 2, 3]\n",
      "Values inside the function after change: [1, 20, 3]\n",
      "values outside the function [100, 200, 300]\n"
     ]
    }
   ],
   "source": [
    "def changeme(mylist):\n",
    "    \"This changes a passed list into this function\"\n",
    "    mylist=[1,2,3]\n",
    "    print(\"Values inside the function before change:\", mylist)\n",
    "    mylist[1]=20\n",
    "    print(\"Values inside the function after change:\", mylist)\n",
    "    return\n",
    "\n",
    "mylist=[100,200,300]\n",
    "changeme(mylist)\n",
    "print(\"values outside the function\",mylist)\n",
    "#mylist is local to the function thus changing it doesn't affect 'mylist' outside the function.\n"
   ]
  },
  {
   "cell_type": "markdown",
   "id": "3738d775-742a-4180-a62f-8433855cf7dd",
   "metadata": {},
   "source": [
    "**Function Arguments**"
   ]
  },
  {
   "cell_type": "markdown",
   "id": "ac13c063-60eb-4d3b-8dbf-e57c08c73290",
   "metadata": {},
   "source": [
    "**1.Required Argument** - Arguments passed to a function in a correct positional order. The number of args in function call should match exactly with those of function definition."
   ]
  },
  {
   "cell_type": "code",
   "execution_count": 17,
   "id": "d389bb13-34f3-4ee1-ab94-4ff5efa068e2",
   "metadata": {},
   "outputs": [
    {
     "data": {
      "text/plain": [
       "10"
      ]
     },
     "execution_count": 17,
     "metadata": {},
     "output_type": "execute_result"
    }
   ],
   "source": [
    "def add2nums(a,b):\n",
    "    c=a+b\n",
    "    return c\n",
    "\n",
    "\n",
    "add2nums(5,5)\n",
    "\n",
    "    "
   ]
  },
  {
   "cell_type": "markdown",
   "id": "27d3779f-3129-4924-b4e8-780775b09e34",
   "metadata": {},
   "source": [
    "**2.Keyword Arguments**-are related to the function calls. When using the keyword args in a function call, the callerr identifies the args by the parameter name. This allows you to skip args or place them out of order because python interpreter is able to use the keywords provided to match the values with parameters."
   ]
  },
  {
   "cell_type": "code",
   "execution_count": 30,
   "id": "c7c560ae-b76c-4e7c-b903-f7693fe1f2bf",
   "metadata": {},
   "outputs": [
    {
     "data": {
      "text/plain": [
       "7"
      ]
     },
     "execution_count": 30,
     "metadata": {},
     "output_type": "execute_result"
    }
   ],
   "source": [
    "def add2nums(a,b):\n",
    "    c=a+b\n",
    "    return c\n",
    "\n",
    "\n",
    "add2nums(b=5,a=2)\n"
   ]
  },
  {
   "cell_type": "markdown",
   "id": "07bb70e5-0265-4089-9c14-1ed11f4b5ebd",
   "metadata": {},
   "source": [
    "**3.Default arguments**-an argument that assumes a default value if a value is not provided in the function call for that argument."
   ]
  },
  {
   "cell_type": "code",
   "execution_count": 42,
   "id": "29b40111-3394-4271-8006-051129d5b859",
   "metadata": {},
   "outputs": [
    {
     "data": {
      "text/plain": [
       "15"
      ]
     },
     "execution_count": 42,
     "metadata": {},
     "output_type": "execute_result"
    }
   ],
   "source": [
    "def add2nums(a,b=10):\n",
    "    c=a+b\n",
    "    return c\n",
    "\n",
    "\n",
    "add2nums(5) #uses a default argument 'b=10' \n",
    "\n"
   ]
  },
  {
   "cell_type": "code",
   "execution_count": 44,
   "id": "0a205d84-3bdf-41c4-a995-a7d72f28a510",
   "metadata": {},
   "outputs": [
    {
     "data": {
      "text/plain": [
       "10"
      ]
     },
     "execution_count": 44,
     "metadata": {},
     "output_type": "execute_result"
    }
   ],
   "source": [
    "add2nums(5,5) #ignores default argument because 'b' is given a value in the function call"
   ]
  },
  {
   "cell_type": "code",
   "execution_count": 46,
   "id": "f17dba32-25c9-493d-9f6f-eaacb31de14b",
   "metadata": {},
   "outputs": [
    {
     "data": {
      "text/plain": [
       "10"
      ]
     },
     "execution_count": 46,
     "metadata": {},
     "output_type": "execute_result"
    }
   ],
   "source": [
    "def add2nums(a,b=10):\n",
    "    c=a+b\n",
    "    return c\n",
    "\n",
    "\n",
    "add2nums(5)\n",
    "add2nums(5,5) #when you call same function twice, the second one will be called and the first one will be ignored\n"
   ]
  },
  {
   "cell_type": "markdown",
   "id": "933391d8-4458-4320-ad4e-5c57e928e3a0",
   "metadata": {},
   "source": [
    "**4.Variable-length arguments**-You may need to process a function for more arguments than you specified while defining \r\n",
    "the function. These arguments are called variable-length arguments and are not named in \r\n",
    "the function definition, unlike required and default arguments."
   ]
  },
  {
   "cell_type": "code",
   "execution_count": 1,
   "id": "fe716c30-425e-475d-924c-b7de392302b0",
   "metadata": {},
   "outputs": [
    {
     "name": "stdout",
     "output_type": "stream",
     "text": [
      "6\n",
      "7\n",
      "8\n"
     ]
    }
   ],
   "source": [
    "def printnums(x,*y):\n",
    "    items=[1,2,3]\n",
    "    \n",
    "    for i in items:\n",
    "      print(i+x)\n",
    "    return \n",
    "\n",
    "\n",
    "\n",
    "printnums(5,6)"
   ]
  },
  {
   "cell_type": "code",
   "execution_count": 19,
   "id": "7f3b2633-ba8c-41bc-9b19-f0704c815264",
   "metadata": {},
   "outputs": [
    {
     "name": "stdout",
     "output_type": "stream",
     "text": [
      "profile for Lenny:\n",
      "country:Kenya\n",
      "occupation:Data Scientist\n"
     ]
    }
   ],
   "source": [
    "def create_profile(name,**attributes):\n",
    "    print(f\"profile for {name}:\")\n",
    "    for key,value in attributes.items():\n",
    "        print(f\"{key}:{value}\")\n",
    "country=\"Kenya\"\n",
    "occupation=\"Data Scientist\"\n",
    "create_profile(\"Lenny\",country=\"Kenya\",occupation=\"Data Scientist\")"
   ]
  },
  {
   "cell_type": "code",
   "execution_count": 15,
   "id": "be3cf5ce-844c-4c56-8adf-c4d4ac0a3dd1",
   "metadata": {},
   "outputs": [
    {
     "name": "stdout",
     "output_type": "stream",
     "text": [
      "Item: apple, Value: 1\n",
      "Item: banana, Value: 2\n",
      "Item: cherry, Value: 3\n",
      "Item: date, Value: today\n",
      "Profile for Alice:\n",
      "  age: 30\n",
      "  city: New York\n",
      "  occupation: Engineer\n",
      "Profile for Bob:\n",
      "  favorite_color: blue\n",
      "  is_student: True\n"
     ]
    }
   ],
   "source": [
    "def process_items(**kwargs):\n",
    "    \"\"\"\n",
    "    Processes items passed as keyword arguments.\n",
    "\n",
    "    Args:\n",
    "      **kwargs: A variable number of keyword arguments.\n",
    "    \"\"\"\n",
    "    for key, value in kwargs.items():\n",
    "        print(f\"Item: {key}, Value: {value}\")\n",
    "\n",
    "# Example usage:\n",
    "process_items(apple=1, banana=2, cherry=3, date=\"today\")\n",
    "\n",
    "def create_profile(name, **attributes):\n",
    "  \"\"\"\n",
    "  Creates a user profile with variable attributes.\n",
    "\n",
    "  Args:\n",
    "    name: The user's name.\n",
    "    **attributes: Additional attributes as keyword arguments.\n",
    "  \"\"\"\n",
    "  print(f\"Profile for {name}:\")\n",
    "  for key, value in attributes.items():\n",
    "    print(f\"  {key}: {value}\")\n",
    "\n",
    "create_profile(\"Alice\", age=30, city=\"New York\", occupation=\"Engineer\")\n",
    "create_profile(\"Bob\", favorite_color=\"blue\", is_student=True)"
   ]
  },
  {
   "cell_type": "code",
   "execution_count": null,
   "id": "aa3ec78d-489f-446b-9a27-2220253db72c",
   "metadata": {},
   "outputs": [],
   "source": []
  }
 ],
 "metadata": {
  "kernelspec": {
   "display_name": "Python 3 (ipykernel)",
   "language": "python",
   "name": "python3"
  },
  "language_info": {
   "codemirror_mode": {
    "name": "ipython",
    "version": 3
   },
   "file_extension": ".py",
   "mimetype": "text/x-python",
   "name": "python",
   "nbconvert_exporter": "python",
   "pygments_lexer": "ipython3",
   "version": "3.12.4"
  }
 },
 "nbformat": 4,
 "nbformat_minor": 5
}
