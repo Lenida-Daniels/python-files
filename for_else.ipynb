{
 "cells": [
  {
   "cell_type": "code",
   "execution_count": 16,
   "id": "21988ac1-661b-48d5-8213-a4e31f437285",
   "metadata": {},
   "outputs": [
    {
     "name": "stdout",
     "output_type": "stream",
     "text": [
      "iteration no.0\n",
      "iteration no.1\n",
      "iteration no.2\n",
      "iteration no.3\n",
      "iteration no.4\n",
      "iteration no.5\n",
      "for loop over.Now in else block\n",
      "end of for loop\n"
     ]
    }
   ],
   "source": [
    "for count in range(6):\n",
    "    print(\"iteration no.{}\".format(count))\n",
    "else:#else block executes only when the loop terminates normally i.e without using break statement\n",
    "    \n",
    "    print(\"for loop over.Now in else block\")\n",
    "print(\"end of for loop\")"
   ]
  },
  {
   "cell_type": "code",
   "execution_count": 20,
   "id": "c8a8cf7a-8761-4b1f-907c-36babd1c4c95",
   "metadata": {},
   "outputs": [
    {
     "name": "stdout",
     "output_type": "stream",
     "text": [
      "T\n",
      "P\n",
      "for loop else statement successfully executed\n"
     ]
    }
   ],
   "source": [
    "for i in ['T','P']:\n",
    "    print(i)\n",
    "else:\n",
    "    print(\"for loop else statement successfully executed\")"
   ]
  },
  {
   "cell_type": "markdown",
   "id": "6652fa80-0a66-4b08-ad1f-ed53019314b6",
   "metadata": {},
   "source": [
    "**for else construct with break statement,else statement is overlooked by interpreter hence its execution is skipped**"
   ]
  },
  {
   "cell_type": "code",
   "execution_count": 23,
   "id": "7e753920-16e2-4351-8064-784e872e82ef",
   "metadata": {},
   "outputs": [
    {
     "name": "stdout",
     "output_type": "stream",
     "text": [
      "T\n"
     ]
    }
   ],
   "source": [
    "for i in ['T','P']:\n",
    "    print(i)\n",
    "    break\n",
    "else:\n",
    "    #terminated after 1st iteration due to break statement in for loop\n",
    "    print(\"for loop else statement successfully executed\")"
   ]
  },
  {
   "cell_type": "markdown",
   "id": "db75df5b-beb1-4d10-aeae-a04d83557efe",
   "metadata": {},
   "source": [
    "**for else with break statement and if conditions**"
   ]
  },
  {
   "cell_type": "markdown",
   "id": "0fa1a225-ff91-4a3f-a335-1f072cea6cce",
   "metadata": {},
   "source": [
    "else block is executed when when a for loop terminates normally, meaning it completes all its iterations without "
   ]
  },
  {
   "cell_type": "code",
   "execution_count": 26,
   "id": "e799faea-de22-48c7-bf64-b9c39b875012",
   "metadata": {},
   "outputs": [
    {
     "name": "stdout",
     "output_type": "stream",
     "text": [
      "positive number\n",
      "positive number\n",
      "positive number\n",
      "loop else executed\n"
     ]
    }
   ],
   "source": [
    "# creating a function to check whether the list item is a positive or a negative number\n",
    "def positive_or_negative():\n",
    "    #traversing in a list\n",
    "    for i in [5,6,7]:\n",
    "        #checking whether the list element is greater than 0\n",
    "        if i>=0:\n",
    "            #printing positive numbers if it is greater than or equal to 0\n",
    "            print(\"positive number\")\n",
    "        else:\n",
    "            #printing negtive number and breaking the loop\n",
    "            print(\"negative number\")\n",
    "            break\n",
    "    else:\n",
    "        #statement inside the else block\n",
    "        print(\"loop else executed\")\n",
    "#calling above created function\n",
    "positive_or_negative()"
   ]
  },
  {
   "cell_type": "code",
   "execution_count": 28,
   "id": "bd6c6b95-3475-4c69-bc1f-0767f8a43c0c",
   "metadata": {},
   "outputs": [
    {
     "name": "stdout",
     "output_type": "stream",
     "text": [
      "positive number\n",
      "negative number\n"
     ]
    }
   ],
   "source": [
    "# creating a function to check whether the list item is a positive or a negative number\n",
    "def positive_or_negative():\n",
    "    #traversing in a list\n",
    "    for i in [5,-3,7]:\n",
    "        #checking whether the list element is greater than 0\n",
    "        if i>=0:\n",
    "            #printing positive numbers if it is greater than or equal to 0\n",
    "            print(\"positive number\")\n",
    "        else:\n",
    "            #printing negtive number and breaking the loop\n",
    "            print(\"negative number\")\n",
    "            break\n",
    "    else:\n",
    "        #statement inside the else block\n",
    "        print(\"loop else executed\")\n",
    "#calling above created function\n",
    "positive_or_negative()"
   ]
  },
  {
   "cell_type": "code",
   "execution_count": 30,
   "id": "8efac20f-210f-461d-9c63-47180d5b3ab7",
   "metadata": {},
   "outputs": [
    {
     "name": "stdout",
     "output_type": "stream",
     "text": [
      "positive number\n",
      "positive number\n",
      "negative number\n"
     ]
    }
   ],
   "source": [
    "# creating a function to check whether the list item is a positive or a negative number\n",
    "def positive_or_negative():\n",
    "    #traversing in a list\n",
    "    for i in [5,6,-5]:\n",
    "        #checking whether the list element is greater than 0\n",
    "        if i>=0:\n",
    "            #printing positive numbers if it is greater than or equal to 0\n",
    "            print(\"positive number\")\n",
    "        else:\n",
    "            #printing negtive number and breaking the loop\n",
    "            print(\"negative number\")\n",
    "            break\n",
    "    else:\n",
    "        #statement inside the else block\n",
    "        print(\"loop else executed\")\n",
    "#calling above created function\n",
    "positive_or_negative()"
   ]
  },
  {
   "cell_type": "code",
   "execution_count": 32,
   "id": "6e1f595e-0c62-42a7-b5b1-988c286e446a",
   "metadata": {},
   "outputs": [
    {
     "name": "stdout",
     "output_type": "stream",
     "text": [
      "negative number\n"
     ]
    }
   ],
   "source": [
    "# creating a function to check whether the list item is a positive or a negative number\n",
    "def positive_or_negative():\n",
    "    #traversing in a list\n",
    "    for i in [-3,6,7]:\n",
    "        #checking whether the list element is greater than 0\n",
    "        if i>=0:\n",
    "            #printing positive numbers if it is greater than or equal to 0\n",
    "            print(\"positive number\")\n",
    "        else:\n",
    "            #printing negtive number and breaking the loop\n",
    "            print(\"negative number\")\n",
    "            break\n",
    "    else:\n",
    "        #statement inside the else block\n",
    "        print(\"loop else executed\")\n",
    "#calling above created function\n",
    "positive_or_negative()"
   ]
  },
  {
   "cell_type": "code",
   "execution_count": 36,
   "id": "303dbc85-8c4b-4d63-b822-175e1fdac3d5",
   "metadata": {},
   "outputs": [
    {
     "name": "stdout",
     "output_type": "stream",
     "text": [
      "positive number\n",
      "negative number\n",
      "positive number\n",
      "loop else executed\n"
     ]
    }
   ],
   "source": [
    "# creating a function to check whether the list item is a positive or a negative number\n",
    "def positive_or_negative():\n",
    "    #traversing in a list\n",
    "    for i in [5,-8,7]:\n",
    "        #checking whether the list element is greater than 0\n",
    "        if i>=0:\n",
    "            #printing positive numbers if it is greater than or equal to 0\n",
    "            print(\"positive number\")\n",
    "        else:\n",
    "            #printing negtive number and breaking the loop\n",
    "            print(\"negative number\")\n",
    "           \n",
    "    else:\n",
    "        #statement inside the else block\n",
    "        print(\"loop else executed\")\n",
    "#calling above created function\n",
    "positive_or_negative()"
   ]
  },
  {
   "cell_type": "code",
   "execution_count": null,
   "id": "cb74f3c9-d986-4128-b883-9805ef5ecc6e",
   "metadata": {},
   "outputs": [],
   "source": []
  }
 ],
 "metadata": {
  "kernelspec": {
   "display_name": "Python 3 (ipykernel)",
   "language": "python",
   "name": "python3"
  },
  "language_info": {
   "codemirror_mode": {
    "name": "ipython",
    "version": 3
   },
   "file_extension": ".py",
   "mimetype": "text/x-python",
   "name": "python",
   "nbconvert_exporter": "python",
   "pygments_lexer": "ipython3",
   "version": "3.12.4"
  }
 },
 "nbformat": 4,
 "nbformat_minor": 5
}
