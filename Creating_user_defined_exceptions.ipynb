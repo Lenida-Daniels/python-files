{
 "cells": [
  {
   "cell_type": "markdown",
   "id": "9fd4449a-878e-45f8-8499-79ff31dd51e1",
   "metadata": {},
   "source": [
    "**User-Defined Exceptions** are custom errors classes that you create to handle specific error conditions in your code. They are derived from the built-in Exception class or any of its sub classes."
   ]
  },
  {
   "cell_type": "markdown",
   "id": "0445724a-ede8-4a5b-919c-667e5decde6a",
   "metadata": {},
   "source": [
    "**Step 1 -Define the Exception Class**"
   ]
  },
  {
   "cell_type": "code",
   "execution_count": 2,
   "id": "2141352b-a33c-4b02-958b-248991245016",
   "metadata": {},
   "outputs": [],
   "source": [
    "class MyCustomError(Exception): #a new class MyCustomError that inherits from Exception class\n",
    "    pass #empty body class\n",
    "    "
   ]
  },
  {
   "cell_type": "markdown",
   "id": "512ac4a1-f8aa-4604-a003-5650e25f6c3d",
   "metadata": {},
   "source": [
    "**Step 2 -Initialize the Exception**"
   ]
  },
  {
   "cell_type": "code",
   "execution_count": 13,
   "id": "9db82105-af2d-4f71-9e06-ae0c573ce3ed",
   "metadata": {},
   "outputs": [],
   "source": [
    "#define an exception class\n",
    "class InvalidAgeError(Exception): \n",
    "    \n",
    "    #implement '__init__' method to initialize necessary attributes.\n",
    "    #Define attributes such as 'age' and 'message' to store info about the error.\n",
    "    #default message is provided but you can override it when raising the exception.\n",
    "    \n",
    "    def __init__(self,age,message=\"Age must be between 18 and 100\"):  \n",
    "        self.age=age\n",
    "        self.message=message\n",
    "        super().__init__(self.message)# a call that ensures the base \"Exception\" class is properly initialized with the error message.\n",
    "        \n",
    "    \n",
    "    \n"
   ]
  },
  {
   "cell_type": "markdown",
   "id": "40321c1c-6dcb-45b4-ae6a-7c0aa2d6c49d",
   "metadata": {},
   "source": [
    "**Step 3 -Optionally Override \"__str__\" or \"__repr__\"** methods - provide a custom string representation of the exception. Useful for printing or logging the exception."
   ]
  },
  {
   "cell_type": "code",
   "execution_count": 22,
   "id": "df88dca5-3cbf-44e0-ae33-84d014e19e6a",
   "metadata": {},
   "outputs": [],
   "source": [
    "class InvalidAgeError(Exception):\n",
    "   def __init__(self, age, message=\"Age must be between 18 and 100\"):\n",
    "      self.age = age\n",
    "      self.message = message\n",
    "      super().__init__(self.message)\n",
    "       \n",
    "def __str__(self):#returns a string repr of the exception.This is what will be displayed when exception is printed.\n",
    "    return f\"{self.message}. Provided age:{self.age}\"#customized message that involves relevant info such as 'provided age'"
   ]
  },
  {
   "cell_type": "markdown",
   "id": "b06a3009-7763-4d1e-954a-939a9b1eacdf",
   "metadata": {},
   "source": [
    "**After creating an exception. Now raise an Exception.**"
   ]
  },
  {
   "cell_type": "raw",
   "id": "82d3ab0d-13e2-48e0-88ce-f57dd19e1936",
   "metadata": {},
   "source": [
    "#syntax of raising an Exception\n",
    "raise ExceptionType(args)\n"
   ]
  },
  {
   "cell_type": "code",
   "execution_count": 36,
   "id": "dab9fc2e-b989-44ed-8477-35f8de180bac",
   "metadata": {},
   "outputs": [
    {
     "name": "stdout",
     "output_type": "stream",
     "text": [
      "Age is set to 18\n"
     ]
    }
   ],
   "source": [
    "def set_age(age): #set_age function initialized.\n",
    "   if age < 18 or age > 100: #condition that causes an exception if not met.\n",
    "      raise InvalidAgeError(age)# raising an Exception\n",
    "   print(f\"Age is set to {age}\")\n",
    "set_age(18) #calling a method. No exception because 18 is within valid age."
   ]
  },
  {
   "cell_type": "code",
   "execution_count": 38,
   "id": "dddcafb0-53ff-4269-93d6-7f80c7967c0d",
   "metadata": {},
   "outputs": [
    {
     "ename": "InvalidAgeError",
     "evalue": "Age must be between 18 and 100",
     "output_type": "error",
     "traceback": [
      "\u001b[1;31m---------------------------------------------------------------------------\u001b[0m",
      "\u001b[1;31mInvalidAgeError\u001b[0m                           Traceback (most recent call last)",
      "Cell \u001b[1;32mIn[38], line 5\u001b[0m\n\u001b[0;32m      3\u001b[0m       \u001b[38;5;28;01mraise\u001b[39;00m InvalidAgeError(age)\n\u001b[0;32m      4\u001b[0m    \u001b[38;5;28mprint\u001b[39m(\u001b[38;5;124mf\u001b[39m\u001b[38;5;124m\"\u001b[39m\u001b[38;5;124mAge is set to \u001b[39m\u001b[38;5;132;01m{\u001b[39;00mage\u001b[38;5;132;01m}\u001b[39;00m\u001b[38;5;124m\"\u001b[39m)\n\u001b[1;32m----> 5\u001b[0m set_age(\u001b[38;5;241m104\u001b[39m)\n",
      "Cell \u001b[1;32mIn[38], line 3\u001b[0m, in \u001b[0;36mset_age\u001b[1;34m(age)\u001b[0m\n\u001b[0;32m      1\u001b[0m \u001b[38;5;28;01mdef\u001b[39;00m \u001b[38;5;21mset_age\u001b[39m(age):\n\u001b[0;32m      2\u001b[0m    \u001b[38;5;28;01mif\u001b[39;00m age \u001b[38;5;241m<\u001b[39m \u001b[38;5;241m18\u001b[39m \u001b[38;5;129;01mor\u001b[39;00m age \u001b[38;5;241m>\u001b[39m \u001b[38;5;241m100\u001b[39m:\n\u001b[1;32m----> 3\u001b[0m       \u001b[38;5;28;01mraise\u001b[39;00m InvalidAgeError(age)\n\u001b[0;32m      4\u001b[0m    \u001b[38;5;28mprint\u001b[39m(\u001b[38;5;124mf\u001b[39m\u001b[38;5;124m\"\u001b[39m\u001b[38;5;124mAge is set to \u001b[39m\u001b[38;5;132;01m{\u001b[39;00mage\u001b[38;5;132;01m}\u001b[39;00m\u001b[38;5;124m\"\u001b[39m)\n",
      "\u001b[1;31mInvalidAgeError\u001b[0m: Age must be between 18 and 100"
     ]
    }
   ],
   "source": [
    "def set_age(age):\n",
    "   if age < 18 or age > 100:\n",
    "      raise InvalidAgeError(age)\n",
    "   print(f\"Age is set to {age}\")\n",
    "set_age(104) #raises an exception because 104 is outside valid range."
   ]
  },
  {
   "cell_type": "code",
   "execution_count": 40,
   "id": "13ead5be-3d60-4138-b260-c2d8528d4df6",
   "metadata": {},
   "outputs": [
    {
     "name": "stdout",
     "output_type": "stream",
     "text": [
      "Age is set to 20\n"
     ]
    }
   ],
   "source": [
    "def set_age(age):\n",
    "   if age < 18 or age > 100:\n",
    "      raise InvalidAgeError(age)\n",
    "   print(f\"Age is set to {age}\")\n",
    "set_age(20)"
   ]
  },
  {
   "cell_type": "markdown",
   "id": "e8f54989-bacb-48c4-934e-c2ad92f31ac5",
   "metadata": {},
   "source": [
    "**Handling User-Defined Exceptions**"
   ]
  },
  {
   "cell_type": "code",
   "execution_count": 56,
   "id": "bb48f68f-aa9a-47a8-9591-69dda0b0a1da",
   "metadata": {},
   "outputs": [],
   "source": [
    "#syntax for handling exceptions\n",
    "try:\n",
    "    pass\n",
    "    #code that may raise an Exception\n",
    "except ExceptionType as e:\n",
    "    pass\n",
    "    #code to handle the exception"
   ]
  },
  {
   "cell_type": "code",
   "execution_count": 62,
   "id": "d989f4d7-64db-4388-a84d-d0bd059b020d",
   "metadata": {},
   "outputs": [
    {
     "name": "stdout",
     "output_type": "stream",
     "text": [
      "Invalid age: 120. Age must be between 18 and 100\n"
     ]
    }
   ],
   "source": [
    "try:\n",
    "   set_age(120)\n",
    "except InvalidAgeError as e:\n",
    "   print(f\"Invalid age: {e.age}. {e.message}\")"
   ]
  },
  {
   "cell_type": "markdown",
   "id": "70babc03-2bcd-4ad9-8092-d0e3027f826e",
   "metadata": {},
   "source": [
    "**Complete example of user-defined Exception**"
   ]
  },
  {
   "cell_type": "code",
   "execution_count": 61,
   "id": "3a40a78e-0321-4510-a534-d46d695652ad",
   "metadata": {},
   "outputs": [
    {
     "name": "stdout",
     "output_type": "stream",
     "text": [
      "Invalid age: 15. Age must be between 18 and 100\n"
     ]
    }
   ],
   "source": [
    "class InvalidAgeError(Exception):\n",
    "   def __init__(self, age, message=\"Age must be between 18 and 100\"):\n",
    "      self.age = age\n",
    "      self.message = message\n",
    "      super().__init__(self.message)\n",
    "\n",
    "   def __str__(self):\n",
    "     return f\"{self.message}. Provided age: {self.age}\"\n",
    "\n",
    "def set_age(age):\n",
    "   if age < 18 or age > 100:\n",
    "      raise InvalidAgeError(age)\n",
    "   print(f\"Age is set to {age}\")\n",
    "\n",
    "try:\n",
    "   set_age(15)\n",
    "except InvalidAgeError as e:\n",
    "   print(f\"Invalid age: {e.age}. {e.message}\")"
   ]
  },
  {
   "cell_type": "code",
   "execution_count": null,
   "id": "fd19fb37-b7ca-4711-885d-d41fa309ead1",
   "metadata": {},
   "outputs": [],
   "source": []
  }
 ],
 "metadata": {
  "kernelspec": {
   "display_name": "Python 3 (ipykernel)",
   "language": "python",
   "name": "python3"
  },
  "language_info": {
   "codemirror_mode": {
    "name": "ipython",
    "version": 3
   },
   "file_extension": ".py",
   "mimetype": "text/x-python",
   "name": "python",
   "nbconvert_exporter": "python",
   "pygments_lexer": "ipython3",
   "version": "3.12.4"
  }
 },
 "nbformat": 4,
 "nbformat_minor": 5
}
