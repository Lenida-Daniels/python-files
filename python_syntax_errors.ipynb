{
 "cells": [
  {
   "cell_type": "markdown",
   "id": "60ce4340-7105-414d-9dc6-baa6065bd68d",
   "metadata": {},
   "source": [
    "A syntax error in Python (or any programming language) is an error that occurs when the code does not follow the syntax rules of the language."
   ]
  },
  {
   "cell_type": "code",
   "execution_count": 2,
   "id": "336f9118-8dcd-4ba8-9f43-c1dedbaf97c0",
   "metadata": {},
   "outputs": [
    {
     "ename": "SyntaxError",
     "evalue": "expected ':' (1025102229.py, line 2)",
     "output_type": "error",
     "traceback": [
      "\u001b[1;36m  Cell \u001b[1;32mIn[2], line 2\u001b[1;36m\u001b[0m\n\u001b[1;33m    if True\u001b[0m\n\u001b[1;37m           ^\u001b[0m\n\u001b[1;31mSyntaxError\u001b[0m\u001b[1;31m:\u001b[0m expected ':'\n"
     ]
    }
   ],
   "source": [
    "# Error: Missing colon (:) after the if statement\n",
    "if True\n",
    "   print(\"This will cause a syntax error\")"
   ]
  },
  {
   "cell_type": "code",
   "execution_count": 6,
   "id": "6dd3b8e3-7831-459e-87b4-f913fdc82a75",
   "metadata": {},
   "outputs": [
    {
     "name": "stdout",
     "output_type": "stream",
     "text": [
      "This will not cause a syntax error\n"
     ]
    }
   ],
   "source": [
    "#correct one\n",
    "if True:\n",
    "   print(\"This will not cause a syntax error\")"
   ]
  },
  {
   "cell_type": "code",
   "execution_count": 9,
   "id": "bcc9f5c9-b949-4a88-8b10-4e610719ddd0",
   "metadata": {},
   "outputs": [
    {
     "ename": "IndentationError",
     "evalue": "expected an indented block after function definition on line 2 (512530700.py, line 3)",
     "output_type": "error",
     "traceback": [
      "\u001b[1;36m  Cell \u001b[1;32mIn[9], line 3\u001b[1;36m\u001b[0m\n\u001b[1;33m    print(\"This will cause a syntax error\")\u001b[0m\n\u001b[1;37m    ^\u001b[0m\n\u001b[1;31mIndentationError\u001b[0m\u001b[1;31m:\u001b[0m expected an indented block after function definition on line 2\n"
     ]
    }
   ],
   "source": [
    "# Error: The print statement is not correctly indented\n",
    "def example_function():\n",
    "print(\"This will cause a syntax error\")"
   ]
  },
  {
   "cell_type": "code",
   "execution_count": 19,
   "id": "90f3693a-3991-4f16-896e-e6ddad73a4d1",
   "metadata": {},
   "outputs": [
    {
     "name": "stdout",
     "output_type": "stream",
     "text": [
      "This will not cause a syntax error\n"
     ]
    }
   ],
   "source": [
    "#correct one\n",
    "def example_function():\n",
    "    \n",
    "    print(\"This will not cause a syntax error\")\n",
    "example_function()  #calling the function  "
   ]
  },
  {
   "cell_type": "code",
   "execution_count": 21,
   "id": "f2b30af7-4bd4-492b-ad40-16632b61e421",
   "metadata": {},
   "outputs": [
    {
     "ename": "NameError",
     "evalue": "name 'prnt' is not defined",
     "output_type": "error",
     "traceback": [
      "\u001b[1;31m---------------------------------------------------------------------------\u001b[0m",
      "\u001b[1;31mNameError\u001b[0m                                 Traceback (most recent call last)",
      "Cell \u001b[1;32mIn[21], line 2\u001b[0m\n\u001b[0;32m      1\u001b[0m \u001b[38;5;66;03m# Error: 'print' is misspelled as 'prnt'\u001b[39;00m\n\u001b[1;32m----> 2\u001b[0m prnt(\u001b[38;5;124m\"\u001b[39m\u001b[38;5;124mHello, World!\u001b[39m\u001b[38;5;124m\"\u001b[39m)\n",
      "\u001b[1;31mNameError\u001b[0m: name 'prnt' is not defined"
     ]
    }
   ],
   "source": [
    "# Error: 'print' is misspelled as 'prnt'\n",
    "prnt(\"Hello, World!\")  "
   ]
  },
  {
   "cell_type": "code",
   "execution_count": 23,
   "id": "2817822a-a2eb-44cb-9ba3-ee9419501328",
   "metadata": {},
   "outputs": [
    {
     "name": "stdout",
     "output_type": "stream",
     "text": [
      "Hello, World!\n"
     ]
    }
   ],
   "source": [
    "# correct one\n",
    "print(\"Hello, World!\")  "
   ]
  },
  {
   "cell_type": "code",
   "execution_count": 25,
   "id": "bbc6a460-700f-48d7-8ec6-8e01319d8805",
   "metadata": {},
   "outputs": [
    {
     "ename": "SyntaxError",
     "evalue": "incomplete input (3907029265.py, line 2)",
     "output_type": "error",
     "traceback": [
      "\u001b[1;36m  Cell \u001b[1;32mIn[25], line 2\u001b[1;36m\u001b[0m\n\u001b[1;33m    print(\"This will cause a syntax error\"\u001b[0m\n\u001b[1;37m                                          ^\u001b[0m\n\u001b[1;31mSyntaxError\u001b[0m\u001b[1;31m:\u001b[0m incomplete input\n"
     ]
    }
   ],
   "source": [
    "# Error: The closing parenthesis is missing.\n",
    "print(\"This will cause a syntax error\""
   ]
  },
  {
   "cell_type": "code",
   "execution_count": 29,
   "id": "e6fb7673-62c4-4485-af1e-a7411a8cd008",
   "metadata": {},
   "outputs": [
    {
     "name": "stdout",
     "output_type": "stream",
     "text": [
      "This will not cause a syntax error\n"
     ]
    }
   ],
   "source": [
    "# correct one\n",
    "print(\"This will not cause a syntax error\")"
   ]
  },
  {
   "cell_type": "code",
   "execution_count": null,
   "id": "7cdfe2eb-0aa4-4c7a-ae3a-ea9971c2721f",
   "metadata": {},
   "outputs": [],
   "source": []
  }
 ],
 "metadata": {
  "kernelspec": {
   "display_name": "Python 3 (ipykernel)",
   "language": "python",
   "name": "python3"
  },
  "language_info": {
   "codemirror_mode": {
    "name": "ipython",
    "version": 3
   },
   "file_extension": ".py",
   "mimetype": "text/x-python",
   "name": "python",
   "nbconvert_exporter": "python",
   "pygments_lexer": "ipython3",
   "version": "3.12.4"
  }
 },
 "nbformat": 4,
 "nbformat_minor": 5
}
