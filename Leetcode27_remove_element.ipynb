{
  "nbformat": 4,
  "nbformat_minor": 0,
  "metadata": {
    "colab": {
      "provenance": []
    },
    "kernelspec": {
      "name": "python3",
      "display_name": "Python 3"
    },
    "language_info": {
      "name": "python"
    }
  },
  "cells": [
    {
      "cell_type": "code",
      "source": [
        "def removeElement(nums, val):\n",
        "    k = 0  # This will keep track of the position for the next valid element\n",
        "    for i in range(len(nums)):\n",
        "        if nums[i] != val:\n",
        "            nums[k] = nums[i]\n",
        "            k += 1\n",
        "\n",
        "    return k\n",
        "\n",
        "\n",
        "nums=[1,2,2,3,4,6,8,3]\n",
        "val=3\n",
        "removeElement(nums,val)\n"
      ],
      "metadata": {
        "colab": {
          "base_uri": "https://localhost:8080/"
        },
        "id": "BFMCydUcat86",
        "outputId": "607af72f-876e-4243-98fb-fbb33520a555"
      },
      "execution_count": 12,
      "outputs": [
        {
          "output_type": "execute_result",
          "data": {
            "text/plain": [
              "6"
            ]
          },
          "metadata": {},
          "execution_count": 12
        }
      ]
    },
    {
      "cell_type": "code",
      "source": [
        "def removeElement(nums, val):\n",
        "    k = 0  # This will keep track of the position for the next valid element\n",
        "    for i in range(len(nums)):\n",
        "        if nums[i] != val:\n",
        "            nums[k] = nums[i]\n",
        "            k += 1\n",
        "\n",
        "    return nums[:k]\n",
        "\n",
        "\n",
        "nums=[1,2,2,3,4,6,8,3]\n",
        "val=3\n",
        "removeElement(nums,val)"
      ],
      "metadata": {
        "id": "KK3hCqpZdpUg",
        "outputId": "0cc8769c-6401-4cee-8bef-78b4aff13a32",
        "colab": {
          "base_uri": "https://localhost:8080/"
        }
      },
      "execution_count": 13,
      "outputs": [
        {
          "output_type": "execute_result",
          "data": {
            "text/plain": [
              "[1, 2, 2, 4, 6, 8]"
            ]
          },
          "metadata": {},
          "execution_count": 13
        }
      ]
    },
    {
      "cell_type": "code",
      "source": [
        "def removeElement(nums, val):\n",
        "    k = 0  # This will keep track of the position for the next valid element\n",
        "    for i in range(len(nums)):\n",
        "        if nums[i] != val:\n",
        "            nums[k] = nums[i]\n",
        "            k += 1\n",
        "            print(nums[:k])\n",
        "\n",
        "    return k\n",
        "\n",
        "\n",
        "nums=[1,2,2,3,4,6,8,3]\n",
        "val=3\n",
        "removeElement(nums,val)"
      ],
      "metadata": {
        "id": "AKSUvsfIe34k",
        "outputId": "95ef7bdf-8f57-430e-f1aa-ea2ffa5d50e0",
        "colab": {
          "base_uri": "https://localhost:8080/"
        }
      },
      "execution_count": 15,
      "outputs": [
        {
          "output_type": "stream",
          "name": "stdout",
          "text": [
            "[1]\n",
            "[1, 2]\n",
            "[1, 2, 2]\n",
            "[1, 2, 2, 4]\n",
            "[1, 2, 2, 4, 6]\n",
            "[1, 2, 2, 4, 6, 8]\n"
          ]
        },
        {
          "output_type": "execute_result",
          "data": {
            "text/plain": [
              "6"
            ]
          },
          "metadata": {},
          "execution_count": 15
        }
      ]
    },
    {
      "cell_type": "code",
      "source": [
        "def removeElement(nums, val):\n",
        "    k = 0  # This will keep track of the position for the next valid element\n",
        "    for i in range(len(nums)):\n",
        "        if nums[i] != val:\n",
        "            nums[k] = nums[i]\n",
        "            k += 1\n",
        "    #sort the first k elements\n",
        "    return sorted(nums[:k])\n",
        "\n",
        "\n",
        "nums=[9,2,2,3,4,6,8,3]\n",
        "val=3\n",
        "removeElement(nums,val)"
      ],
      "metadata": {
        "id": "QvZE09orfC2U",
        "outputId": "d3470727-f1bf-4b84-d95f-98c3e44e5115",
        "colab": {
          "base_uri": "https://localhost:8080/"
        }
      },
      "execution_count": 20,
      "outputs": [
        {
          "output_type": "execute_result",
          "data": {
            "text/plain": [
              "[2, 2, 4, 6, 8, 9]"
            ]
          },
          "metadata": {},
          "execution_count": 20
        }
      ]
    },
    {
      "cell_type": "code",
      "source": [],
      "metadata": {
        "id": "CoxYxqiZgRH9"
      },
      "execution_count": null,
      "outputs": []
    }
  ]
}