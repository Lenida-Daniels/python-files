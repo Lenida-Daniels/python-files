{
 "cells": [
  {
   "cell_type": "code",
   "execution_count": null,
   "id": "58141f26-b6cf-45a5-a65c-d09fb197cafe",
   "metadata": {},
   "outputs": [],
   "source": [
    "def login_username():\n",
    "    input(\"Enter Username:\")    \n",
    "login_username()"
   ]
  },
  {
   "cell_type": "code",
   "execution_count": 2,
   "id": "9c80fae0-3968-497c-b8c7-38c71cdc81a9",
   "metadata": {},
   "outputs": [
    {
     "name": "stdin",
     "output_type": "stream",
     "text": [
      "Enter password: ········\n"
     ]
    }
   ],
   "source": [
    "import getpass\n",
    "def login_password():\n",
    "    getpass.getpass(prompt=\"Enter password:\")\n",
    "       \n",
    "login_password()"
   ]
  },
  {
   "cell_type": "code",
   "execution_count": null,
   "id": "bb23c46d-e3cc-472f-b913-50add84d62cb",
   "metadata": {},
   "outputs": [],
   "source": []
  }
 ],
 "metadata": {
  "kernelspec": {
   "display_name": "Python 3 (ipykernel)",
   "language": "python",
   "name": "python3"
  },
  "language_info": {
   "codemirror_mode": {
    "name": "ipython",
    "version": 3
   },
   "file_extension": ".py",
   "mimetype": "text/x-python",
   "name": "python",
   "nbconvert_exporter": "python",
   "pygments_lexer": "ipython3",
   "version": "3.12.4"
  }
 },
 "nbformat": 4,
 "nbformat_minor": 5
}
