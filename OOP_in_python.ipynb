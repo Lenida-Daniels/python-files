{
  "nbformat": 4,
  "nbformat_minor": 0,
  "metadata": {
    "colab": {
      "provenance": []
    },
    "kernelspec": {
      "name": "python3",
      "display_name": "Python 3"
    },
    "language_info": {
      "name": "python"
    }
  },
  "cells": [
    {
      "cell_type": "code",
      "execution_count": null,
      "metadata": {
        "colab": {
          "base_uri": "https://localhost:8080/"
        },
        "id": "VyMfpvdWCy6R",
        "outputId": "146c860c-5f10-4d0f-c598-b49c9661f006"
      },
      "outputs": [
        {
          "output_type": "stream",
          "name": "stdout",
          "text": [
            "john\n",
            "36\n"
          ]
        }
      ],
      "source": [
        "#class instantiation\n",
        "class person:\n",
        "    def __init__(self,name,age): #constructor method\n",
        "        self.name=name #attribute(instance variable)\n",
        "        self.age=age #attribute\n",
        "\n",
        "\n",
        "\n",
        "\n",
        "p1=person(\"john\",36)\n",
        "print(p1.name)\n",
        "print(p1.age)\n",
        "\n"
      ]
    },
    {
      "cell_type": "code",
      "source": [
        "p2=person(\"jane\",25)\n",
        "print(p2.name)\n",
        "print(p2.age)"
      ],
      "metadata": {
        "colab": {
          "base_uri": "https://localhost:8080/"
        },
        "id": "MJuXJoFgKSo6",
        "outputId": "40fbc535-8b03-4e84-fe27-4ed98eb45da9"
      },
      "execution_count": null,
      "outputs": [
        {
          "output_type": "stream",
          "name": "stdout",
          "text": [
            "jane\n",
            "25\n"
          ]
        }
      ]
    },
    {
      "cell_type": "code",
      "source": [
        "class animal:\n",
        "  acount=0 #class variable-accessible everywhere\n",
        "  def __init__(self):\n",
        "    self.name=\"animal\"\n",
        "    self.color=\"black\"\n",
        "    animal.acount=50#class variable is only accessible using the name of the class\n",
        "\n",
        "  def move(self):#method/member function - it is a public method\n",
        "    print(self.name,\"is moving\")\n",
        "\n",
        "  def __eat__(self): #private method\n",
        "    print(self.name,\"is eating\")\n",
        "  def __sleep(self): #protected method\n",
        "    print(self.name,\"is sleeping\")\n"
      ],
      "metadata": {
        "id": "Wjp66qQAIOhr"
      },
      "execution_count": null,
      "outputs": []
    },
    {
      "cell_type": "code",
      "source": [
        "animal1=animal()\n",
        "animal1.move()"
      ],
      "metadata": {
        "colab": {
          "base_uri": "https://localhost:8080/"
        },
        "id": "WQY_QirGI6qW",
        "outputId": "0c56f353-4c27-483c-9f69-5cfe2ecedf61"
      },
      "execution_count": null,
      "outputs": [
        {
          "output_type": "stream",
          "name": "stdout",
          "text": [
            "animal is moving\n"
          ]
        }
      ]
    },
    {
      "cell_type": "code",
      "source": [
        "animal2=animal()\n",
        "animal2.move()"
      ],
      "metadata": {
        "colab": {
          "base_uri": "https://localhost:8080/"
        },
        "id": "hpoDp1HxNLa7",
        "outputId": "46f8e93f-e744-400b-ce0e-5dab9c6fff0e"
      },
      "execution_count": null,
      "outputs": [
        {
          "output_type": "stream",
          "name": "stdout",
          "text": [
            "animal is moving\n"
          ]
        }
      ]
    },
    {
      "cell_type": "code",
      "source": [
        "animal1.acount"
      ],
      "metadata": {
        "colab": {
          "base_uri": "https://localhost:8080/"
        },
        "id": "RYfThvDjLfX5",
        "outputId": "3dafc897-6de5-4bce-9742-80490386387e"
      },
      "execution_count": null,
      "outputs": [
        {
          "output_type": "execute_result",
          "data": {
            "text/plain": [
              "50"
            ]
          },
          "metadata": {},
          "execution_count": 16
        }
      ]
    },
    {
      "cell_type": "code",
      "source": [
        "animal2.acount"
      ],
      "metadata": {
        "colab": {
          "base_uri": "https://localhost:8080/"
        },
        "id": "0g1JEY6HMp5v",
        "outputId": "3d547abe-c080-4616-a672-d3f02c622838"
      },
      "execution_count": null,
      "outputs": [
        {
          "output_type": "execute_result",
          "data": {
            "text/plain": [
              "50"
            ]
          },
          "metadata": {},
          "execution_count": 18
        }
      ]
    },
    {
      "cell_type": "code",
      "source": [
        "hasattr(animal1,\"name\")\n"
      ],
      "metadata": {
        "colab": {
          "base_uri": "https://localhost:8080/"
        },
        "id": "QQzEu0t_NRxc",
        "outputId": "bf021cdb-7c4d-49fd-c7fb-1d7dc68a9b6f"
      },
      "execution_count": null,
      "outputs": [
        {
          "output_type": "execute_result",
          "data": {
            "text/plain": [
              "True"
            ]
          },
          "metadata": {},
          "execution_count": 25
        }
      ]
    },
    {
      "cell_type": "code",
      "source": [
        "getattr(animal1,\"name\")"
      ],
      "metadata": {
        "colab": {
          "base_uri": "https://localhost:8080/",
          "height": 35
        },
        "id": "EuYG81DfN5qm",
        "outputId": "2a97fe81-82fa-42d5-f613-5b743230829c"
      },
      "execution_count": null,
      "outputs": [
        {
          "output_type": "execute_result",
          "data": {
            "text/plain": [
              "'animal'"
            ],
            "application/vnd.google.colaboratory.intrinsic+json": {
              "type": "string"
            }
          },
          "metadata": {},
          "execution_count": 26
        }
      ]
    },
    {
      "cell_type": "code",
      "source": [
        "delattr(animal1,\"name\")"
      ],
      "metadata": {
        "id": "dzWLNTbHOhEF"
      },
      "execution_count": null,
      "outputs": []
    },
    {
      "cell_type": "code",
      "source": [
        "hasattr(animal1,\"name\")"
      ],
      "metadata": {
        "colab": {
          "base_uri": "https://localhost:8080/"
        },
        "id": "QpqLYgeBQB15",
        "outputId": "7f8c92d2-8b41-4232-c83d-b814099db599"
      },
      "execution_count": null,
      "outputs": [
        {
          "output_type": "execute_result",
          "data": {
            "text/plain": [
              "False"
            ]
          },
          "metadata": {},
          "execution_count": 28
        }
      ]
    },
    {
      "cell_type": "code",
      "source": [
        "#inheritance\n",
        "class mammal(animal):\n",
        "  def __init__(self,name,color):\n",
        "    super().__init__()\n",
        "    self.name=name\n",
        "    self.color=color\n",
        "\n",
        "\n"
      ],
      "metadata": {
        "id": "h2p6xYgsQIdo"
      },
      "execution_count": null,
      "outputs": []
    },
    {
      "cell_type": "code",
      "source": [
        "class student(person):\n",
        "  'inheritance example'\n",
        "  def __init__(self,name,regno):\n",
        "    self.fullname=name\n",
        "    self.regno=regno\n",
        "    self.units=[\"python\"]\n",
        "  def registerunits(self,units):\n",
        "    print(self.units)\n"
      ],
      "metadata": {
        "id": "PvyS-QYyRqhB"
      },
      "execution_count": null,
      "outputs": []
    },
    {
      "cell_type": "code",
      "source": [
        "std1=student(\"john\",36)"
      ],
      "metadata": {
        "id": "xr75GeEaR5eM"
      },
      "execution_count": null,
      "outputs": []
    },
    {
      "cell_type": "code",
      "source": [
        "std1.registerunits(\"py\")"
      ],
      "metadata": {
        "colab": {
          "base_uri": "https://localhost:8080/"
        },
        "id": "en2RPus8SFE9",
        "outputId": "1f6c49a4-3f64-4789-ef46-c831f980ba8a"
      },
      "execution_count": null,
      "outputs": [
        {
          "output_type": "stream",
          "name": "stdout",
          "text": [
            "['python']\n"
          ]
        }
      ]
    },
    {
      "cell_type": "code",
      "source": [],
      "metadata": {
        "id": "oJ6q0y-UTwTd"
      },
      "execution_count": null,
      "outputs": []
    }
  ]
}