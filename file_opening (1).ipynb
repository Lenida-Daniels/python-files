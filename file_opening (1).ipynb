{
 "cells": [
  {
   "cell_type": "markdown",
   "id": "8f816cb8-7507-4ec1-98a3-306e22c76e99",
   "metadata": {},
   "source": [
    "**Opening a file in python** - python's built in open() function is used to open files in various modes; reading,writing and appending"
   ]
  },
  {
   "cell_type": "code",
   "execution_count": 1,
   "id": "0e00409d-5fe5-4663-b74c-6174629f673f",
   "metadata": {},
   "outputs": [],
   "source": [
    "#syntax\n",
    "#file=open(\"filename\",\"mode\")"
   ]
  },
  {
   "cell_type": "code",
   "execution_count": 5,
   "id": "0d55ac9b-9b61-42c2-8aeb-c9afc3b40ae7",
   "metadata": {},
   "outputs": [],
   "source": [
    "#opening a file in read mode\n",
    "file=open(\"function.ipynb\",\"r\")"
   ]
  },
  {
   "cell_type": "code",
   "execution_count": 7,
   "id": "5a9cc30c-aef9-490d-b995-992f5306e77d",
   "metadata": {},
   "outputs": [],
   "source": [
    "#opening a file in write mode\n",
    "file=open(\"function.ipynb\",\"w\")"
   ]
  },
  {
   "cell_type": "code",
   "execution_count": 9,
   "id": "c7043f94-37c4-4cc0-8fae-5ad9af8cb81c",
   "metadata": {},
   "outputs": [],
   "source": [
    "#opening a file in append mode\n",
    "file=open(\"function.ipynb\",\"a\")"
   ]
  },
  {
   "cell_type": "code",
   "execution_count": 11,
   "id": "6a0a6dd4-7f7c-45fa-a76e-0e807ca6e9d9",
   "metadata": {},
   "outputs": [],
   "source": [
    "#opening a file in binary read mode\n",
    "file=open(\"function.ipynb\",\"rb\")"
   ]
  },
  {
   "cell_type": "code",
   "execution_count": null,
   "id": "5ea64458-cfb4-4075-8c74-66b5538f2f77",
   "metadata": {},
   "outputs": [],
   "source": []
  }
 ],
 "metadata": {
  "kernelspec": {
   "display_name": "Python 3 (ipykernel)",
   "language": "python",
   "name": "python3"
  },
  "language_info": {
   "codemirror_mode": {
    "name": "ipython",
    "version": 3
   },
   "file_extension": ".py",
   "mimetype": "text/x-python",
   "name": "python",
   "nbconvert_exporter": "python",
   "pygments_lexer": "ipython3",
   "version": "3.12.4"
  }
 },
 "nbformat": 4,
 "nbformat_minor": 5
}
