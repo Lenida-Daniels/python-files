{
 "cells": [
  {
   "cell_type": "code",
   "execution_count": null,
   "id": "bbffcbf3-4473-42ea-b5e9-12e113d6b223",
   "metadata": {},
   "outputs": [
    {
     "name": "stdin",
     "output_type": "stream",
     "text": [
      "enter name xyz\n"
     ]
    }
   ],
   "source": [
    "def user_login(name):\n",
    "    str(input(\"enter name\"))\n",
    "print(user_login(\"\"))"
   ]
  },
  {
   "cell_type": "code",
   "execution_count": 13,
   "id": "43cb693d-67e6-464a-9025-305b33e30b17",
   "metadata": {},
   "outputs": [
    {
     "name": "stdout",
     "output_type": "stream",
     "text": [
      "hello world\n"
     ]
    }
   ],
   "source": [
    "def dosomething():\n",
    "    \"this is a function\" #documentation\n",
    "    print(\"hello world\")\n",
    "dosomething()"
   ]
  },
  {
   "cell_type": "code",
   "execution_count": 15,
   "id": "907adb70-3614-4553-8ae3-163750f68562",
   "metadata": {},
   "outputs": [
    {
     "data": {
      "text/plain": [
       "<function __main__.dosomething()>"
      ]
     },
     "execution_count": 15,
     "metadata": {},
     "output_type": "execute_result"
    }
   ],
   "source": [
    "dosomething"
   ]
  },
  {
   "cell_type": "code",
   "execution_count": 27,
   "id": "cc9ef714-afd3-4663-8074-492e4be2bfe6",
   "metadata": {},
   "outputs": [
    {
     "name": "stdout",
     "output_type": "stream",
     "text": [
      "8\n"
     ]
    }
   ],
   "source": [
    "def add2num(a,b):\n",
    "    print(a+b)\n",
    "    return None\n",
    "add2num(3,5)"
   ]
  },
  {
   "cell_type": "code",
   "execution_count": 29,
   "id": "2e1f71e8-f50f-4a83-a0dd-1b0fedd75acb",
   "metadata": {},
   "outputs": [
    {
     "data": {
      "text/plain": [
       "8"
      ]
     },
     "execution_count": 29,
     "metadata": {},
     "output_type": "execute_result"
    }
   ],
   "source": [
    "def add2num(a,b):\n",
    "    ans=a+b\n",
    "\n",
    "    return ans\n",
    "add2num(3,5)"
   ]
  },
  {
   "cell_type": "markdown",
   "id": "e81a30d1-4718-48ab-830c-e81ebe904eb5",
   "metadata": {},
   "source": [
    "**Good practice**- using print() when calling function"
   ]
  },
  {
   "cell_type": "code",
   "execution_count": 32,
   "id": "0c62c6a5-8214-4caf-ac19-12b05dcd8d71",
   "metadata": {},
   "outputs": [
    {
     "name": "stdout",
     "output_type": "stream",
     "text": [
      "8\n"
     ]
    }
   ],
   "source": [
    "def add2num(a,b):\n",
    "    ans=a+b\n",
    "\n",
    "    return ans\n",
    "print(add2num(3,5))"
   ]
  },
  {
   "cell_type": "raw",
   "id": "5a49530f-914d-4f22-9fce-fb0934a43d0c",
   "metadata": {},
   "source": [
    "a*=a this is square"
   ]
  },
  {
   "cell_type": "code",
   "execution_count": 44,
   "id": "53d65340-b5ee-4254-9aa1-92600a43d9ab",
   "metadata": {},
   "outputs": [
    {
     "name": "stdout",
     "output_type": "stream",
     "text": [
      "[3, 4, 5, 6, 3, 4, 5, 6]\n",
      "[555, 4, 5, 6]\n"
     ]
    }
   ],
   "source": [
    "def add2num(a):\n",
    "    ans=a+a\n",
    "    a[0]=555\n",
    "\n",
    "    return ans\n",
    "x=[3,4,5,6]\n",
    "print(add2num(x))\n",
    "print(x)\n"
   ]
  },
  {
   "cell_type": "code",
   "execution_count": 66,
   "id": "4f99bafb-160a-44ad-84c8-a92768309ea5",
   "metadata": {},
   "outputs": [
    {
     "name": "stdout",
     "output_type": "stream",
     "text": [
      "9\n"
     ]
    }
   ],
   "source": [
    "def add2num(a,b):\n",
    "    ans=a+b\n",
    "   \n",
    "    return ans\n",
    "x=5\n",
    "y=4\n",
    "print(add2num(x,y))"
   ]
  },
  {
   "cell_type": "code",
   "execution_count": 78,
   "id": "9b653a2f-13d5-41f8-8514-a53d09a1d35f",
   "metadata": {},
   "outputs": [
    {
     "name": "stdout",
     "output_type": "stream",
     "text": [
      "15\n"
     ]
    }
   ],
   "source": [
    "def add2num(a,b=1):\n",
    "    ans=a+b \n",
    "    return ans\n",
    "\n",
    "print(add2num(5,10))#required argument"
   ]
  },
  {
   "cell_type": "code",
   "execution_count": 80,
   "id": "1920ab36-de23-42a1-9353-8baa346e0568",
   "metadata": {},
   "outputs": [
    {
     "name": "stdout",
     "output_type": "stream",
     "text": [
      "6\n"
     ]
    }
   ],
   "source": [
    "def add2num(a,b=1):\n",
    "    ans=a+b \n",
    "    return ans\n",
    "\n",
    "print(add2num(5))#default argument used"
   ]
  },
  {
   "cell_type": "code",
   "execution_count": 82,
   "id": "b73c6b90-f644-4c32-9263-6d0509cd8088",
   "metadata": {},
   "outputs": [
    {
     "name": "stdout",
     "output_type": "stream",
     "text": [
      "20\n"
     ]
    }
   ],
   "source": [
    "def add2num(a,b=1):\n",
    "    ans=a+b \n",
    "    return ans\n",
    "x=10\n",
    "y=10\n",
    "print(add2num(a=x,b=y)) #keyword argument"
   ]
  },
  {
   "cell_type": "code",
   "execution_count": 114,
   "id": "9e6a3fee-a3fa-4d46-b02a-26119f36013b",
   "metadata": {},
   "outputs": [
    {
     "name": "stdout",
     "output_type": "stream",
     "text": [
      "(5, 5, 10, 6, 7, 8)\n",
      "40\n",
      "(5, 5, 10)\n",
      "12\n",
      "None\n"
     ]
    }
   ],
   "source": [
    "def add2num(a,*b): #variable length argument\n",
    "    print(b)\n",
    "    ans=a*b[2]\n",
    "    print(ans)\n",
    "    print(b[0:3])\n",
    "    for item in b:\n",
    "        item=a+b[5]\n",
    "        print(item)\n",
    "        break\n",
    "    return \n",
    "x=4\n",
    "y=5\n",
    "print(add2num(x,y,5,10,6,7,8))"
   ]
  },
  {
   "cell_type": "raw",
   "id": "702e2107-1ad0-453d-8a84-8d58e36e6911",
   "metadata": {},
   "source": [
    "inline function has no loop and can't be recursive"
   ]
  },
  {
   "cell_type": "markdown",
   "id": "f6a9f3c6-fade-4b17-a4f5-f57a94280ef0",
   "metadata": {},
   "source": [
    "**Anonymous function**"
   ]
  },
  {
   "cell_type": "code",
   "execution_count": 116,
   "id": "8a8bda8b-dae5-4617-b609-60bfa2030443",
   "metadata": {},
   "outputs": [
    {
     "name": "stdout",
     "output_type": "stream",
     "text": [
      "1539.972\n"
     ]
    }
   ],
   "source": [
    "#anonymous function\n",
    "    \n",
    "calcol=lambda r,h:3.1428*r*r*h\n",
    "print(calcol(7,10))"
   ]
  },
  {
   "cell_type": "code",
   "execution_count": 161,
   "id": "c5118daa-bbd4-4eec-98d1-d4c3ecb3c19b",
   "metadata": {},
   "outputs": [
    {
     "name": "stdout",
     "output_type": "stream",
     "text": [
      "(5, 5, 10, 6, 7, 8)\n",
      "8.0\n",
      "8.0\n",
      "4.0\n",
      "6.666666666666667\n",
      "5.714285714285714\n",
      "5.0\n",
      "5.0\n"
     ]
    }
   ],
   "source": [
    "def add2num(a,*b): #variable length argument\n",
    "    print(b)\n",
    "    \n",
    "    for item in b:\n",
    "        #print(item)\n",
    "        ans=a/item\n",
    "        print(ans)\n",
    "       \n",
    "    return ans\n",
    "x=40\n",
    "y=5\n",
    "print(add2num(x,y,5,10,6,7,8))"
   ]
  },
  {
   "cell_type": "code",
   "execution_count": null,
   "id": "297cad09-c6c9-4c63-9b19-f42fea725b2f",
   "metadata": {},
   "outputs": [],
   "source": []
  }
 ],
 "metadata": {
  "kernelspec": {
   "display_name": "Python 3 (ipykernel)",
   "language": "python",
   "name": "python3"
  },
  "language_info": {
   "codemirror_mode": {
    "name": "ipython",
    "version": 3
   },
   "file_extension": ".py",
   "mimetype": "text/x-python",
   "name": "python",
   "nbconvert_exporter": "python",
   "pygments_lexer": "ipython3",
   "version": "3.12.4"
  }
 },
 "nbformat": 4,
 "nbformat_minor": 5
}
