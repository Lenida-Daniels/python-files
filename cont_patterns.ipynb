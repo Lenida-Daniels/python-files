{
 "cells": [
  {
   "cell_type": "markdown",
   "id": "c150bc3b-441a-4c19-af13-3cd0a16b5038",
   "metadata": {},
   "source": [
    "**Hollow square pattern**"
   ]
  },
  {
   "cell_type": "code",
   "execution_count": 13,
   "id": "35067790-36d1-4379-8e6c-04919227cdee",
   "metadata": {},
   "outputs": [
    {
     "name": "stdout",
     "output_type": "stream",
     "text": [
      "*****\n",
      "*   *\n",
      "*   *\n",
      "*   *\n",
      "*****\n"
     ]
    }
   ],
   "source": [
    "def patternA(rows): \n",
    "    for i in range(rows): \n",
    "        if i==0 or i==rows-1:\n",
    "            print(\"*\"*rows) \n",
    "        else:\n",
    "             print(\"*\"+\" \"*(rows-2)+\"*\")\n",
    "rows=5\n",
    "patternA(rows)\n"
   ]
  },
  {
   "cell_type": "markdown",
   "id": "1240b5cf-93a2-4256-b47a-2c524d276435",
   "metadata": {},
   "source": [
    "**Numbered Pattern**"
   ]
  },
  {
   "cell_type": "code",
   "execution_count": 45,
   "id": "e2ed5e7a-2911-4613-ad1c-4cca5441ee79",
   "metadata": {},
   "outputs": [
    {
     "name": "stdout",
     "output_type": "stream",
     "text": [
      "0 \n",
      "0 1 \n",
      "0 1 2 \n",
      "0 1 2 3 \n",
      "0 1 2 3 4 \n"
     ]
    }
   ],
   "source": [
    "def patternB(rows): \n",
    "    for i in range(rows): \n",
    "        for j in range(i+1):\n",
    "            print(j,end=\" \")\n",
    "        print()\n",
    "patternB(rows)"
   ]
  },
  {
   "cell_type": "markdown",
   "id": "ab1a2ca7-4213-4525-ad6b-32e753197350",
   "metadata": {},
   "source": [
    "**Alphabetical Pattern**"
   ]
  },
  {
   "cell_type": "code",
   "execution_count": 39,
   "id": "376666a1-a616-44e8-93da-223571fbc9c7",
   "metadata": {},
   "outputs": [
    {
     "name": "stdout",
     "output_type": "stream",
     "text": [
      "A \n",
      "A B \n",
      "A B C \n",
      "A B C D \n",
      "A B C D E \n"
     ]
    }
   ],
   "source": [
    "def patternC(rows): \n",
    "    for i in range(rows): \n",
    "        for j in range(i+1):\n",
    "            print(chr(65+j),end=\" \")#65 is ASCII FOR 'A'\n",
    "        print()\n",
    "patternC(rows)"
   ]
  },
  {
   "cell_type": "code",
   "execution_count": 43,
   "id": "0b725e2d-8f10-46be-8b6b-67541628d9c2",
   "metadata": {},
   "outputs": [
    {
     "name": "stdout",
     "output_type": "stream",
     "text": [
      "1 \n",
      "1 0 \n",
      "1 0 1 \n",
      "1 0 1 0 \n",
      "1 0 1 0 1 \n"
     ]
    }
   ],
   "source": [
    "def pattern9(rows):\n",
    "    \"\"\"Prints a pattern of alternating 1s and 0s\"\"\"\n",
    "    for i in range(rows):\n",
    "        for j in range(i+1):\n",
    "            if(j%2 == 0):\n",
    "                print(\"1\", end=\" \")\n",
    "            else:\n",
    "                print(\"0\", end=\" \")\n",
    "        print()\n",
    "pattern9(rows)"
   ]
  },
  {
   "cell_type": "code",
   "execution_count": 47,
   "id": "b1d1fac4-3c24-4dbd-b59f-ace6bcff2418",
   "metadata": {},
   "outputs": [
    {
     "name": "stdout",
     "output_type": "stream",
     "text": [
      "1 \n",
      "2 3 \n",
      "4 5 6 \n",
      "7 8 9 10 \n",
      "11 12 13 14 15 \n"
     ]
    }
   ],
   "source": [
    "def pattern10(rows):\n",
    "    \"\"\"Prints a pattern using numbers in a triangular shape.\"\"\"\n",
    "    num = 1\n",
    "    for i in range(rows):\n",
    "        for j in range(i + 1):\n",
    "            print(num, end=\" \")\n",
    "            num += 1\n",
    "        print()\n",
    "pattern10(rows)"
   ]
  },
  {
   "cell_type": "code",
   "execution_count": null,
   "id": "f456ff67-102c-4cd8-9e03-6b79d283dc58",
   "metadata": {},
   "outputs": [],
   "source": []
  }
 ],
 "metadata": {
  "kernelspec": {
   "display_name": "Python 3 (ipykernel)",
   "language": "python",
   "name": "python3"
  },
  "language_info": {
   "codemirror_mode": {
    "name": "ipython",
    "version": 3
   },
   "file_extension": ".py",
   "mimetype": "text/x-python",
   "name": "python",
   "nbconvert_exporter": "python",
   "pygments_lexer": "ipython3",
   "version": "3.12.4"
  }
 },
 "nbformat": 4,
 "nbformat_minor": 5
}
