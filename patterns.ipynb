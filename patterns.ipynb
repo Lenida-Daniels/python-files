{
 "cells": [
  {
   "cell_type": "markdown",
   "id": "d911dc60-b4c1-4aa9-b981-fff2b784f145",
   "metadata": {},
   "source": [
    "**RIGHT-ANGLED TRIANGLE**"
   ]
  },
  {
   "cell_type": "code",
   "execution_count": 47,
   "id": "67c1d340-dc65-46f0-b314-266a930cbdf3",
   "metadata": {},
   "outputs": [
    {
     "name": "stdout",
     "output_type": "stream",
     "text": [
      "*\n"
     ]
    }
   ],
   "source": [
    "def pattern1(rows): \n",
    "    for i in range(1):\n",
    "        print(\"*\" )\n",
    "rows=5    \n",
    "pattern1(rows) \n"
   ]
  },
  {
   "cell_type": "code",
   "execution_count": 55,
   "id": "240c96fa-ebb6-419c-a0f6-93a2124b059f",
   "metadata": {},
   "outputs": [
    {
     "name": "stdout",
     "output_type": "stream",
     "text": [
      "*\n",
      "*\n",
      "*\n",
      "*\n"
     ]
    }
   ],
   "source": [
    "def pattern1(rows): \n",
    "    for i in range(1,5):\n",
    "        print(\"*\" )\n",
    "rows=5    \n",
    "pattern1(rows) "
   ]
  },
  {
   "cell_type": "code",
   "execution_count": 43,
   "id": "96ff1aae-7574-445d-84e0-4b257ae657cb",
   "metadata": {},
   "outputs": [
    {
     "name": "stdout",
     "output_type": "stream",
     "text": [
      "*\n",
      "**\n",
      "***\n",
      "****\n"
     ]
    }
   ],
   "source": [
    "def pattern1(rows): \n",
    "     \"\"\"Prints a right-angled triangle pattern.\"\"\"\n",
    "     for i in range(1,rows):\n",
    "        print(\"*\"*i )\n",
    "rows=5    \n",
    "pattern1(rows) "
   ]
  },
  {
   "cell_type": "markdown",
   "id": "3b77d758-53b9-46b1-a950-8c24cf145e46",
   "metadata": {},
   "source": [
    "**INVERTED RIGHT-ANGLED TRIANGLE**"
   ]
  },
  {
   "cell_type": "code",
   "execution_count": 106,
   "id": "2f3837f4-5d55-4a22-8ebd-b001ec358039",
   "metadata": {},
   "outputs": [
    {
     "name": "stdout",
     "output_type": "stream",
     "text": [
      "*\n",
      "*\n",
      "*\n",
      "*\n",
      "*\n"
     ]
    }
   ],
   "source": [
    "def pattern1(rows): \n",
    "     for i in range(rows):\n",
    "        print(\"*\" )\n",
    "rows=5    \n",
    "pattern1(rows) "
   ]
  },
  {
   "cell_type": "code",
   "execution_count": 108,
   "id": "5c039545-0e2b-405c-819a-3d9bfa4b099e",
   "metadata": {},
   "outputs": [
    {
     "name": "stdout",
     "output_type": "stream",
     "text": [
      "*****\n",
      "****\n",
      "***\n",
      "**\n",
      "*\n"
     ]
    }
   ],
   "source": [
    "def pattern2(rows): \n",
    "     for i in range(rows, 0,-1):\n",
    "        print(\"*\"*i )\n",
    "rows=5    \n",
    "pattern2(rows) "
   ]
  },
  {
   "cell_type": "markdown",
   "id": "aacb234a-9027-4894-8003-1be69e0c056e",
   "metadata": {},
   "source": [
    "**PYRAMID**"
   ]
  },
  {
   "cell_type": "code",
   "execution_count": 110,
   "id": "6d78576f-1fef-4177-bdf1-4797540b8ada",
   "metadata": {},
   "outputs": [
    {
     "name": "stdout",
     "output_type": "stream",
     "text": [
      "    *\n",
      "   ***\n",
      "  *****\n",
      " *******\n"
     ]
    }
   ],
   "source": [
    "def pattern3(rows):\n",
    "    for i in range(1,rows):\n",
    "         print(\" \" * (rows-i)+\"*\"*(2*i-1))\n",
    "rows=5\n",
    "pattern3(rows)       "
   ]
  },
  {
   "cell_type": "markdown",
   "id": "ecf3147e-daf9-4ed1-b49b-39802547554c",
   "metadata": {},
   "source": [
    "**INVERTED PYRAMID**"
   ]
  },
  {
   "cell_type": "code",
   "execution_count": 112,
   "id": "dd266ca2-e1f5-45d5-bff3-8c713ec9e78d",
   "metadata": {},
   "outputs": [
    {
     "name": "stdout",
     "output_type": "stream",
     "text": [
      "*********\n",
      " *******\n",
      "  *****\n",
      "   ***\n",
      "    *\n"
     ]
    }
   ],
   "source": [
    "def pattern4(rows):\n",
    "    for i in range(rows, 0,-1):\n",
    "         print(\" \" * (rows-i)+\"*\"*(2*i-1))\n",
    "rows=5\n",
    "pattern4(rows)   "
   ]
  },
  {
   "cell_type": "markdown",
   "id": "30e0c7be-ce0f-4a55-bbef-0e753d85b2a1",
   "metadata": {},
   "source": [
    "**DIAMOND**"
   ]
  },
  {
   "cell_type": "code",
   "execution_count": 120,
   "id": "28ae31e1-41c7-4a86-870d-d00ce7a94410",
   "metadata": {},
   "outputs": [
    {
     "name": "stdout",
     "output_type": "stream",
     "text": [
      "    *\n",
      "   ***\n",
      "  *****\n",
      " *******\n",
      "*********\n",
      " *******\n",
      "  *****\n",
      "   ***\n",
      "    *\n"
     ]
    }
   ],
   "source": [
    "def pattern5(rows):\n",
    "    pattern3(rows)\n",
    "    pattern4(rows)\n",
    "pattern5(rows)    "
   ]
  },
  {
   "cell_type": "code",
   "execution_count": null,
   "id": "e2aa3658-3dd9-4abf-bff3-2adc0cdf1bcb",
   "metadata": {},
   "outputs": [],
   "source": []
  }
 ],
 "metadata": {
  "kernelspec": {
   "display_name": "Python 3 (ipykernel)",
   "language": "python",
   "name": "python3"
  },
  "language_info": {
   "codemirror_mode": {
    "name": "ipython",
    "version": 3
   },
   "file_extension": ".py",
   "mimetype": "text/x-python",
   "name": "python",
   "nbconvert_exporter": "python",
   "pygments_lexer": "ipython3",
   "version": "3.12.4"
  }
 },
 "nbformat": 4,
 "nbformat_minor": 5
}
